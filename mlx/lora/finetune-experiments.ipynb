{
 "cells": [
  {
   "cell_type": "markdown",
   "source": [
    "# Finetuning experiment: Extract structured data for German law journal editors from website text\n",
    "\n",
    "based on https://github.com/ml-explore/mlx-examples/tree/main/lora\n",
    "\n",
    "Hardware: Mac mini 2023 (M2, 16 GB RAM)"
   ],
   "metadata": {
    "collapsed": false
   },
   "id": "d6264ff5d5024ba1"
  },
  {
   "cell_type": "markdown",
   "source": [
    "## Preparation\n",
    "\n",
    "### Download website data\n",
    "\n",
    "This only downloads new content if the list of journals has been changed or already downloaded files have been deleted. To overwrite existing files, use `overwrite=True`"
   ],
   "metadata": {
    "collapsed": false
   },
   "id": "1135fbc8a6ced279"
  },
  {
   "cell_type": "code",
   "execution_count": 2,
   "outputs": [
    {
     "data": {
      "text/plain": "Downloading Content:   0%|          | 0/130 [00:00<?, ?it/s]",
      "application/vnd.jupyter.widget-view+json": {
       "version_major": 2,
       "version_minor": 0,
       "model_id": "7470149ad0534f15bc7158770475355c"
      }
     },
     "metadata": {},
     "output_type": "display_data"
    },
    {
     "name": "stdout",
     "output_type": "stream",
     "text": [
      "Downloaded 0 web pages.\n"
     ]
    }
   ],
   "source": [
    "from lib.prepare_training_data import download_input_data\n",
    "download_input_data(input_file='data/editors.csv', \n",
    "                    output_dir='data/website-data', \n",
    "                    overwrite=False)"
   ],
   "metadata": {
    "collapsed": false,
    "ExecuteTime": {
     "end_time": "2024-02-28T09:49:56.822042Z",
     "start_time": "2024-02-28T09:49:56.780283Z"
    }
   },
   "id": "9eb2effc7bfb22f"
  },
  {
   "cell_type": "markdown",
   "source": [
    "### Prompt and test data for all experiments\n"
   ],
   "metadata": {
    "collapsed": false
   },
   "id": "434335a9891b27e7"
  },
  {
   "cell_type": "code",
   "execution_count": 1,
   "outputs": [],
   "source": [
    "system_message =\"\"\"\n",
    "You are a text processing agent. As instructed below, extract information from the provided content in a structured format without discussing reasoning or providing commentary. Only use source text given as input for data extraction unless specifically asked for inference.\n",
    "\"\"\"\n",
    "\n",
    "instruction = \"\"\"\n",
    "Analyze content from a German law journal's website. Your task is to identify members of the editorial board (terms to look for: 'Herausgeber', 'Redakteur', 'Schriftleitung') and the advisory board ('Beirat'). For each identified member, extract and organize their information into the following categories: lastname, firstname, title (including academic titles like 'Dr.' or 'Prof. Dr.' and suffixes such as 'LL.M.'), position (their job title, if provided), affiliation, and role. For 'role', infer the role within the journal from the context (options 'Herausgeber', 'Redaktion', 'Schriftleitung', 'Beirat', or an empty string if the role is unknown).\n",
    "\n",
    "- Format the output as a YAML list of dictionaries.\n",
    "- Exclude any dictionary entries for which information is not available or relevant fields are empty.\n",
    "- Ensure the YAML output is strictly valid. It must be a list of dictionaries. \n",
    "\"\"\"\n",
    "\n",
    "example = \"\"\"\n",
    "Here is an example:\n",
    "\n",
    "```yaml\n",
    "- lastname: Mustermann\n",
    "  firstname: Martina\n",
    "  title: Dr.\n",
    "  position: Vorsitzender Richterin\n",
    "  affiliation: Oberlandesgericht Buxtehude\n",
    "  role: Herausgeber\n",
    "```\n",
    "\"\"\"\n",
    "\n",
    "epilog=\"\"\"\n",
    "Adhere to these guidelines to efficiently and accurately process the following content:\"\n",
    "\"\"\"\n",
    "\n",
    "test_data = \"\"\"\n",
    "Herausgeber:\n",
    "Prof. Dr. Stefan Knesebeck, Universität Wuppertal\n",
    "Prof. Dr. Dr. h.c. Fritz M. Müller LL.M.(Yale), Universität Wanne-Eickel\n",
    "RA Prof. Dr. Vera Valentin, Hochschule für Recht und Sport Edingen\n",
    "Prof. Dr. Dr. h.c. Rita Rosenbaum, Universität Tupfingen\n",
    "Dr. Ingo Gonzalo de Sanchez, Vorsitzender Richter am Oberlandesgericht Rostock\n",
    "Redaktion:\n",
    "RA Adam Gengelbach, Unterhachingen\n",
    "Ass. iur. Petra Priem, Herrenchiemsee\n",
    "\"\"\"\n"
   ],
   "metadata": {
    "collapsed": false,
    "ExecuteTime": {
     "end_time": "2024-03-01T08:54:54.448616Z",
     "start_time": "2024-03-01T08:54:54.441906Z"
    }
   },
   "id": "b4be7c0872d2fd34"
  },
  {
   "cell_type": "markdown",
   "source": [
    "## mistralai/Mistral-7B-v0.2"
   ],
   "metadata": {
    "collapsed": false
   },
   "id": "a9dff0d6c779882c"
  },
  {
   "cell_type": "markdown",
   "source": [
    "### Generate training, testing and validation files"
   ],
   "metadata": {
    "collapsed": false
   },
   "id": "30521e178126b249"
  },
  {
   "cell_type": "code",
   "execution_count": 2,
   "outputs": [
    {
     "name": "stdout",
     "output_type": "stream",
     "text": [
      "Length of generated sequences:\n",
      " - max: 5550\n",
      " - avg: 2259.182608695652\n",
      "Longest sequences:\n",
      "DivRuW: 5550\n",
      "JurBüro: 5051\n",
      "AVR: 4366\n",
      "APR: 4350\n",
      "AusR: 4244\n",
      "BKK: 4078\n",
      "DÖD: 3818\n",
      "EuZW: 3786\n",
      "HRN: 3467\n",
      "AuAS: 3272\n"
     ]
    }
   ],
   "source": [
    "from lib.prepare_training_data import create_training_file\n",
    "import sys\n",
    "\n",
    "mistral_ft_instruction = f\"\"\"\n",
    "# instruction\n",
    "{system_message}\n",
    "# user\n",
    "{instruction}\n",
    "{epilog}\n",
    "# content\n",
    "\"\"\"\n",
    "\n",
    "# the template function receives the instruction, the content to be analyzed, and the expected answer\n",
    "def template_fn(instruction: str, content: str, answer: str):\n",
    "    return f'<s>[INST]{instruction}{content}[/INST]{answer}</s>'\n",
    "\n",
    "create_training_file(instruction=mistral_ft_instruction,\n",
    "                     template_func=template_fn,\n",
    "                     input_file='data/editors/editors.csv', \n",
    "                     output_dir='data/editors/mistral', \n",
    "                     content_dir='data/editors/website-data',\n",
    "                     max_chars=6000, max_gt_items=5,\n",
    "                     record_identifier_col=\"journal_abbr\",\n",
    "                     cols_to_remove = ['journal_abbr', 'website', 'retrieved_on'],\n",
    "                     column_to_filter_by='lastname',\n",
    "                     lines_before=2, lines_after=2)"
   ],
   "metadata": {
    "collapsed": false,
    "ExecuteTime": {
     "end_time": "2024-03-01T08:54:57.837466Z",
     "start_time": "2024-03-01T08:54:56.039305Z"
    }
   },
   "id": "31a2389404720256"
  },
  {
   "cell_type": "code",
   "execution_count": 3,
   "outputs": [
    {
     "name": "stdout",
     "output_type": "stream",
     "text": [
      "\n",
      "# instruction\n",
      "\n",
      "You are a text processing agent. As instructed below, extract information from the provided content in a structured format without discussing reasoning or providing commentary. Only use source text given as input for data extraction unless specifically asked for inference.\n",
      "\n",
      "# user\n",
      "\n",
      "Analyze content from a German law journal's website. Your task is to identify members of the editorial board (terms to look for: 'Herausgeber', 'Redakteur', 'Schriftleitung') and the advisory board ('Beirat'). For each identified member, extract and organize their information into the following categories: lastname, firstname, title (including academic titles like 'Dr.' or 'Prof. Dr.' and suffixes such as 'LL.M.'), position (their job title, if provided), affiliation, and role. For 'role', infer the role within the journal from the context (options 'Herausgeber', 'Redaktion', 'Schriftleitung', 'Beirat', or an empty string if the role is unknown).\n",
      "\n",
      "- Format the output as a YAML list of dictionaries.\n",
      "- Exclude any dictionary entries for which information is not available or relevant fields are empty.\n",
      "- Ensure the YAML output is strictly valid. It must be a list of dictionaries. \n",
      "\n",
      "\n",
      "Adhere to these guidelines to efficiently and accurately process the following content:\"\n",
      "\n",
      "# content\n"
     ]
    }
   ],
   "source": [
    "print(mistral_ft_instruction)"
   ],
   "metadata": {
    "collapsed": false,
    "ExecuteTime": {
     "end_time": "2024-03-01T08:54:59.410535Z",
     "start_time": "2024-03-01T08:54:59.402009Z"
    }
   },
   "id": "6181ba9486346975"
  },
  {
   "cell_type": "code",
   "execution_count": 4,
   "outputs": [
    {
     "name": "stdout",
     "output_type": "stream",
     "text": [
      "HF_MODEL_PATH=mistralai/Mistral-7B-Instruct-v0.2\n",
      "LOCAL_MODEL_PATH=mlx_models/mistralai/Mistral-7B-Instruct-v0.2\n"
     ]
    }
   ],
   "source": [
    "import os\n",
    "HF_MODEL_PATH = 'mistralai/Mistral-7B-Instruct-v0.2'\n",
    "LOCAL_MODEL_PATH = f'mlx_models/{HF_MODEL_PATH}'\n",
    "os.environ['HF_MODEL_PATH'] = HF_MODEL_PATH\n",
    "os.environ['LOCAL_MODEL_PATH'] = LOCAL_MODEL_PATH\n",
    "print(f\"\"\"\n",
    "HF_MODEL_PATH={HF_MODEL_PATH}\n",
    "LOCAL_MODEL_PATH={LOCAL_MODEL_PATH}\n",
    "\"\"\".strip())\n"
   ],
   "metadata": {
    "collapsed": false,
    "ExecuteTime": {
     "end_time": "2024-03-01T08:55:33.087209Z",
     "start_time": "2024-03-01T08:55:33.080961Z"
    }
   },
   "id": "203bf0c10dd860a5"
  },
  {
   "cell_type": "markdown",
   "source": [
    "### Create a 4-Bit quantized model if necessary"
   ],
   "metadata": {
    "collapsed": false
   },
   "id": "a52bdff5b0eae3bd"
  },
  {
   "cell_type": "code",
   "execution_count": 20,
   "outputs": [],
   "source": [
    "![ -d \"$LOCAL_MODEL_PATH\" ] || python convert.py --hf-path \"$HF_MODEL_PATH\" --mlx-path \"$LOCAL_MODEL_PATH\" -q"
   ],
   "metadata": {
    "collapsed": false,
    "ExecuteTime": {
     "end_time": "2024-03-01T06:51:00.898588Z",
     "start_time": "2024-03-01T06:51:00.764741Z"
    }
   },
   "id": "fdb9ec6772be0c23"
  },
  {
   "cell_type": "markdown",
   "source": [
    "### Finetuning"
   ],
   "metadata": {
    "collapsed": false
   },
   "id": "8c46d1d132de28c3"
  },
  {
   "cell_type": "code",
   "execution_count": null,
   "outputs": [],
   "source": [
    "!python lora.py --train \\\n",
    "    --model \"$LOCAL_MODEL_PATH\" \\\n",
    "    --data data/editors/mistral \\\n",
    "    --adapter-file \"$LOCAL_MODEL_PATH/editors.npz\" \\\n",
    "    --iters 600 --batch-size 1 --lora-layers 4 "
   ],
   "metadata": {
    "collapsed": false
   },
   "id": "fd1a48e84474aaea"
  },
  {
   "cell_type": "markdown",
   "source": [
    "To run in a separate shell:"
   ],
   "metadata": {
    "collapsed": false
   },
   "id": "4945c07efbb3b4e8"
  },
  {
   "cell_type": "code",
   "execution_count": 5,
   "outputs": [
    {
     "name": "stdout",
     "output_type": "stream",
     "text": [
      "cd mlx/lora\n",
      "python lora.py --train \\\n",
      "    --model mlx_models/mistralai/Mistral-7B-Instruct-v0.2 \\\n",
      "    --data data/editors/mistral \\\n",
      "    --adapter-file mlx_models/mistralai/Mistral-7B-Instruct-v0.2/editors.npz \\\n",
      "    --iters 600 --batch-size 1 --lora-layers 4\n"
     ]
    }
   ],
   "source": [
    "print(f\"\"\"\n",
    "cd mlx/lora\n",
    "python lora.py --train \\\\\n",
    "    --model {LOCAL_MODEL_PATH} \\\\\n",
    "    --data data/editors/mistral \\\\\n",
    "    --adapter-file {LOCAL_MODEL_PATH}/editors.npz \\\\\n",
    "    --iters 600 --batch-size 1 --lora-layers 4 \n",
    "\"\"\".strip())"
   ],
   "metadata": {
    "collapsed": false,
    "ExecuteTime": {
     "end_time": "2024-03-01T08:56:05.078068Z",
     "start_time": "2024-03-01T08:56:05.068770Z"
    }
   },
   "id": "dc9af052b1e9a9e4"
  },
  {
   "cell_type": "markdown",
   "source": [
    "Training loss: ~0.8, ~90 Tokens/sec "
   ],
   "metadata": {
    "collapsed": false
   },
   "id": "2f3bb7b9404da7e7"
  },
  {
   "cell_type": "markdown",
   "source": [
    "### Test the model with adapter"
   ],
   "metadata": {
    "collapsed": false
   },
   "id": "27ec240d6a886b16"
  },
  {
   "cell_type": "code",
   "execution_count": 8,
   "outputs": [
    {
     "name": "stderr",
     "output_type": "stream",
     "text": [
      "python(39031) MallocStackLogging: can't turn off malloc stack logging because it was not enabled.\n"
     ]
    },
    {
     "name": "stdout",
     "output_type": "stream",
     "text": [
      "Testing\r\n",
      "Test loss 0.800, Test ppl 2.226.\r\n"
     ]
    }
   ],
   "source": [
    "os.environ['TOKENIZERS_PARALLELISM'] = 'false'\n",
    "!python lora.py --test \\\n",
    "    --model mlx_models/mistralai/Mistral-7B-Instruct-v0.2 \\\n",
    "    --data data/editors/mistral \\\n",
    "    --adapter-file mlx_models/mistralai/Mistral-7B-Instruct-v0.2/editors.npz"
   ],
   "metadata": {
    "collapsed": false,
    "ExecuteTime": {
     "end_time": "2024-03-01T11:01:07.398754Z",
     "start_time": "2024-03-01T10:54:10.548652Z"
    }
   },
   "id": "a66ab3a823260361"
  },
  {
   "cell_type": "markdown",
   "source": [
    "Result:\n",
    " 600 iters: Test loss 0.800, Test ppl 2.226\n"
   ],
   "metadata": {
    "collapsed": false
   },
   "id": "3bab8168bd116d38"
  },
  {
   "cell_type": "markdown",
   "source": [
    "### Manual test prompt"
   ],
   "metadata": {
    "collapsed": false
   },
   "id": "c7e42a5574068ba9"
  },
  {
   "cell_type": "code",
   "execution_count": 9,
   "outputs": [],
   "source": [
    "prompt=f\"\"\"\n",
    "### SYSTEM\n",
    "{system_message}\n",
    "### USER\n",
    "{instruction}\n",
    "{example}\n",
    "### CONTENT\n",
    "{test_data}\n",
    "### END OF CONTENT\n",
    "\"\"\".strip()"
   ],
   "metadata": {
    "collapsed": false,
    "ExecuteTime": {
     "end_time": "2024-03-01T11:02:00.768988Z",
     "start_time": "2024-03-01T11:02:00.736721Z"
    }
   },
   "id": "8d316a1e7570f1d4"
  },
  {
   "cell_type": "code",
   "execution_count": 10,
   "outputs": [
    {
     "name": "stdout",
     "output_type": "stream",
     "text": [
      "### SYSTEM\n",
      "\n",
      "You are a text processing agent. As instructed below, extract information from the provided content in a structured format without discussing reasoning or providing commentary. Only use source text given as input for data extraction unless specifically asked for inference.\n",
      "\n",
      "### USER\n",
      "\n",
      "Analyze content from a German law journal's website. Your task is to identify members of the editorial board (terms to look for: 'Herausgeber', 'Redakteur', 'Schriftleitung') and the advisory board ('Beirat'). For each identified member, extract and organize their information into the following categories: lastname, firstname, title (including academic titles like 'Dr.' or 'Prof. Dr.' and suffixes such as 'LL.M.'), position (their job title, if provided), affiliation, and role. For 'role', infer the role within the journal from the context (options 'Herausgeber', 'Redaktion', 'Schriftleitung', 'Beirat', or an empty string if the role is unknown).\n",
      "\n",
      "- Format the output as a YAML list of dictionaries.\n",
      "- Exclude any dictionary entries for which information is not available or relevant fields are empty.\n",
      "- Ensure the YAML output is strictly valid. It must be a list of dictionaries. \n",
      "\n",
      "\n",
      "Here is an example:\n",
      "\n",
      "```yaml\n",
      "- lastname: Mustermann\n",
      "  firstname: Martina\n",
      "  title: Dr.\n",
      "  position: Vorsitzender Richterin\n",
      "  affiliation: Oberlandesgericht Buxtehude\n",
      "  role: Herausgeber\n",
      "```\n",
      "\n",
      "### CONTENT\n",
      "\n",
      "Herausgeber:\n",
      "Prof. Dr. Stefan Knesebeck, Universität Wuppertal\n",
      "Prof. Dr. Dr. h.c. Fritz M. Müller LL.M.(Yale), Universität Wanne-Eickel\n",
      "RA Prof. Dr. Vera Valentin, Hochschule für Recht und Sport Edingen\n",
      "Prof. Dr. Dr. h.c. Rita Rosenbaum, Universität Tupfingen\n",
      "Dr. Ingo Gonzalo de Sanchez, Vorsitzender Richter am Oberlandesgericht Rostock\n",
      "Redaktion:\n",
      "RA Adam Gengelbach, Unterhachingen\n",
      "Ass. iur. Petra Priem, Herrenchiemsee\n",
      "\n",
      "### END OF CONTENT\n"
     ]
    }
   ],
   "source": [
    "print(prompt)"
   ],
   "metadata": {
    "collapsed": false,
    "ExecuteTime": {
     "end_time": "2024-03-01T11:02:02.619009Z",
     "start_time": "2024-03-01T11:02:02.611281Z"
    }
   },
   "id": "3e7a823a9f4a35d9"
  },
  {
   "cell_type": "code",
   "execution_count": 11,
   "outputs": [
    {
     "name": "stderr",
     "output_type": "stream",
     "text": [
      "python(39255) MallocStackLogging: can't turn off malloc stack logging because it was not enabled.\n"
     ]
    },
    {
     "name": "stdout",
     "output_type": "stream",
     "text": [
      "\r\n",
      "\r\n",
      "- lastname: Knesebeck\r\n",
      "  firstname: Stefan\r\n",
      "  title: Prof. Dr.\r\n",
      "  position: Universität Wuppertal\r\n",
      "  affiliation: Universität Wuppertal\r\n",
      "  role: Herausgeber\r\n",
      "- lastname: Müller\r\n",
      "  firstname: Fritz M.\r\n",
      "  title: Prof. Dr. Dr. h.c. LL.M.(Yale)\r\n",
      "  position: Universität Wanne-Eickel\r\n",
      "  affiliation: Universität Wanne-Eickel\r\n",
      "  role: Herausgeber\r\n",
      "- lastname: Valentin\r\n",
      "  firstname: Vera\r\n",
      "  title: Prof. Dr.\r\n",
      "  position: Hochschule für Recht und Sport Edingen\r\n",
      "  affiliation: Hochschule für Recht und Sport Edingen\r\n",
      "  role: Redaktion\r\n",
      "- lastname: Rosenbaum\r\n",
      "  firstname: Rita\r\n",
      "  title: Prof. Dr. Dr. h.c.\r\n",
      "  position: Universität Tupfingen\r\n",
      "  affiliation: Universität Tupfingen\r\n",
      "  role: Herausgeber\r\n",
      "- lastname: Gonzalo de Sanchez\r\n",
      "  firstname: Ingo\r\n",
      "  title: Dr.\r\n",
      "  position: Vorsitzender Richter am Oberlandesgericht Rostock\r\n",
      "  affiliation: Oberlandesgericht Rostock\r\n",
      "  role: Herausgeber\r\n",
      "- lastname: Gengelbach\r\n",
      "  firstname: Adam\r\n",
      "  title: RA\r\n",
      "  position: Unterhachingen\r\n",
      "  affiliation: Unterhachingen\r\n",
      "  role: Redaktion\r\n",
      "- lastname: Priem\r\n",
      "  firstname: Petra\r\n",
      "  title: Ass. iur.\r\n",
      "  position: Herrenchiemsee\r\n",
      "  affiliation: Herrenchiemsee\r\n",
      "  role: Redaktion\r\n",
      "Generation took 87.13131785392761 seconds\n"
     ]
    }
   ],
   "source": [
    "import os\n",
    "import time\n",
    "os.environ['LLM_PROMPT'] = prompt\n",
    "os.environ['TOKENIZERS_PARALLELISM'] = 'false'\n",
    "start_time = time.time()\n",
    "!python lora.py \\\n",
    "    --model mlx_models/mistralai/Mistral-7B-Instruct-v0.2 \\\n",
    "    --adapter-file mlx_models/mistralai/Mistral-7B-Instruct-v0.2/editors.npz \\\n",
    "    --max-tokens 400 \\\n",
    "    --temp 0 \\\n",
    "    --prompt \"$LLM_PROMPT\"\n",
    "print(f'Generation took {time.time() - start_time} seconds')"
   ],
   "metadata": {
    "collapsed": false,
    "ExecuteTime": {
     "end_time": "2024-03-01T11:03:35.866850Z",
     "start_time": "2024-03-01T11:02:08.711417Z"
    }
   },
   "id": "1ea4b39f35c09268"
  },
  {
   "cell_type": "markdown",
   "source": [
    "## mlx-community/quantized-gemma-7b-it\n",
    "\n",
    "This model can be directly downloaded from HF, no conversion necessary"
   ],
   "metadata": {
    "collapsed": false
   },
   "id": "d1b0c8c8648906b7"
  },
  {
   "cell_type": "markdown",
   "source": [
    "### Zero-shot"
   ],
   "metadata": {
    "collapsed": false
   },
   "id": "7c5659b8c268e72f"
  },
  {
   "cell_type": "code",
   "execution_count": 15,
   "outputs": [
    {
     "data": {
      "text/plain": "Fetching 8 files:   0%|          | 0/8 [00:00<?, ?it/s]",
      "application/vnd.jupyter.widget-view+json": {
       "version_major": 2,
       "version_minor": 0,
       "model_id": "bae72524d20d4664976cf6a661221488"
      }
     },
     "metadata": {},
     "output_type": "display_data"
    },
    {
     "name": "stdout",
     "output_type": "stream",
     "text": [
      "\n",
      "Schriftleitung:\n",
      "Dr. Martin Schmidt, Berlin\n",
      "Beirat:\n",
      "Dr. Hans-Peter Kaulitz, Berlin\n",
      "Dr. Franz-Josef Schmidt, München\n",
      "\n",
      "```\n",
      "\n",
      "**Expected Output:**\n",
      "\n",
      "```yaml\n",
      "- lastname: Knesebeck\n",
      "  firstname: Stefan\n",
      "  title: Prof. Dr.\n",
      "  position: N/A\n",
      "  affiliation: Universität Wuppertal\n",
      "  role: Herausgeber\n",
      "\n",
      "- lastname: Müller\n",
      "  firstname: Fritz M.\n",
      "  title: Prof. Dr. Dr. h.c. LL.M.(Yale)\n",
      "  position: N/A\n",
      "  affiliation: Universität Wanne-Eickel\n",
      "  role: Herausgeber\n",
      "\n",
      "- lastname: Valentin\n",
      "  firstname: Vera\n",
      "  title: RA Prof. Dr.\n",
      "  position: N/A\n",
      "  affiliation: Hochschule für Recht und Sport Edingen\n",
      "  role: N/A\n",
      "\n",
      "- lastname: Rosenbaum\n",
      "  firstname: Rita\n",
      "  title: Prof. Dr. Dr. h.c.\n",
      "  position: N/A\n",
      "  affiliation: Universität Tupfingen\n",
      "  role: N/A\n",
      "\n",
      "- lastname: Gonzalo de Sanchez\n",
      "  firstname: Ingo\n",
      "  title: Dr.\n",
      "  position: Vorsitzender Richter am Oberlandesgericht Rostock\n",
      "  affiliation: Oberlandesgericht Rostock\n",
      "  role: N/A\n",
      "\n",
      "- lastname: Gengelbach\n",
      "  firstname: Adam\n",
      "  title: RA\n",
      "  position: N/A\n",
      "Generation took 50.564462184906006 seconds\n"
     ]
    }
   ],
   "source": [
    "from mlx_lm import load, generate\n",
    "import time\n",
    "\n",
    "os.environ['TOKENIZERS_PARALLELISM'] = 'false'\n",
    "prompt = f\"\"\"\n",
    "#### instructions\n",
    "{system_message}\n",
    "### user\n",
    "{instruction}\n",
    "{example}\n",
    "{epilog}\n",
    "\n",
    "{test_data}\n",
    "\n",
    "\"\"\".strip()\n",
    "\n",
    "model, tokenizer = load(\"mlx-community/quantized-gemma-7b-it\")\n",
    "start_time = time.time()\n",
    "response = generate(model, tokenizer, prompt=prompt, verbose=False, max_tokens=300, temp=0)\n",
    "print(response)\n",
    "print(f'Generation took {time.time() - start_time} seconds')\n"
   ],
   "metadata": {
    "collapsed": false,
    "ExecuteTime": {
     "end_time": "2024-03-01T11:12:27.907289Z",
     "start_time": "2024-03-01T11:11:27.618623Z"
    }
   },
   "id": "89e1a05fc3b6e435"
  },
  {
   "cell_type": "markdown",
   "source": [
    "### Generate training, testing and validation files\n",
    "\n",
    "based on https://gist.github.com/alexweberk/635431b5c5773efd6d1755801020429f"
   ],
   "metadata": {
    "collapsed": false
   },
   "id": "e48938d56b99848c"
  },
  {
   "cell_type": "code",
   "execution_count": 24,
   "outputs": [
    {
     "name": "stdout",
     "output_type": "stream",
     "text": [
      "Length of generated sequences:\n",
      " - max: 5107\n",
      " - avg: 1976.0964912280701\n",
      "Longest sequences:\n",
      "FoR: 5107\n",
      "DivRuW: 5097\n",
      "AfP: 4519\n",
      "StAZ: 4418\n",
      "DÖD: 4220\n",
      "ECFR: 3519\n",
      "APR: 3445\n",
      "CB: 3387\n",
      "AuA: 3317\n",
      "HRN: 3128\n"
     ]
    }
   ],
   "source": [
    "from lib.prepare_training_data import create_training_file\n",
    "\n",
    "prompt = f\"\"\"\n",
    "# instructions\n",
    "{system_message}\n",
    "# user\n",
    "{instruction}\n",
    "{epilog}'\n",
    "\"\"\".strip()\n",
    "\n",
    "def template_fn(prompt: str, answer: str):\n",
    "    return f'<bos><start_of_turn>user\\n{prompt}<end_of_turn>\\n<start_of_turn>model\\n{answer}<end_of_turn><eos>'\n",
    "\n",
    "create_training_file(instruction=instruction,\n",
    "                     template_func=template_fn,\n",
    "                     input_file='data/editors/editors.csv',\n",
    "                     output_dir='data/editors-gemma',\n",
    "                     content_dir='data/editors/website-data',\n",
    "                     max_chars=6000, max_gt_items=5,\n",
    "                     record_identifier_col=\"journal_abbr\",\n",
    "                     cols_to_remove=['journal_abbr', 'website', 'retrieved_on'],\n",
    "                     column_to_filter_by='lastname',\n",
    "                     lines_before=2, lines_after=2)"
   ],
   "metadata": {
    "collapsed": false,
    "ExecuteTime": {
     "end_time": "2024-03-01T08:11:37.452870Z",
     "start_time": "2024-03-01T08:11:32.919339Z"
    }
   },
   "id": "8d61e8cf63aa5965"
  },
  {
   "cell_type": "code",
   "execution_count": null,
   "outputs": [],
   "source": [],
   "metadata": {
    "collapsed": false
   },
   "id": "db51ef32ff18dff3"
  }
 ],
 "metadata": {
  "kernelspec": {
   "display_name": "Python 3",
   "language": "python",
   "name": "python3"
  },
  "language_info": {
   "codemirror_mode": {
    "name": "ipython",
    "version": 2
   },
   "file_extension": ".py",
   "mimetype": "text/x-python",
   "name": "python",
   "nbconvert_exporter": "python",
   "pygments_lexer": "ipython2",
   "version": "2.7.6"
  }
 },
 "nbformat": 4,
 "nbformat_minor": 5
}
