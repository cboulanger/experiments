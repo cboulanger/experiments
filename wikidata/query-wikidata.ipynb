{
 "cells": [
  {
   "cell_type": "code",
   "execution_count": 20,
   "id": "initial_id",
   "metadata": {
    "collapsed": true,
    "ExecuteTime": {
     "end_time": "2024-03-11T17:38:32.545716600Z",
     "start_time": "2024-03-11T17:38:32.539202500Z"
    }
   },
   "outputs": [],
   "source": [
    "import os.path\n",
    "import requests\n",
    "import pandas as pd\n",
    "import textwrap\n",
    "\n",
    "def generate_sparql_query(fullName, property_labels_to_ids, language='en', qid=None):\n",
    "    \"\"\"\n",
    "    Query WikiData for the properties of the given person listed in the given property map,\n",
    "    either by fullName or QID. When a QID is provided, ?itemLabel is not included in the query.\n",
    "    :param fullName: Name of the person to query\n",
    "    :param property_labels_to_ids: Dictionary mapping property labels to WikiData property IDs\n",
    "    :param language: Language code for the query results\n",
    "    :param qid: WikiData entity ID (QID) for the person\n",
    "    :return: SPARQL query string\n",
    "    \"\"\"\n",
    "    propSelection = \"\"\n",
    "    for label, pid in property_labels_to_ids.items():\n",
    "        if label.endswith(\"_id\") or label.startswith(\"image\") or label.startswith(\"date\"):\n",
    "            propSelection += f\"\"\"\n",
    "                OPTIONAL {{ ?item wdt:{pid} ?{label}. }}\"\"\"\n",
    "        else:\n",
    "            propSelection += f\"\"\"\n",
    "                OPTIONAL {{ ?item wdt:{pid} ?{label}Id . ?{label}Id rdfs:label ?{label} FILTER(LANG(?{label}) = \"{language}\") . }}\"\"\"\n",
    "\n",
    "    if qid:\n",
    "        selectClause = \"SELECT DISTINCT ?item\"\n",
    "        itemConstraint = f\"BIND(wd:{qid} AS ?item).\"\n",
    "        groupByClause = \"GROUP BY ?item\"\n",
    "    else:\n",
    "        selectClause = \"SELECT DISTINCT ?item ?itemLabel\"\n",
    "        selectClause += \"\\n    \".join([f\"(SAMPLE(?{label}) AS ?{label})\" for label in property_labels_to_ids.keys()])\n",
    "        itemConstraint = f'?item wdt:P31 wd:Q5; rdfs:label \"{fullName}\"@{language} .'\n",
    "        groupByClause = \"GROUP BY ?item ?itemLabel\"\n",
    "    \n",
    "    query = textwrap.dedent(f\"\"\"\n",
    "    {selectClause} \n",
    "    WHERE {{\n",
    "        {itemConstraint}\n",
    "        {propSelection}\n",
    "    }}\n",
    "    {groupByClause}\n",
    "    \"\"\")\n",
    "\n",
    "    return query\n",
    "\n",
    "\n",
    "\n",
    "def construct_image_url(filename):\n",
    "    return f\"https://commons.wikimedia.org/wiki/Special:FilePath/{requests.utils.quote(filename)}\"\n",
    "\n",
    "\n",
    "\n",
    "def query_wikidata(fullName, property_map, language='en', qid=None):\n",
    "    SPARQL_ENDPOINT = \"https://query.wikidata.org/sparql\"\n",
    "    query = generate_sparql_query(fullName, property_map, language, qid=qid)\n",
    "    headers = {'User-Agent': 'Mozilla/5.0', 'Accept': 'application/json'}\n",
    "    response = requests.get(SPARQL_ENDPOINT, headers=headers, params={'query': query, 'format': 'json'})\n",
    "\n",
    "    if response.status_code != 200:\n",
    "        print(query)\n",
    "        response.raise_for_status()\n",
    "        \n",
    "    results = response.json()['results']['bindings']\n",
    "    \n",
    "    if not results:\n",
    "        return []\n",
    "\n",
    "    for i, result in enumerate(results):\n",
    "        # Initialize with fullName to ensure it appears first\n",
    "        data = {\n",
    "            'fullName': fullName\n",
    "        }\n",
    "   \n",
    "        for label in property_map:\n",
    "            if label in result:\n",
    "                value = result[label]['value']\n",
    "                data[label] = value\n",
    "            else:\n",
    "                data[label] = None\n",
    "                \n",
    "        # add item URI\n",
    "        data['qid'] = os.path.basename(result['item']['value'])\n",
    "        results[i] = data\n",
    "            \n",
    "    return results\n",
    "\n",
    "def get_wikipedia_links(qid, languages):\n",
    "    \"\"\"\n",
    "    Fetch Wikipedia links for a given Wikidata QID and a list of languages.\n",
    "\n",
    "    Parameters:\n",
    "    - qid (str): The QID of the Wikidata item.\n",
    "    - languages (list): A list of language codes (e.g., ['en', 'de']).\n",
    "\n",
    "    Returns:\n",
    "    - dict: A dictionary with languages as keys and Wikipedia URLs as values.\n",
    "    \"\"\"\n",
    "    url = \"https://www.wikidata.org/w/api.php\"\n",
    "    params = {\n",
    "        \"action\": \"wbgetentities\",\n",
    "        \"ids\": qid,\n",
    "        \"props\": \"sitelinks/urls\",\n",
    "        \"format\": \"json\"\n",
    "    }\n",
    "\n",
    "    response = requests.get(url, params=params)\n",
    "    data = response.json()\n",
    "\n",
    "    links = {}\n",
    "    if \"entities\" in data and qid in data[\"entities\"]:\n",
    "        sitelinks = data[\"entities\"][qid].get(\"sitelinks\", {})\n",
    "        for lang in languages:\n",
    "            sitekey = f\"{lang}wiki\"\n",
    "            if sitekey in sitelinks:\n",
    "                # Use the 'title' key and construct the URL manually\n",
    "                title = sitelinks[sitekey][\"title\"]\n",
    "                links[lang] = f\"https://{lang}.wikipedia.org/wiki/{requests.utils.quote(title)}\"\n",
    "            else:\n",
    "                links[lang] = None  # Or use '' to represent absence of link\n",
    "\n",
    "    return links\n",
    "\n",
    "\n",
    "def get_person_info_from_wikidata(names, property_map, languages=None):\n",
    "    if languages is None:\n",
    "        languages = ['en', 'de']\n",
    "    all_data = []\n",
    "    print('Retrieving scholar data...')\n",
    "    for item in names:\n",
    "        if type(item) is tuple:\n",
    "            results = query_wikidata(item[0], property_map, languages[0], qid=item[1])\n",
    "        else:\n",
    "            results = query_wikidata(item, property_map, languages[0])\n",
    "        \n",
    "        all_data += results\n",
    "    if len(all_data) > 0:\n",
    "        # Ensure fullName appears first by reordering columns based on property_labels_to_ids keys\n",
    "        columns_order = ['fullName', 'qid'] + list(property_map.keys())\n",
    "        df = pd.DataFrame(all_data, columns=columns_order)\n",
    "        \n",
    "        # Add wikipedia links\n",
    "        print(\"Retrieving wikipedia URLs\")\n",
    "        for language in languages:\n",
    "            df[f'wikipedia_{language}'] = df.apply(lambda r: get_wikipedia_links(r['qid'], language).get(language), axis=1)\n",
    "    else:\n",
    "        df = pd.DataFrame(columns=['fullName'] + list(property_map.keys()) + [f'wikipedia_{language}'])\n",
    "    return df"
   ]
  },
  {
   "cell_type": "code",
   "execution_count": 22,
   "outputs": [
    {
     "name": "stdout",
     "output_type": "stream",
     "text": [
      "Retrieving scholar data...\n"
     ]
    },
    {
     "ename": "ConnectionError",
     "evalue": "HTTPSConnectionPool(host='query.wikidata.org', port=443): Max retries exceeded with url: /sparql?query=%0ASELECT+DISTINCT+%3Fitem+%3FitemLabel%28SAMPLE%28%3FsexOrGender%29+AS+%3FsexOrGender%29%0A%28SAMPLE%28%3FcountryOfCitizenship%29+AS+%3FcountryOfCitizenship%29%0A%28SAMPLE%28%3FgivenName%29+AS+%3FgivenName%29%0A%28SAMPLE%28%3FfamilyName%29+AS+%3FfamilyName%29%0A%28SAMPLE%28%3FdateOfBirth%29+AS+%3FdateOfBirth%29%0A%28SAMPLE%28%3FdateOfDeath%29+AS+%3FdateOfDeath%29%0A%28SAMPLE%28%3Foccupation%29+AS+%3Foccupation%29%0A%28SAMPLE%28%3FfieldOfWork%29+AS+%3FfieldOfWork%29%0A%28SAMPLE%28%3Fviaf_id%29+AS+%3Fviaf_id%29%0A%28SAMPLE%28%3Fisni_id%29+AS+%3Fisni_id%29%0A%28SAMPLE%28%3Fgnd_id%29+AS+%3Fgnd_id%29+%0AWHERE+%7B%0A++++%3Fitem+wdt%3AP31+wd%3AQ5%3B+rdfs%3Alabel+%22Theodor+Geiger%22%40en+.%0A%0A++++++++++++OPTIONAL+%7B+%3Fitem+wdt%3AP21+%3FsexOrGenderId+.+%3FsexOrGenderId+rdfs%3Alabel+%3FsexOrGender+FILTER%28LANG%28%3FsexOrGender%29+%3D+%22en%22%29+.+%7D%0A++++++++++++OPTIONAL+%7B+%3Fitem+wdt%3AP27+%3FcountryOfCitizenshipId+.+%3FcountryOfCitizenshipId+rdfs%3Alabel+%3FcountryOfCitizenship+FILTER%28LANG%28%3FcountryOfCitizenship%29+%3D+%22en%22%29+.+%7D%0A++++++++++++OPTIONAL+%7B+%3Fitem+wdt%3AP735+%3FgivenNameId+.+%3FgivenNameId+rdfs%3Alabel+%3FgivenName+FILTER%28LANG%28%3FgivenName%29+%3D+%22en%22%29+.+%7D%0A++++++++++++OPTIONAL+%7B+%3Fitem+wdt%3AP734+%3FfamilyNameId+.+%3FfamilyNameId+rdfs%3Alabel+%3FfamilyName+FILTER%28LANG%28%3FfamilyName%29+%3D+%22en%22%29+.+%7D%0A++++++++++++OPTIONAL+%7B+%3Fitem+wdt%3AP569+%3FdateOfBirth.+%7D%0A++++++++++++OPTIONAL+%7B+%3Fitem+wdt%3AP570+%3FdateOfDeath.+%7D%0A++++++++++++OPTIONAL+%7B+%3Fitem+wdt%3AP106+%3FoccupationId+.+%3FoccupationId+rdfs%3Alabel+%3Foccupation+FILTER%28LANG%28%3Foccupation%29+%3D+%22en%22%29+.+%7D%0A++++++++++++OPTIONAL+%7B+%3Fitem+wdt%3AP101+%3FfieldOfWorkId+.+%3FfieldOfWorkId+rdfs%3Alabel+%3FfieldOfWork+FILTER%28LANG%28%3FfieldOfWork%29+%3D+%22en%22%29+.+%7D%0A++++++++++++OPTIONAL+%7B+%3Fitem+wdt%3AP214+%3Fviaf_id.+%7D%0A++++++++++++OPTIONAL+%7B+%3Fitem+wdt%3AP213+%3Fisni_id.+%7D%0A++++++++++++OPTIONAL+%7B+%3Fitem+wdt%3AP227+%3Fgnd_id.+%7D%0A%7D%0AGROUP+BY+%3Fitem+%3FitemLabel%0A&format=json (Caused by NewConnectionError('<urllib3.connection.HTTPSConnection object at 0x0000027807EC3DD0>: Failed to establish a new connection: [WinError 10048] Normalerweise darf jede Socketadresse (Protokoll, Netzwerkadresse oder Anschluss) nur jeweils einmal verwendet werden'))",
     "output_type": "error",
     "traceback": [
      "\u001B[1;31m---------------------------------------------------------------------------\u001B[0m",
      "\u001B[1;31mOSError\u001B[0m                                   Traceback (most recent call last)",
      "File \u001B[1;32m~\\AppData\\Local\\miniconda3\\Lib\\site-packages\\urllib3\\connection.py:174\u001B[0m, in \u001B[0;36mHTTPConnection._new_conn\u001B[1;34m(self)\u001B[0m\n\u001B[0;32m    173\u001B[0m \u001B[38;5;28;01mtry\u001B[39;00m:\n\u001B[1;32m--> 174\u001B[0m     conn \u001B[38;5;241m=\u001B[39m connection\u001B[38;5;241m.\u001B[39mcreate_connection(\n\u001B[0;32m    175\u001B[0m         (\u001B[38;5;28mself\u001B[39m\u001B[38;5;241m.\u001B[39m_dns_host, \u001B[38;5;28mself\u001B[39m\u001B[38;5;241m.\u001B[39mport), \u001B[38;5;28mself\u001B[39m\u001B[38;5;241m.\u001B[39mtimeout, \u001B[38;5;241m*\u001B[39m\u001B[38;5;241m*\u001B[39mextra_kw\n\u001B[0;32m    176\u001B[0m     )\n\u001B[0;32m    178\u001B[0m \u001B[38;5;28;01mexcept\u001B[39;00m SocketTimeout:\n",
      "File \u001B[1;32m~\\AppData\\Local\\miniconda3\\Lib\\site-packages\\urllib3\\util\\connection.py:95\u001B[0m, in \u001B[0;36mcreate_connection\u001B[1;34m(address, timeout, source_address, socket_options)\u001B[0m\n\u001B[0;32m     94\u001B[0m \u001B[38;5;28;01mif\u001B[39;00m err \u001B[38;5;129;01mis\u001B[39;00m \u001B[38;5;129;01mnot\u001B[39;00m \u001B[38;5;28;01mNone\u001B[39;00m:\n\u001B[1;32m---> 95\u001B[0m     \u001B[38;5;28;01mraise\u001B[39;00m err\n\u001B[0;32m     97\u001B[0m \u001B[38;5;28;01mraise\u001B[39;00m socket\u001B[38;5;241m.\u001B[39merror(\u001B[38;5;124m\"\u001B[39m\u001B[38;5;124mgetaddrinfo returns an empty list\u001B[39m\u001B[38;5;124m\"\u001B[39m)\n",
      "File \u001B[1;32m~\\AppData\\Local\\miniconda3\\Lib\\site-packages\\urllib3\\util\\connection.py:85\u001B[0m, in \u001B[0;36mcreate_connection\u001B[1;34m(address, timeout, source_address, socket_options)\u001B[0m\n\u001B[0;32m     84\u001B[0m     sock\u001B[38;5;241m.\u001B[39mbind(source_address)\n\u001B[1;32m---> 85\u001B[0m sock\u001B[38;5;241m.\u001B[39mconnect(sa)\n\u001B[0;32m     86\u001B[0m \u001B[38;5;28;01mreturn\u001B[39;00m sock\n",
      "\u001B[1;31mOSError\u001B[0m: [WinError 10048] Normalerweise darf jede Socketadresse (Protokoll, Netzwerkadresse oder Anschluss) nur jeweils einmal verwendet werden",
      "\nDuring handling of the above exception, another exception occurred:\n",
      "\u001B[1;31mNewConnectionError\u001B[0m                        Traceback (most recent call last)",
      "File \u001B[1;32m~\\AppData\\Local\\miniconda3\\Lib\\site-packages\\urllib3\\connectionpool.py:715\u001B[0m, in \u001B[0;36mHTTPConnectionPool.urlopen\u001B[1;34m(self, method, url, body, headers, retries, redirect, assert_same_host, timeout, pool_timeout, release_conn, chunked, body_pos, **response_kw)\u001B[0m\n\u001B[0;32m    714\u001B[0m \u001B[38;5;66;03m# Make the request on the httplib connection object.\u001B[39;00m\n\u001B[1;32m--> 715\u001B[0m httplib_response \u001B[38;5;241m=\u001B[39m \u001B[38;5;28mself\u001B[39m\u001B[38;5;241m.\u001B[39m_make_request(\n\u001B[0;32m    716\u001B[0m     conn,\n\u001B[0;32m    717\u001B[0m     method,\n\u001B[0;32m    718\u001B[0m     url,\n\u001B[0;32m    719\u001B[0m     timeout\u001B[38;5;241m=\u001B[39mtimeout_obj,\n\u001B[0;32m    720\u001B[0m     body\u001B[38;5;241m=\u001B[39mbody,\n\u001B[0;32m    721\u001B[0m     headers\u001B[38;5;241m=\u001B[39mheaders,\n\u001B[0;32m    722\u001B[0m     chunked\u001B[38;5;241m=\u001B[39mchunked,\n\u001B[0;32m    723\u001B[0m )\n\u001B[0;32m    725\u001B[0m \u001B[38;5;66;03m# If we're going to release the connection in ``finally:``, then\u001B[39;00m\n\u001B[0;32m    726\u001B[0m \u001B[38;5;66;03m# the response doesn't need to know about the connection. Otherwise\u001B[39;00m\n\u001B[0;32m    727\u001B[0m \u001B[38;5;66;03m# it will also try to release it and we'll have a double-release\u001B[39;00m\n\u001B[0;32m    728\u001B[0m \u001B[38;5;66;03m# mess.\u001B[39;00m\n",
      "File \u001B[1;32m~\\AppData\\Local\\miniconda3\\Lib\\site-packages\\urllib3\\connectionpool.py:404\u001B[0m, in \u001B[0;36mHTTPConnectionPool._make_request\u001B[1;34m(self, conn, method, url, timeout, chunked, **httplib_request_kw)\u001B[0m\n\u001B[0;32m    403\u001B[0m \u001B[38;5;28;01mtry\u001B[39;00m:\n\u001B[1;32m--> 404\u001B[0m     \u001B[38;5;28mself\u001B[39m\u001B[38;5;241m.\u001B[39m_validate_conn(conn)\n\u001B[0;32m    405\u001B[0m \u001B[38;5;28;01mexcept\u001B[39;00m (SocketTimeout, BaseSSLError) \u001B[38;5;28;01mas\u001B[39;00m e:\n\u001B[0;32m    406\u001B[0m     \u001B[38;5;66;03m# Py2 raises this as a BaseSSLError, Py3 raises it as socket timeout.\u001B[39;00m\n",
      "File \u001B[1;32m~\\AppData\\Local\\miniconda3\\Lib\\site-packages\\urllib3\\connectionpool.py:1058\u001B[0m, in \u001B[0;36mHTTPSConnectionPool._validate_conn\u001B[1;34m(self, conn)\u001B[0m\n\u001B[0;32m   1057\u001B[0m \u001B[38;5;28;01mif\u001B[39;00m \u001B[38;5;129;01mnot\u001B[39;00m \u001B[38;5;28mgetattr\u001B[39m(conn, \u001B[38;5;124m\"\u001B[39m\u001B[38;5;124msock\u001B[39m\u001B[38;5;124m\"\u001B[39m, \u001B[38;5;28;01mNone\u001B[39;00m):  \u001B[38;5;66;03m# AppEngine might not have  `.sock`\u001B[39;00m\n\u001B[1;32m-> 1058\u001B[0m     conn\u001B[38;5;241m.\u001B[39mconnect()\n\u001B[0;32m   1060\u001B[0m \u001B[38;5;28;01mif\u001B[39;00m \u001B[38;5;129;01mnot\u001B[39;00m conn\u001B[38;5;241m.\u001B[39mis_verified:\n",
      "File \u001B[1;32m~\\AppData\\Local\\miniconda3\\Lib\\site-packages\\urllib3\\connection.py:363\u001B[0m, in \u001B[0;36mHTTPSConnection.connect\u001B[1;34m(self)\u001B[0m\n\u001B[0;32m    361\u001B[0m \u001B[38;5;28;01mdef\u001B[39;00m \u001B[38;5;21mconnect\u001B[39m(\u001B[38;5;28mself\u001B[39m):\n\u001B[0;32m    362\u001B[0m     \u001B[38;5;66;03m# Add certificate verification\u001B[39;00m\n\u001B[1;32m--> 363\u001B[0m     \u001B[38;5;28mself\u001B[39m\u001B[38;5;241m.\u001B[39msock \u001B[38;5;241m=\u001B[39m conn \u001B[38;5;241m=\u001B[39m \u001B[38;5;28mself\u001B[39m\u001B[38;5;241m.\u001B[39m_new_conn()\n\u001B[0;32m    364\u001B[0m     hostname \u001B[38;5;241m=\u001B[39m \u001B[38;5;28mself\u001B[39m\u001B[38;5;241m.\u001B[39mhost\n",
      "File \u001B[1;32m~\\AppData\\Local\\miniconda3\\Lib\\site-packages\\urllib3\\connection.py:186\u001B[0m, in \u001B[0;36mHTTPConnection._new_conn\u001B[1;34m(self)\u001B[0m\n\u001B[0;32m    185\u001B[0m \u001B[38;5;28;01mexcept\u001B[39;00m SocketError \u001B[38;5;28;01mas\u001B[39;00m e:\n\u001B[1;32m--> 186\u001B[0m     \u001B[38;5;28;01mraise\u001B[39;00m NewConnectionError(\n\u001B[0;32m    187\u001B[0m         \u001B[38;5;28mself\u001B[39m, \u001B[38;5;124m\"\u001B[39m\u001B[38;5;124mFailed to establish a new connection: \u001B[39m\u001B[38;5;132;01m%s\u001B[39;00m\u001B[38;5;124m\"\u001B[39m \u001B[38;5;241m%\u001B[39m e\n\u001B[0;32m    188\u001B[0m     )\n\u001B[0;32m    190\u001B[0m \u001B[38;5;28;01mreturn\u001B[39;00m conn\n",
      "\u001B[1;31mNewConnectionError\u001B[0m: <urllib3.connection.HTTPSConnection object at 0x0000027807EC3DD0>: Failed to establish a new connection: [WinError 10048] Normalerweise darf jede Socketadresse (Protokoll, Netzwerkadresse oder Anschluss) nur jeweils einmal verwendet werden",
      "\nDuring handling of the above exception, another exception occurred:\n",
      "\u001B[1;31mMaxRetryError\u001B[0m                             Traceback (most recent call last)",
      "File \u001B[1;32m~\\AppData\\Local\\miniconda3\\Lib\\site-packages\\requests\\adapters.py:486\u001B[0m, in \u001B[0;36mHTTPAdapter.send\u001B[1;34m(self, request, stream, timeout, verify, cert, proxies)\u001B[0m\n\u001B[0;32m    485\u001B[0m \u001B[38;5;28;01mtry\u001B[39;00m:\n\u001B[1;32m--> 486\u001B[0m     resp \u001B[38;5;241m=\u001B[39m conn\u001B[38;5;241m.\u001B[39murlopen(\n\u001B[0;32m    487\u001B[0m         method\u001B[38;5;241m=\u001B[39mrequest\u001B[38;5;241m.\u001B[39mmethod,\n\u001B[0;32m    488\u001B[0m         url\u001B[38;5;241m=\u001B[39murl,\n\u001B[0;32m    489\u001B[0m         body\u001B[38;5;241m=\u001B[39mrequest\u001B[38;5;241m.\u001B[39mbody,\n\u001B[0;32m    490\u001B[0m         headers\u001B[38;5;241m=\u001B[39mrequest\u001B[38;5;241m.\u001B[39mheaders,\n\u001B[0;32m    491\u001B[0m         redirect\u001B[38;5;241m=\u001B[39m\u001B[38;5;28;01mFalse\u001B[39;00m,\n\u001B[0;32m    492\u001B[0m         assert_same_host\u001B[38;5;241m=\u001B[39m\u001B[38;5;28;01mFalse\u001B[39;00m,\n\u001B[0;32m    493\u001B[0m         preload_content\u001B[38;5;241m=\u001B[39m\u001B[38;5;28;01mFalse\u001B[39;00m,\n\u001B[0;32m    494\u001B[0m         decode_content\u001B[38;5;241m=\u001B[39m\u001B[38;5;28;01mFalse\u001B[39;00m,\n\u001B[0;32m    495\u001B[0m         retries\u001B[38;5;241m=\u001B[39m\u001B[38;5;28mself\u001B[39m\u001B[38;5;241m.\u001B[39mmax_retries,\n\u001B[0;32m    496\u001B[0m         timeout\u001B[38;5;241m=\u001B[39mtimeout,\n\u001B[0;32m    497\u001B[0m         chunked\u001B[38;5;241m=\u001B[39mchunked,\n\u001B[0;32m    498\u001B[0m     )\n\u001B[0;32m    500\u001B[0m \u001B[38;5;28;01mexcept\u001B[39;00m (ProtocolError, \u001B[38;5;167;01mOSError\u001B[39;00m) \u001B[38;5;28;01mas\u001B[39;00m err:\n",
      "File \u001B[1;32m~\\AppData\\Local\\miniconda3\\Lib\\site-packages\\urllib3\\connectionpool.py:799\u001B[0m, in \u001B[0;36mHTTPConnectionPool.urlopen\u001B[1;34m(self, method, url, body, headers, retries, redirect, assert_same_host, timeout, pool_timeout, release_conn, chunked, body_pos, **response_kw)\u001B[0m\n\u001B[0;32m    797\u001B[0m     e \u001B[38;5;241m=\u001B[39m ProtocolError(\u001B[38;5;124m\"\u001B[39m\u001B[38;5;124mConnection aborted.\u001B[39m\u001B[38;5;124m\"\u001B[39m, e)\n\u001B[1;32m--> 799\u001B[0m retries \u001B[38;5;241m=\u001B[39m retries\u001B[38;5;241m.\u001B[39mincrement(\n\u001B[0;32m    800\u001B[0m     method, url, error\u001B[38;5;241m=\u001B[39me, _pool\u001B[38;5;241m=\u001B[39m\u001B[38;5;28mself\u001B[39m, _stacktrace\u001B[38;5;241m=\u001B[39msys\u001B[38;5;241m.\u001B[39mexc_info()[\u001B[38;5;241m2\u001B[39m]\n\u001B[0;32m    801\u001B[0m )\n\u001B[0;32m    802\u001B[0m retries\u001B[38;5;241m.\u001B[39msleep()\n",
      "File \u001B[1;32m~\\AppData\\Local\\miniconda3\\Lib\\site-packages\\urllib3\\util\\retry.py:592\u001B[0m, in \u001B[0;36mRetry.increment\u001B[1;34m(self, method, url, response, error, _pool, _stacktrace)\u001B[0m\n\u001B[0;32m    591\u001B[0m \u001B[38;5;28;01mif\u001B[39;00m new_retry\u001B[38;5;241m.\u001B[39mis_exhausted():\n\u001B[1;32m--> 592\u001B[0m     \u001B[38;5;28;01mraise\u001B[39;00m MaxRetryError(_pool, url, error \u001B[38;5;129;01mor\u001B[39;00m ResponseError(cause))\n\u001B[0;32m    594\u001B[0m log\u001B[38;5;241m.\u001B[39mdebug(\u001B[38;5;124m\"\u001B[39m\u001B[38;5;124mIncremented Retry for (url=\u001B[39m\u001B[38;5;124m'\u001B[39m\u001B[38;5;132;01m%s\u001B[39;00m\u001B[38;5;124m'\u001B[39m\u001B[38;5;124m): \u001B[39m\u001B[38;5;132;01m%r\u001B[39;00m\u001B[38;5;124m\"\u001B[39m, url, new_retry)\n",
      "\u001B[1;31mMaxRetryError\u001B[0m: HTTPSConnectionPool(host='query.wikidata.org', port=443): Max retries exceeded with url: /sparql?query=%0ASELECT+DISTINCT+%3Fitem+%3FitemLabel%28SAMPLE%28%3FsexOrGender%29+AS+%3FsexOrGender%29%0A%28SAMPLE%28%3FcountryOfCitizenship%29+AS+%3FcountryOfCitizenship%29%0A%28SAMPLE%28%3FgivenName%29+AS+%3FgivenName%29%0A%28SAMPLE%28%3FfamilyName%29+AS+%3FfamilyName%29%0A%28SAMPLE%28%3FdateOfBirth%29+AS+%3FdateOfBirth%29%0A%28SAMPLE%28%3FdateOfDeath%29+AS+%3FdateOfDeath%29%0A%28SAMPLE%28%3Foccupation%29+AS+%3Foccupation%29%0A%28SAMPLE%28%3FfieldOfWork%29+AS+%3FfieldOfWork%29%0A%28SAMPLE%28%3Fviaf_id%29+AS+%3Fviaf_id%29%0A%28SAMPLE%28%3Fisni_id%29+AS+%3Fisni_id%29%0A%28SAMPLE%28%3Fgnd_id%29+AS+%3Fgnd_id%29+%0AWHERE+%7B%0A++++%3Fitem+wdt%3AP31+wd%3AQ5%3B+rdfs%3Alabel+%22Theodor+Geiger%22%40en+.%0A%0A++++++++++++OPTIONAL+%7B+%3Fitem+wdt%3AP21+%3FsexOrGenderId+.+%3FsexOrGenderId+rdfs%3Alabel+%3FsexOrGender+FILTER%28LANG%28%3FsexOrGender%29+%3D+%22en%22%29+.+%7D%0A++++++++++++OPTIONAL+%7B+%3Fitem+wdt%3AP27+%3FcountryOfCitizenshipId+.+%3FcountryOfCitizenshipId+rdfs%3Alabel+%3FcountryOfCitizenship+FILTER%28LANG%28%3FcountryOfCitizenship%29+%3D+%22en%22%29+.+%7D%0A++++++++++++OPTIONAL+%7B+%3Fitem+wdt%3AP735+%3FgivenNameId+.+%3FgivenNameId+rdfs%3Alabel+%3FgivenName+FILTER%28LANG%28%3FgivenName%29+%3D+%22en%22%29+.+%7D%0A++++++++++++OPTIONAL+%7B+%3Fitem+wdt%3AP734+%3FfamilyNameId+.+%3FfamilyNameId+rdfs%3Alabel+%3FfamilyName+FILTER%28LANG%28%3FfamilyName%29+%3D+%22en%22%29+.+%7D%0A++++++++++++OPTIONAL+%7B+%3Fitem+wdt%3AP569+%3FdateOfBirth.+%7D%0A++++++++++++OPTIONAL+%7B+%3Fitem+wdt%3AP570+%3FdateOfDeath.+%7D%0A++++++++++++OPTIONAL+%7B+%3Fitem+wdt%3AP106+%3FoccupationId+.+%3FoccupationId+rdfs%3Alabel+%3Foccupation+FILTER%28LANG%28%3Foccupation%29+%3D+%22en%22%29+.+%7D%0A++++++++++++OPTIONAL+%7B+%3Fitem+wdt%3AP101+%3FfieldOfWorkId+.+%3FfieldOfWorkId+rdfs%3Alabel+%3FfieldOfWork+FILTER%28LANG%28%3FfieldOfWork%29+%3D+%22en%22%29+.+%7D%0A++++++++++++OPTIONAL+%7B+%3Fitem+wdt%3AP214+%3Fviaf_id.+%7D%0A++++++++++++OPTIONAL+%7B+%3Fitem+wdt%3AP213+%3Fisni_id.+%7D%0A++++++++++++OPTIONAL+%7B+%3Fitem+wdt%3AP227+%3Fgnd_id.+%7D%0A%7D%0AGROUP+BY+%3Fitem+%3FitemLabel%0A&format=json (Caused by NewConnectionError('<urllib3.connection.HTTPSConnection object at 0x0000027807EC3DD0>: Failed to establish a new connection: [WinError 10048] Normalerweise darf jede Socketadresse (Protokoll, Netzwerkadresse oder Anschluss) nur jeweils einmal verwendet werden'))",
      "\nDuring handling of the above exception, another exception occurred:\n",
      "\u001B[1;31mConnectionError\u001B[0m                           Traceback (most recent call last)",
      "Cell \u001B[1;32mIn[22], line 41\u001B[0m\n\u001B[0;32m      2\u001B[0m property_labels_to_ids \u001B[38;5;241m=\u001B[39m {\n\u001B[0;32m      3\u001B[0m     \u001B[38;5;124m'\u001B[39m\u001B[38;5;124msexOrGender\u001B[39m\u001B[38;5;124m'\u001B[39m: \u001B[38;5;124m'\u001B[39m\u001B[38;5;124mP21\u001B[39m\u001B[38;5;124m'\u001B[39m,\n\u001B[0;32m      4\u001B[0m \u001B[38;5;66;03m#    'image': 'P18',\u001B[39;00m\n\u001B[1;32m   (...)\u001B[0m\n\u001B[0;32m     14\u001B[0m     \u001B[38;5;124m'\u001B[39m\u001B[38;5;124mgnd_id\u001B[39m\u001B[38;5;124m'\u001B[39m: \u001B[38;5;124m'\u001B[39m\u001B[38;5;124mP227\u001B[39m\u001B[38;5;124m'\u001B[39m\n\u001B[0;32m     15\u001B[0m }\n\u001B[0;32m     17\u001B[0m scholars \u001B[38;5;241m=\u001B[39m [\n\u001B[0;32m     18\u001B[0m     \u001B[38;5;124m\"\u001B[39m\u001B[38;5;124mHans Kelsen\u001B[39m\u001B[38;5;124m\"\u001B[39m,\n\u001B[0;32m     19\u001B[0m     \u001B[38;5;124m\"\u001B[39m\u001B[38;5;124mHugo Sinzheimer\u001B[39m\u001B[38;5;124m\"\u001B[39m,\n\u001B[1;32m   (...)\u001B[0m\n\u001B[0;32m     39\u001B[0m     (\u001B[38;5;124m\"\u001B[39m\u001B[38;5;124mSusanne Baer\u001B[39m\u001B[38;5;124m\"\u001B[39m,\u001B[38;5;124m\"\u001B[39m\u001B[38;5;124mQ101872\u001B[39m\u001B[38;5;124m\"\u001B[39m)\n\u001B[0;32m     40\u001B[0m ]\n\u001B[1;32m---> 41\u001B[0m df \u001B[38;5;241m=\u001B[39m get_person_info_from_wikidata(scholars, property_labels_to_ids)\n\u001B[0;32m     42\u001B[0m df\n",
      "Cell \u001B[1;32mIn[20], line 133\u001B[0m, in \u001B[0;36mget_person_info_from_wikidata\u001B[1;34m(names, property_map, languages)\u001B[0m\n\u001B[0;32m    131\u001B[0m         results \u001B[38;5;241m=\u001B[39m query_wikidata(item[\u001B[38;5;241m0\u001B[39m], property_map, languages[\u001B[38;5;241m0\u001B[39m], qid\u001B[38;5;241m=\u001B[39mitem[\u001B[38;5;241m1\u001B[39m])\n\u001B[0;32m    132\u001B[0m     \u001B[38;5;28;01melse\u001B[39;00m:\n\u001B[1;32m--> 133\u001B[0m         results \u001B[38;5;241m=\u001B[39m query_wikidata(item, property_map, languages[\u001B[38;5;241m0\u001B[39m])\n\u001B[0;32m    135\u001B[0m     all_data \u001B[38;5;241m+\u001B[39m\u001B[38;5;241m=\u001B[39m results\n\u001B[0;32m    136\u001B[0m \u001B[38;5;28;01mif\u001B[39;00m \u001B[38;5;28mlen\u001B[39m(all_data) \u001B[38;5;241m>\u001B[39m \u001B[38;5;241m0\u001B[39m:\n\u001B[0;32m    137\u001B[0m     \u001B[38;5;66;03m# Ensure fullName appears first by reordering columns based on property_labels_to_ids keys\u001B[39;00m\n",
      "Cell \u001B[1;32mIn[20], line 57\u001B[0m, in \u001B[0;36mquery_wikidata\u001B[1;34m(fullName, property_map, language, qid)\u001B[0m\n\u001B[0;32m     55\u001B[0m query \u001B[38;5;241m=\u001B[39m generate_sparql_query(fullName, property_map, language, qid\u001B[38;5;241m=\u001B[39mqid)\n\u001B[0;32m     56\u001B[0m headers \u001B[38;5;241m=\u001B[39m {\u001B[38;5;124m'\u001B[39m\u001B[38;5;124mUser-Agent\u001B[39m\u001B[38;5;124m'\u001B[39m: \u001B[38;5;124m'\u001B[39m\u001B[38;5;124mMozilla/5.0\u001B[39m\u001B[38;5;124m'\u001B[39m, \u001B[38;5;124m'\u001B[39m\u001B[38;5;124mAccept\u001B[39m\u001B[38;5;124m'\u001B[39m: \u001B[38;5;124m'\u001B[39m\u001B[38;5;124mapplication/json\u001B[39m\u001B[38;5;124m'\u001B[39m}\n\u001B[1;32m---> 57\u001B[0m response \u001B[38;5;241m=\u001B[39m requests\u001B[38;5;241m.\u001B[39mget(SPARQL_ENDPOINT, headers\u001B[38;5;241m=\u001B[39mheaders, params\u001B[38;5;241m=\u001B[39m{\u001B[38;5;124m'\u001B[39m\u001B[38;5;124mquery\u001B[39m\u001B[38;5;124m'\u001B[39m: query, \u001B[38;5;124m'\u001B[39m\u001B[38;5;124mformat\u001B[39m\u001B[38;5;124m'\u001B[39m: \u001B[38;5;124m'\u001B[39m\u001B[38;5;124mjson\u001B[39m\u001B[38;5;124m'\u001B[39m})\n\u001B[0;32m     59\u001B[0m \u001B[38;5;28;01mif\u001B[39;00m response\u001B[38;5;241m.\u001B[39mstatus_code \u001B[38;5;241m!=\u001B[39m \u001B[38;5;241m200\u001B[39m:\n\u001B[0;32m     60\u001B[0m     \u001B[38;5;28mprint\u001B[39m(query)\n",
      "File \u001B[1;32m~\\AppData\\Local\\miniconda3\\Lib\\site-packages\\requests\\api.py:73\u001B[0m, in \u001B[0;36mget\u001B[1;34m(url, params, **kwargs)\u001B[0m\n\u001B[0;32m     62\u001B[0m \u001B[38;5;28;01mdef\u001B[39;00m \u001B[38;5;21mget\u001B[39m(url, params\u001B[38;5;241m=\u001B[39m\u001B[38;5;28;01mNone\u001B[39;00m, \u001B[38;5;241m*\u001B[39m\u001B[38;5;241m*\u001B[39mkwargs):\n\u001B[0;32m     63\u001B[0m \u001B[38;5;250m    \u001B[39m\u001B[38;5;124mr\u001B[39m\u001B[38;5;124;03m\"\"\"Sends a GET request.\u001B[39;00m\n\u001B[0;32m     64\u001B[0m \n\u001B[0;32m     65\u001B[0m \u001B[38;5;124;03m    :param url: URL for the new :class:`Request` object.\u001B[39;00m\n\u001B[1;32m   (...)\u001B[0m\n\u001B[0;32m     70\u001B[0m \u001B[38;5;124;03m    :rtype: requests.Response\u001B[39;00m\n\u001B[0;32m     71\u001B[0m \u001B[38;5;124;03m    \"\"\"\u001B[39;00m\n\u001B[1;32m---> 73\u001B[0m     \u001B[38;5;28;01mreturn\u001B[39;00m request(\u001B[38;5;124m\"\u001B[39m\u001B[38;5;124mget\u001B[39m\u001B[38;5;124m\"\u001B[39m, url, params\u001B[38;5;241m=\u001B[39mparams, \u001B[38;5;241m*\u001B[39m\u001B[38;5;241m*\u001B[39mkwargs)\n",
      "File \u001B[1;32m~\\AppData\\Local\\miniconda3\\Lib\\site-packages\\requests\\api.py:59\u001B[0m, in \u001B[0;36mrequest\u001B[1;34m(method, url, **kwargs)\u001B[0m\n\u001B[0;32m     55\u001B[0m \u001B[38;5;66;03m# By using the 'with' statement we are sure the session is closed, thus we\u001B[39;00m\n\u001B[0;32m     56\u001B[0m \u001B[38;5;66;03m# avoid leaving sockets open which can trigger a ResourceWarning in some\u001B[39;00m\n\u001B[0;32m     57\u001B[0m \u001B[38;5;66;03m# cases, and look like a memory leak in others.\u001B[39;00m\n\u001B[0;32m     58\u001B[0m \u001B[38;5;28;01mwith\u001B[39;00m sessions\u001B[38;5;241m.\u001B[39mSession() \u001B[38;5;28;01mas\u001B[39;00m session:\n\u001B[1;32m---> 59\u001B[0m     \u001B[38;5;28;01mreturn\u001B[39;00m session\u001B[38;5;241m.\u001B[39mrequest(method\u001B[38;5;241m=\u001B[39mmethod, url\u001B[38;5;241m=\u001B[39murl, \u001B[38;5;241m*\u001B[39m\u001B[38;5;241m*\u001B[39mkwargs)\n",
      "File \u001B[1;32m~\\AppData\\Local\\miniconda3\\Lib\\site-packages\\requests\\sessions.py:589\u001B[0m, in \u001B[0;36mSession.request\u001B[1;34m(self, method, url, params, data, headers, cookies, files, auth, timeout, allow_redirects, proxies, hooks, stream, verify, cert, json)\u001B[0m\n\u001B[0;32m    584\u001B[0m send_kwargs \u001B[38;5;241m=\u001B[39m {\n\u001B[0;32m    585\u001B[0m     \u001B[38;5;124m\"\u001B[39m\u001B[38;5;124mtimeout\u001B[39m\u001B[38;5;124m\"\u001B[39m: timeout,\n\u001B[0;32m    586\u001B[0m     \u001B[38;5;124m\"\u001B[39m\u001B[38;5;124mallow_redirects\u001B[39m\u001B[38;5;124m\"\u001B[39m: allow_redirects,\n\u001B[0;32m    587\u001B[0m }\n\u001B[0;32m    588\u001B[0m send_kwargs\u001B[38;5;241m.\u001B[39mupdate(settings)\n\u001B[1;32m--> 589\u001B[0m resp \u001B[38;5;241m=\u001B[39m \u001B[38;5;28mself\u001B[39m\u001B[38;5;241m.\u001B[39msend(prep, \u001B[38;5;241m*\u001B[39m\u001B[38;5;241m*\u001B[39msend_kwargs)\n\u001B[0;32m    591\u001B[0m \u001B[38;5;28;01mreturn\u001B[39;00m resp\n",
      "File \u001B[1;32m~\\AppData\\Local\\miniconda3\\Lib\\site-packages\\requests\\sessions.py:703\u001B[0m, in \u001B[0;36mSession.send\u001B[1;34m(self, request, **kwargs)\u001B[0m\n\u001B[0;32m    700\u001B[0m start \u001B[38;5;241m=\u001B[39m preferred_clock()\n\u001B[0;32m    702\u001B[0m \u001B[38;5;66;03m# Send the request\u001B[39;00m\n\u001B[1;32m--> 703\u001B[0m r \u001B[38;5;241m=\u001B[39m adapter\u001B[38;5;241m.\u001B[39msend(request, \u001B[38;5;241m*\u001B[39m\u001B[38;5;241m*\u001B[39mkwargs)\n\u001B[0;32m    705\u001B[0m \u001B[38;5;66;03m# Total elapsed time of the request (approximately)\u001B[39;00m\n\u001B[0;32m    706\u001B[0m elapsed \u001B[38;5;241m=\u001B[39m preferred_clock() \u001B[38;5;241m-\u001B[39m start\n",
      "File \u001B[1;32m~\\AppData\\Local\\miniconda3\\Lib\\site-packages\\requests\\adapters.py:519\u001B[0m, in \u001B[0;36mHTTPAdapter.send\u001B[1;34m(self, request, stream, timeout, verify, cert, proxies)\u001B[0m\n\u001B[0;32m    515\u001B[0m     \u001B[38;5;28;01mif\u001B[39;00m \u001B[38;5;28misinstance\u001B[39m(e\u001B[38;5;241m.\u001B[39mreason, _SSLError):\n\u001B[0;32m    516\u001B[0m         \u001B[38;5;66;03m# This branch is for urllib3 v1.22 and later.\u001B[39;00m\n\u001B[0;32m    517\u001B[0m         \u001B[38;5;28;01mraise\u001B[39;00m SSLError(e, request\u001B[38;5;241m=\u001B[39mrequest)\n\u001B[1;32m--> 519\u001B[0m     \u001B[38;5;28;01mraise\u001B[39;00m \u001B[38;5;167;01mConnectionError\u001B[39;00m(e, request\u001B[38;5;241m=\u001B[39mrequest)\n\u001B[0;32m    521\u001B[0m \u001B[38;5;28;01mexcept\u001B[39;00m ClosedPoolError \u001B[38;5;28;01mas\u001B[39;00m e:\n\u001B[0;32m    522\u001B[0m     \u001B[38;5;28;01mraise\u001B[39;00m \u001B[38;5;167;01mConnectionError\u001B[39;00m(e, request\u001B[38;5;241m=\u001B[39mrequest)\n",
      "\u001B[1;31mConnectionError\u001B[0m: HTTPSConnectionPool(host='query.wikidata.org', port=443): Max retries exceeded with url: /sparql?query=%0ASELECT+DISTINCT+%3Fitem+%3FitemLabel%28SAMPLE%28%3FsexOrGender%29+AS+%3FsexOrGender%29%0A%28SAMPLE%28%3FcountryOfCitizenship%29+AS+%3FcountryOfCitizenship%29%0A%28SAMPLE%28%3FgivenName%29+AS+%3FgivenName%29%0A%28SAMPLE%28%3FfamilyName%29+AS+%3FfamilyName%29%0A%28SAMPLE%28%3FdateOfBirth%29+AS+%3FdateOfBirth%29%0A%28SAMPLE%28%3FdateOfDeath%29+AS+%3FdateOfDeath%29%0A%28SAMPLE%28%3Foccupation%29+AS+%3Foccupation%29%0A%28SAMPLE%28%3FfieldOfWork%29+AS+%3FfieldOfWork%29%0A%28SAMPLE%28%3Fviaf_id%29+AS+%3Fviaf_id%29%0A%28SAMPLE%28%3Fisni_id%29+AS+%3Fisni_id%29%0A%28SAMPLE%28%3Fgnd_id%29+AS+%3Fgnd_id%29+%0AWHERE+%7B%0A++++%3Fitem+wdt%3AP31+wd%3AQ5%3B+rdfs%3Alabel+%22Theodor+Geiger%22%40en+.%0A%0A++++++++++++OPTIONAL+%7B+%3Fitem+wdt%3AP21+%3FsexOrGenderId+.+%3FsexOrGenderId+rdfs%3Alabel+%3FsexOrGender+FILTER%28LANG%28%3FsexOrGender%29+%3D+%22en%22%29+.+%7D%0A++++++++++++OPTIONAL+%7B+%3Fitem+wdt%3AP27+%3FcountryOfCitizenshipId+.+%3FcountryOfCitizenshipId+rdfs%3Alabel+%3FcountryOfCitizenship+FILTER%28LANG%28%3FcountryOfCitizenship%29+%3D+%22en%22%29+.+%7D%0A++++++++++++OPTIONAL+%7B+%3Fitem+wdt%3AP735+%3FgivenNameId+.+%3FgivenNameId+rdfs%3Alabel+%3FgivenName+FILTER%28LANG%28%3FgivenName%29+%3D+%22en%22%29+.+%7D%0A++++++++++++OPTIONAL+%7B+%3Fitem+wdt%3AP734+%3FfamilyNameId+.+%3FfamilyNameId+rdfs%3Alabel+%3FfamilyName+FILTER%28LANG%28%3FfamilyName%29+%3D+%22en%22%29+.+%7D%0A++++++++++++OPTIONAL+%7B+%3Fitem+wdt%3AP569+%3FdateOfBirth.+%7D%0A++++++++++++OPTIONAL+%7B+%3Fitem+wdt%3AP570+%3FdateOfDeath.+%7D%0A++++++++++++OPTIONAL+%7B+%3Fitem+wdt%3AP106+%3FoccupationId+.+%3FoccupationId+rdfs%3Alabel+%3Foccupation+FILTER%28LANG%28%3Foccupation%29+%3D+%22en%22%29+.+%7D%0A++++++++++++OPTIONAL+%7B+%3Fitem+wdt%3AP101+%3FfieldOfWorkId+.+%3FfieldOfWorkId+rdfs%3Alabel+%3FfieldOfWork+FILTER%28LANG%28%3FfieldOfWork%29+%3D+%22en%22%29+.+%7D%0A++++++++++++OPTIONAL+%7B+%3Fitem+wdt%3AP214+%3Fviaf_id.+%7D%0A++++++++++++OPTIONAL+%7B+%3Fitem+wdt%3AP213+%3Fisni_id.+%7D%0A++++++++++++OPTIONAL+%7B+%3Fitem+wdt%3AP227+%3Fgnd_id.+%7D%0A%7D%0AGROUP+BY+%3Fitem+%3FitemLabel%0A&format=json (Caused by NewConnectionError('<urllib3.connection.HTTPSConnection object at 0x0000027807EC3DD0>: Failed to establish a new connection: [WinError 10048] Normalerweise darf jede Socketadresse (Protokoll, Netzwerkadresse oder Anschluss) nur jeweils einmal verwendet werden'))"
     ]
    }
   ],
   "source": [
    "# Now calling the updated function with the 'language' parameter\n",
    "property_labels_to_ids = {\n",
    "    'sexOrGender': 'P21',\n",
    "#    'image': 'P18',\n",
    "    'countryOfCitizenship': 'P27',\n",
    "    'givenName': 'P735',\n",
    "    'familyName': 'P734',\n",
    "    'dateOfBirth': 'P569',\n",
    "    'dateOfDeath': 'P570',\n",
    "    'occupation': 'P106',\n",
    "    'fieldOfWork': 'P101',\n",
    "    'viaf_id': 'P214',\n",
    "    'isni_id': 'P213',\n",
    "    'gnd_id': 'P227'\n",
    "}\n",
    "\n",
    "scholars = [\n",
    "    \"Hans Kelsen\",\n",
    "    \"Hugo Sinzheimer\",\n",
    "    (\"Karl Renner\",\"Q11726\"),\n",
    "    (\"Ernst Fraenkel\", \"Q86812\"),\n",
    "    (\"Franz Leopold Neumann\", \"Q63195\"),\n",
    "    \"Otto Kahn-Freund\",\n",
    "    \"Otto Kirchheimer\",\n",
    "    \"Herrmann Kantorowicz\",\n",
    "    (\"Ludwig Bendix\", \"Q28053205\"),\n",
    "    (\"Arthur Nussbaum\", \"Q103088\"),\n",
    "    \"Theodor Geiger\",\n",
    "    \"Erhard Blankenburg\",\n",
    "    \"Wolfgang Kaupen\",\n",
    "    \"Rüdiger Lautmann\",\n",
    "    \"Thilo Ramm\",\n",
    "    \"Rudolf Wiethölter\",\n",
    "    (\"Niklas Luhmann\",\"Q57238\"),\n",
    "    \"Gunther Teubner\",\n",
    "    \"Volkmar Gessner\",\n",
    "    \"Konstanze Plett\",\n",
    "    \"Ute Sacksofsky\",\n",
    "    (\"Susanne Baer\",\"Q101872\")\n",
    "]\n",
    "df = get_person_info_from_wikidata(scholars, property_labels_to_ids)\n",
    "df"
   ],
   "metadata": {
    "collapsed": false,
    "ExecuteTime": {
     "end_time": "2024-03-11T17:39:31.164638600Z",
     "start_time": "2024-03-11T17:39:24.677965500Z"
    }
   },
   "id": "19ddabbda261cc90"
  },
  {
   "cell_type": "code",
   "execution_count": null,
   "outputs": [],
   "source": [
    "from lib.dnb_data import get_publications"
   ],
   "metadata": {
    "collapsed": false
   },
   "id": "3eff0c20b3425b3d"
  },
  {
   "cell_type": "code",
   "execution_count": 3,
   "outputs": [
    {
     "ename": "NameError",
     "evalue": "name 'df' is not defined",
     "output_type": "error",
     "traceback": [
      "\u001B[1;31m---------------------------------------------------------------------------\u001B[0m",
      "\u001B[1;31mNameError\u001B[0m                                 Traceback (most recent call last)",
      "Cell \u001B[1;32mIn[3], line 1\u001B[0m\n\u001B[1;32m----> 1\u001B[0m df\u001B[38;5;241m.\u001B[39mto_csv(\u001B[38;5;124m\"\u001B[39m\u001B[38;5;124mscholars.csv\u001B[39m\u001B[38;5;124m\"\u001B[39m, index\u001B[38;5;241m=\u001B[39m\u001B[38;5;28;01mFalse\u001B[39;00m)\n",
      "\u001B[1;31mNameError\u001B[0m: name 'df' is not defined"
     ]
    }
   ],
   "source": [
    "df.to_csv(\"scholars.csv\", index=False)"
   ],
   "metadata": {
    "collapsed": false,
    "ExecuteTime": {
     "end_time": "2024-03-11T13:10:04.016364200Z",
     "start_time": "2024-03-11T13:10:02.070023900Z"
    }
   },
   "id": "c6c0cc347c8788d0"
  },
  {
   "cell_type": "code",
   "execution_count": 4,
   "outputs": [
    {
     "data": {
      "text/plain": "                fullName        item sexOrGender  \\\n0            Hans Kelsen      Q84165        male   \n1        Hugo Sinzheimer      Q86043        male   \n2            Karl Renner      Q11726        male   \n3         Ernst Fraenkel      Q86812        male   \n4  Franz Leopold Neumann  Q112562068        male   \n\n                                               image countryOfCitizenship  \\\n0  http://commons.wikimedia.org/wiki/Special:File...         Cisleithania   \n1  http://commons.wikimedia.org/wiki/Special:File...              Germany   \n2  http://commons.wikimedia.org/wiki/Special:File...         Cisleithania   \n3                                                NaN              Germany   \n4                                                NaN                  NaN   \n\n  givenName  familyName               dateOfBirth               dateOfDeath  \\\n0      Hans      Kelsen 1881-10-11 00:00:00+00:00 1973-04-19 00:00:00+00:00   \n1      Hugo  Sinzheimer 1875-04-12 00:00:00+00:00 1945-09-16 00:00:00+00:00   \n2      Karl      Renner 1870-12-14 00:00:00+00:00 1950-12-31 00:00:00+00:00   \n3     Ernst    Fraenkel 1898-12-26 00:00:00+00:00 1975-03-28 00:00:00+00:00   \n4   Leopold     Neumann                       NaT                       NaT   \n\n  occupation        fieldOfWork                     employer  \\\n0      judge  international law           Charles University   \n1     lawyer                NaN  Goethe University Frankfurt   \n2     lawyer           politics  Austrian Federal Government   \n3     lawyer                NaN       Free University Berlin   \n4    printer         publishing                          NaN   \n\n                 viaf_id           isni_id       gnd_id   duration  \n0               31998356  0000000121266076  118561219.0 33427 days  \n1               27864307  0000000109619641  118614711.0 25724 days  \n2               61669459  0000000121358165  118599739.0 29236 days  \n3               27108403  0000000110230959  118534602.0 27850 days  \n4  637163874508945722514               NaN          NaN        NaT  ",
      "text/html": "<div>\n<style scoped>\n    .dataframe tbody tr th:only-of-type {\n        vertical-align: middle;\n    }\n\n    .dataframe tbody tr th {\n        vertical-align: top;\n    }\n\n    .dataframe thead th {\n        text-align: right;\n    }\n</style>\n<table border=\"1\" class=\"dataframe\">\n  <thead>\n    <tr style=\"text-align: right;\">\n      <th></th>\n      <th>fullName</th>\n      <th>item</th>\n      <th>sexOrGender</th>\n      <th>image</th>\n      <th>countryOfCitizenship</th>\n      <th>givenName</th>\n      <th>familyName</th>\n      <th>dateOfBirth</th>\n      <th>dateOfDeath</th>\n      <th>occupation</th>\n      <th>fieldOfWork</th>\n      <th>employer</th>\n      <th>viaf_id</th>\n      <th>isni_id</th>\n      <th>gnd_id</th>\n      <th>duration</th>\n    </tr>\n  </thead>\n  <tbody>\n    <tr>\n      <th>0</th>\n      <td>Hans Kelsen</td>\n      <td>Q84165</td>\n      <td>male</td>\n      <td>http://commons.wikimedia.org/wiki/Special:File...</td>\n      <td>Cisleithania</td>\n      <td>Hans</td>\n      <td>Kelsen</td>\n      <td>1881-10-11 00:00:00+00:00</td>\n      <td>1973-04-19 00:00:00+00:00</td>\n      <td>judge</td>\n      <td>international law</td>\n      <td>Charles University</td>\n      <td>31998356</td>\n      <td>0000000121266076</td>\n      <td>118561219.0</td>\n      <td>33427 days</td>\n    </tr>\n    <tr>\n      <th>1</th>\n      <td>Hugo Sinzheimer</td>\n      <td>Q86043</td>\n      <td>male</td>\n      <td>http://commons.wikimedia.org/wiki/Special:File...</td>\n      <td>Germany</td>\n      <td>Hugo</td>\n      <td>Sinzheimer</td>\n      <td>1875-04-12 00:00:00+00:00</td>\n      <td>1945-09-16 00:00:00+00:00</td>\n      <td>lawyer</td>\n      <td>NaN</td>\n      <td>Goethe University Frankfurt</td>\n      <td>27864307</td>\n      <td>0000000109619641</td>\n      <td>118614711.0</td>\n      <td>25724 days</td>\n    </tr>\n    <tr>\n      <th>2</th>\n      <td>Karl Renner</td>\n      <td>Q11726</td>\n      <td>male</td>\n      <td>http://commons.wikimedia.org/wiki/Special:File...</td>\n      <td>Cisleithania</td>\n      <td>Karl</td>\n      <td>Renner</td>\n      <td>1870-12-14 00:00:00+00:00</td>\n      <td>1950-12-31 00:00:00+00:00</td>\n      <td>lawyer</td>\n      <td>politics</td>\n      <td>Austrian Federal Government</td>\n      <td>61669459</td>\n      <td>0000000121358165</td>\n      <td>118599739.0</td>\n      <td>29236 days</td>\n    </tr>\n    <tr>\n      <th>3</th>\n      <td>Ernst Fraenkel</td>\n      <td>Q86812</td>\n      <td>male</td>\n      <td>NaN</td>\n      <td>Germany</td>\n      <td>Ernst</td>\n      <td>Fraenkel</td>\n      <td>1898-12-26 00:00:00+00:00</td>\n      <td>1975-03-28 00:00:00+00:00</td>\n      <td>lawyer</td>\n      <td>NaN</td>\n      <td>Free University Berlin</td>\n      <td>27108403</td>\n      <td>0000000110230959</td>\n      <td>118534602.0</td>\n      <td>27850 days</td>\n    </tr>\n    <tr>\n      <th>4</th>\n      <td>Franz Leopold Neumann</td>\n      <td>Q112562068</td>\n      <td>male</td>\n      <td>NaN</td>\n      <td>NaN</td>\n      <td>Leopold</td>\n      <td>Neumann</td>\n      <td>NaT</td>\n      <td>NaT</td>\n      <td>printer</td>\n      <td>publishing</td>\n      <td>NaN</td>\n      <td>637163874508945722514</td>\n      <td>NaN</td>\n      <td>NaN</td>\n      <td>NaT</td>\n    </tr>\n  </tbody>\n</table>\n</div>"
     },
     "execution_count": 4,
     "metadata": {},
     "output_type": "execute_result"
    }
   ],
   "source": [
    "import pandas as pd\n",
    "\n",
    "# Load the data\n",
    "df = pd.read_csv(\"scholars.csv\", encoding='utf-8')\n",
    "# Convert date strings to datetime\n",
    "df['dateOfBirth'] = pd.to_datetime(df['dateOfBirth'])\n",
    "df['dateOfDeath'] = pd.to_datetime(df['dateOfDeath'])\n",
    "\n",
    "# Create a new column for the duration\n",
    "df['duration'] = df['dateOfDeath'] - df['dateOfBirth']\n",
    "\n",
    "# Display the first few rows to check\n",
    "df.head()\n"
   ],
   "metadata": {
    "collapsed": false,
    "ExecuteTime": {
     "end_time": "2024-03-10T19:10:57.836117100Z",
     "start_time": "2024-03-10T19:10:57.788823300Z"
    }
   },
   "id": "565d12a18f81abd0"
  },
  {
   "cell_type": "code",
   "execution_count": 8,
   "outputs": [
    {
     "data": {
      "application/vnd.plotly.v1+json": {
       "data": [
        {
         "alignmentgroup": "True",
         "base": [
          "1857-10-28T00:00:00+00:00",
          "1870-12-14T00:00:00+00:00",
          "1875-04-12T00:00:00+00:00",
          "1877-01-31T00:00:00+00:00",
          "1881-10-11T00:00:00+00:00",
          "1891-11-09T00:00:00+00:00",
          "1898-12-26T00:00:00+00:00",
          "1900-11-17T00:00:00+00:00",
          "1905-11-11T00:00:00+00:00",
          "1925-04-04T00:00:00+00:00",
          "1929-07-17T00:00:00+00:00",
          "1935-12-22T00:00:00+00:00",
          "1936-01-01T00:00:00+00:00",
          "1937-10-09T00:00:00+00:00",
          "1938-10-30T00:00:00+00:00",
          "1944-04-30T00:00:00+00:00",
          null,
          null
         ],
         "hovertemplate": "dateOfBirth=%{base}<br>dateOfDeath=%{x}<br>row=%{y}<br>fullName=%{text}<extra></extra>",
         "legendgroup": "",
         "marker": {
          "color": "#636efa",
          "pattern": {
           "shape": ""
          }
         },
         "name": "",
         "offsetgroup": "",
         "orientation": "h",
         "showlegend": false,
         "text": [
          "Ludwig Bendix",
          "Karl Renner",
          "Hugo Sinzheimer",
          "Arthur Nussbaum",
          "Hans Kelsen",
          "Theodor Geiger",
          "Ernst Fraenkel",
          "Otto Kahn-Freund",
          "Otto Kirchheimer",
          "Thilo Ramm",
          "Rudolf Wiethölter",
          "Rüdiger Lautmann",
          "Wolfgang Kaupen",
          "Volkmar Gessner",
          "Erhard Blankenburg",
          "Gunther Teubner",
          "Franz Leopold Neumann",
          "Niklas Luhmann"
         ],
         "textposition": "auto",
         "x": [
          2.08008E12,
          2.5259904E12,
          2.2225536E12,
          2.7709344E12,
          2.8880928E12,
          1.9123776E12,
          2.40624E12,
          2.4849504E12,
          1.8944064E12,
          2.9412288E12,
          null,
          null,
          1.4201568E12,
          2.4325056E12,
          2.5059456E12,
          null,
          null,
          null
         ],
         "xaxis": "x",
         "y": [
          0,
          1,
          2,
          3,
          4,
          5,
          6,
          7,
          8,
          0,
          9,
          10,
          11,
          12,
          13,
          14,
          15,
          16
         ],
         "yaxis": "y",
         "type": "bar"
        }
       ],
       "layout": {
        "template": {
         "data": {
          "histogram2dcontour": [
           {
            "type": "histogram2dcontour",
            "colorbar": {
             "outlinewidth": 0,
             "ticks": ""
            },
            "colorscale": [
             [
              0.0,
              "#0d0887"
             ],
             [
              0.1111111111111111,
              "#46039f"
             ],
             [
              0.2222222222222222,
              "#7201a8"
             ],
             [
              0.3333333333333333,
              "#9c179e"
             ],
             [
              0.4444444444444444,
              "#bd3786"
             ],
             [
              0.5555555555555556,
              "#d8576b"
             ],
             [
              0.6666666666666666,
              "#ed7953"
             ],
             [
              0.7777777777777778,
              "#fb9f3a"
             ],
             [
              0.8888888888888888,
              "#fdca26"
             ],
             [
              1.0,
              "#f0f921"
             ]
            ]
           }
          ],
          "choropleth": [
           {
            "type": "choropleth",
            "colorbar": {
             "outlinewidth": 0,
             "ticks": ""
            }
           }
          ],
          "histogram2d": [
           {
            "type": "histogram2d",
            "colorbar": {
             "outlinewidth": 0,
             "ticks": ""
            },
            "colorscale": [
             [
              0.0,
              "#0d0887"
             ],
             [
              0.1111111111111111,
              "#46039f"
             ],
             [
              0.2222222222222222,
              "#7201a8"
             ],
             [
              0.3333333333333333,
              "#9c179e"
             ],
             [
              0.4444444444444444,
              "#bd3786"
             ],
             [
              0.5555555555555556,
              "#d8576b"
             ],
             [
              0.6666666666666666,
              "#ed7953"
             ],
             [
              0.7777777777777778,
              "#fb9f3a"
             ],
             [
              0.8888888888888888,
              "#fdca26"
             ],
             [
              1.0,
              "#f0f921"
             ]
            ]
           }
          ],
          "heatmap": [
           {
            "type": "heatmap",
            "colorbar": {
             "outlinewidth": 0,
             "ticks": ""
            },
            "colorscale": [
             [
              0.0,
              "#0d0887"
             ],
             [
              0.1111111111111111,
              "#46039f"
             ],
             [
              0.2222222222222222,
              "#7201a8"
             ],
             [
              0.3333333333333333,
              "#9c179e"
             ],
             [
              0.4444444444444444,
              "#bd3786"
             ],
             [
              0.5555555555555556,
              "#d8576b"
             ],
             [
              0.6666666666666666,
              "#ed7953"
             ],
             [
              0.7777777777777778,
              "#fb9f3a"
             ],
             [
              0.8888888888888888,
              "#fdca26"
             ],
             [
              1.0,
              "#f0f921"
             ]
            ]
           }
          ],
          "heatmapgl": [
           {
            "type": "heatmapgl",
            "colorbar": {
             "outlinewidth": 0,
             "ticks": ""
            },
            "colorscale": [
             [
              0.0,
              "#0d0887"
             ],
             [
              0.1111111111111111,
              "#46039f"
             ],
             [
              0.2222222222222222,
              "#7201a8"
             ],
             [
              0.3333333333333333,
              "#9c179e"
             ],
             [
              0.4444444444444444,
              "#bd3786"
             ],
             [
              0.5555555555555556,
              "#d8576b"
             ],
             [
              0.6666666666666666,
              "#ed7953"
             ],
             [
              0.7777777777777778,
              "#fb9f3a"
             ],
             [
              0.8888888888888888,
              "#fdca26"
             ],
             [
              1.0,
              "#f0f921"
             ]
            ]
           }
          ],
          "contourcarpet": [
           {
            "type": "contourcarpet",
            "colorbar": {
             "outlinewidth": 0,
             "ticks": ""
            }
           }
          ],
          "contour": [
           {
            "type": "contour",
            "colorbar": {
             "outlinewidth": 0,
             "ticks": ""
            },
            "colorscale": [
             [
              0.0,
              "#0d0887"
             ],
             [
              0.1111111111111111,
              "#46039f"
             ],
             [
              0.2222222222222222,
              "#7201a8"
             ],
             [
              0.3333333333333333,
              "#9c179e"
             ],
             [
              0.4444444444444444,
              "#bd3786"
             ],
             [
              0.5555555555555556,
              "#d8576b"
             ],
             [
              0.6666666666666666,
              "#ed7953"
             ],
             [
              0.7777777777777778,
              "#fb9f3a"
             ],
             [
              0.8888888888888888,
              "#fdca26"
             ],
             [
              1.0,
              "#f0f921"
             ]
            ]
           }
          ],
          "surface": [
           {
            "type": "surface",
            "colorbar": {
             "outlinewidth": 0,
             "ticks": ""
            },
            "colorscale": [
             [
              0.0,
              "#0d0887"
             ],
             [
              0.1111111111111111,
              "#46039f"
             ],
             [
              0.2222222222222222,
              "#7201a8"
             ],
             [
              0.3333333333333333,
              "#9c179e"
             ],
             [
              0.4444444444444444,
              "#bd3786"
             ],
             [
              0.5555555555555556,
              "#d8576b"
             ],
             [
              0.6666666666666666,
              "#ed7953"
             ],
             [
              0.7777777777777778,
              "#fb9f3a"
             ],
             [
              0.8888888888888888,
              "#fdca26"
             ],
             [
              1.0,
              "#f0f921"
             ]
            ]
           }
          ],
          "mesh3d": [
           {
            "type": "mesh3d",
            "colorbar": {
             "outlinewidth": 0,
             "ticks": ""
            }
           }
          ],
          "scatter": [
           {
            "marker": {
             "line": {
              "color": "#283442"
             }
            },
            "type": "scatter"
           }
          ],
          "parcoords": [
           {
            "type": "parcoords",
            "line": {
             "colorbar": {
              "outlinewidth": 0,
              "ticks": ""
             }
            }
           }
          ],
          "scatterpolargl": [
           {
            "type": "scatterpolargl",
            "marker": {
             "colorbar": {
              "outlinewidth": 0,
              "ticks": ""
             }
            }
           }
          ],
          "bar": [
           {
            "error_x": {
             "color": "#f2f5fa"
            },
            "error_y": {
             "color": "#f2f5fa"
            },
            "marker": {
             "line": {
              "color": "rgb(17,17,17)",
              "width": 0.5
             },
             "pattern": {
              "fillmode": "overlay",
              "size": 10,
              "solidity": 0.2
             }
            },
            "type": "bar"
           }
          ],
          "scattergeo": [
           {
            "type": "scattergeo",
            "marker": {
             "colorbar": {
              "outlinewidth": 0,
              "ticks": ""
             }
            }
           }
          ],
          "scatterpolar": [
           {
            "type": "scatterpolar",
            "marker": {
             "colorbar": {
              "outlinewidth": 0,
              "ticks": ""
             }
            }
           }
          ],
          "histogram": [
           {
            "marker": {
             "pattern": {
              "fillmode": "overlay",
              "size": 10,
              "solidity": 0.2
             }
            },
            "type": "histogram"
           }
          ],
          "scattergl": [
           {
            "marker": {
             "line": {
              "color": "#283442"
             }
            },
            "type": "scattergl"
           }
          ],
          "scatter3d": [
           {
            "type": "scatter3d",
            "line": {
             "colorbar": {
              "outlinewidth": 0,
              "ticks": ""
             }
            },
            "marker": {
             "colorbar": {
              "outlinewidth": 0,
              "ticks": ""
             }
            }
           }
          ],
          "scattermapbox": [
           {
            "type": "scattermapbox",
            "marker": {
             "colorbar": {
              "outlinewidth": 0,
              "ticks": ""
             }
            }
           }
          ],
          "scatterternary": [
           {
            "type": "scatterternary",
            "marker": {
             "colorbar": {
              "outlinewidth": 0,
              "ticks": ""
             }
            }
           }
          ],
          "scattercarpet": [
           {
            "type": "scattercarpet",
            "marker": {
             "colorbar": {
              "outlinewidth": 0,
              "ticks": ""
             }
            }
           }
          ],
          "carpet": [
           {
            "aaxis": {
             "endlinecolor": "#A2B1C6",
             "gridcolor": "#506784",
             "linecolor": "#506784",
             "minorgridcolor": "#506784",
             "startlinecolor": "#A2B1C6"
            },
            "baxis": {
             "endlinecolor": "#A2B1C6",
             "gridcolor": "#506784",
             "linecolor": "#506784",
             "minorgridcolor": "#506784",
             "startlinecolor": "#A2B1C6"
            },
            "type": "carpet"
           }
          ],
          "table": [
           {
            "cells": {
             "fill": {
              "color": "#506784"
             },
             "line": {
              "color": "rgb(17,17,17)"
             }
            },
            "header": {
             "fill": {
              "color": "#2a3f5f"
             },
             "line": {
              "color": "rgb(17,17,17)"
             }
            },
            "type": "table"
           }
          ],
          "barpolar": [
           {
            "marker": {
             "line": {
              "color": "rgb(17,17,17)",
              "width": 0.5
             },
             "pattern": {
              "fillmode": "overlay",
              "size": 10,
              "solidity": 0.2
             }
            },
            "type": "barpolar"
           }
          ],
          "pie": [
           {
            "automargin": true,
            "type": "pie"
           }
          ]
         },
         "layout": {
          "autotypenumbers": "strict",
          "colorway": [
           "#636efa",
           "#EF553B",
           "#00cc96",
           "#ab63fa",
           "#FFA15A",
           "#19d3f3",
           "#FF6692",
           "#B6E880",
           "#FF97FF",
           "#FECB52"
          ],
          "font": {
           "color": "#f2f5fa"
          },
          "hovermode": "closest",
          "hoverlabel": {
           "align": "left"
          },
          "paper_bgcolor": "rgb(17,17,17)",
          "plot_bgcolor": "rgb(17,17,17)",
          "polar": {
           "bgcolor": "rgb(17,17,17)",
           "angularaxis": {
            "gridcolor": "#506784",
            "linecolor": "#506784",
            "ticks": ""
           },
           "radialaxis": {
            "gridcolor": "#506784",
            "linecolor": "#506784",
            "ticks": ""
           }
          },
          "ternary": {
           "bgcolor": "rgb(17,17,17)",
           "aaxis": {
            "gridcolor": "#506784",
            "linecolor": "#506784",
            "ticks": ""
           },
           "baxis": {
            "gridcolor": "#506784",
            "linecolor": "#506784",
            "ticks": ""
           },
           "caxis": {
            "gridcolor": "#506784",
            "linecolor": "#506784",
            "ticks": ""
           }
          },
          "coloraxis": {
           "colorbar": {
            "outlinewidth": 0,
            "ticks": ""
           }
          },
          "colorscale": {
           "sequential": [
            [
             0.0,
             "#0d0887"
            ],
            [
             0.1111111111111111,
             "#46039f"
            ],
            [
             0.2222222222222222,
             "#7201a8"
            ],
            [
             0.3333333333333333,
             "#9c179e"
            ],
            [
             0.4444444444444444,
             "#bd3786"
            ],
            [
             0.5555555555555556,
             "#d8576b"
            ],
            [
             0.6666666666666666,
             "#ed7953"
            ],
            [
             0.7777777777777778,
             "#fb9f3a"
            ],
            [
             0.8888888888888888,
             "#fdca26"
            ],
            [
             1.0,
             "#f0f921"
            ]
           ],
           "sequentialminus": [
            [
             0.0,
             "#0d0887"
            ],
            [
             0.1111111111111111,
             "#46039f"
            ],
            [
             0.2222222222222222,
             "#7201a8"
            ],
            [
             0.3333333333333333,
             "#9c179e"
            ],
            [
             0.4444444444444444,
             "#bd3786"
            ],
            [
             0.5555555555555556,
             "#d8576b"
            ],
            [
             0.6666666666666666,
             "#ed7953"
            ],
            [
             0.7777777777777778,
             "#fb9f3a"
            ],
            [
             0.8888888888888888,
             "#fdca26"
            ],
            [
             1.0,
             "#f0f921"
            ]
           ],
           "diverging": [
            [
             0,
             "#8e0152"
            ],
            [
             0.1,
             "#c51b7d"
            ],
            [
             0.2,
             "#de77ae"
            ],
            [
             0.3,
             "#f1b6da"
            ],
            [
             0.4,
             "#fde0ef"
            ],
            [
             0.5,
             "#f7f7f7"
            ],
            [
             0.6,
             "#e6f5d0"
            ],
            [
             0.7,
             "#b8e186"
            ],
            [
             0.8,
             "#7fbc41"
            ],
            [
             0.9,
             "#4d9221"
            ],
            [
             1,
             "#276419"
            ]
           ]
          },
          "xaxis": {
           "gridcolor": "#283442",
           "linecolor": "#506784",
           "ticks": "",
           "title": {
            "standoff": 15
           },
           "zerolinecolor": "#283442",
           "automargin": true,
           "zerolinewidth": 2
          },
          "yaxis": {
           "gridcolor": "#283442",
           "linecolor": "#506784",
           "ticks": "",
           "title": {
            "standoff": 15
           },
           "zerolinecolor": "#283442",
           "automargin": true,
           "zerolinewidth": 2
          },
          "scene": {
           "xaxis": {
            "backgroundcolor": "rgb(17,17,17)",
            "gridcolor": "#506784",
            "linecolor": "#506784",
            "showbackground": true,
            "ticks": "",
            "zerolinecolor": "#C8D4E3",
            "gridwidth": 2
           },
           "yaxis": {
            "backgroundcolor": "rgb(17,17,17)",
            "gridcolor": "#506784",
            "linecolor": "#506784",
            "showbackground": true,
            "ticks": "",
            "zerolinecolor": "#C8D4E3",
            "gridwidth": 2
           },
           "zaxis": {
            "backgroundcolor": "rgb(17,17,17)",
            "gridcolor": "#506784",
            "linecolor": "#506784",
            "showbackground": true,
            "ticks": "",
            "zerolinecolor": "#C8D4E3",
            "gridwidth": 2
           }
          },
          "shapedefaults": {
           "line": {
            "color": "#f2f5fa"
           }
          },
          "annotationdefaults": {
           "arrowcolor": "#f2f5fa",
           "arrowhead": 0,
           "arrowwidth": 1
          },
          "geo": {
           "bgcolor": "rgb(17,17,17)",
           "landcolor": "rgb(17,17,17)",
           "subunitcolor": "#506784",
           "showland": true,
           "showlakes": true,
           "lakecolor": "rgb(17,17,17)"
          },
          "title": {
           "x": 0.05
          },
          "updatemenudefaults": {
           "bgcolor": "#506784",
           "borderwidth": 0
          },
          "sliderdefaults": {
           "bgcolor": "#C8D4E3",
           "borderwidth": 1,
           "bordercolor": "rgb(17,17,17)",
           "tickwidth": 0
          },
          "mapbox": {
           "style": "dark"
          }
         }
        },
        "xaxis": {
         "anchor": "y",
         "domain": [
          0.0,
          1.0
         ],
         "type": "date"
        },
        "yaxis": {
         "anchor": "x",
         "domain": [
          0.0,
          1.0
         ],
         "title": {
          "text": "row"
         },
         "tickmode": "array",
         "tickvals": [],
         "ticktext": [],
         "autorange": "reversed"
        },
        "legend": {
         "tracegroupgap": 0
        },
        "title": {
         "text": "Scholars' Life Spans Timeline"
        },
        "barmode": "overlay"
       },
       "config": {
        "plotlyServerURL": "https://plot.ly"
       }
      },
      "text/html": "<div>                            <div id=\"55be47cb-91f4-4113-a440-84ef0ea8fe4c\" class=\"plotly-graph-div\" style=\"height:525px; width:100%;\"></div>            <script type=\"text/javascript\">                require([\"plotly\"], function(Plotly) {                    window.PLOTLYENV=window.PLOTLYENV || {};                                    if (document.getElementById(\"55be47cb-91f4-4113-a440-84ef0ea8fe4c\")) {                    Plotly.newPlot(                        \"55be47cb-91f4-4113-a440-84ef0ea8fe4c\",                        [{\"alignmentgroup\":\"True\",\"base\":[\"1857-10-28T00:00:00+00:00\",\"1870-12-14T00:00:00+00:00\",\"1875-04-12T00:00:00+00:00\",\"1877-01-31T00:00:00+00:00\",\"1881-10-11T00:00:00+00:00\",\"1891-11-09T00:00:00+00:00\",\"1898-12-26T00:00:00+00:00\",\"1900-11-17T00:00:00+00:00\",\"1905-11-11T00:00:00+00:00\",\"1925-04-04T00:00:00+00:00\",\"1929-07-17T00:00:00+00:00\",\"1935-12-22T00:00:00+00:00\",\"1936-01-01T00:00:00+00:00\",\"1937-10-09T00:00:00+00:00\",\"1938-10-30T00:00:00+00:00\",\"1944-04-30T00:00:00+00:00\",null,null],\"hovertemplate\":\"dateOfBirth=%{base}\\u003cbr\\u003edateOfDeath=%{x}\\u003cbr\\u003erow=%{y}\\u003cbr\\u003efullName=%{text}\\u003cextra\\u003e\\u003c\\u002fextra\\u003e\",\"legendgroup\":\"\",\"marker\":{\"color\":\"#636efa\",\"pattern\":{\"shape\":\"\"}},\"name\":\"\",\"offsetgroup\":\"\",\"orientation\":\"h\",\"showlegend\":false,\"text\":[\"Ludwig Bendix\",\"Karl Renner\",\"Hugo Sinzheimer\",\"Arthur Nussbaum\",\"Hans Kelsen\",\"Theodor Geiger\",\"Ernst Fraenkel\",\"Otto Kahn-Freund\",\"Otto Kirchheimer\",\"Thilo Ramm\",\"Rudolf Wiethölter\",\"Rüdiger Lautmann\",\"Wolfgang Kaupen\",\"Volkmar Gessner\",\"Erhard Blankenburg\",\"Gunther Teubner\",\"Franz Leopold Neumann\",\"Niklas Luhmann\"],\"textposition\":\"auto\",\"x\":[2080080000000.0,2525990400000.0,2222553600000.0,2770934400000.0,2888092800000.0,1912377600000.0,2406240000000.0,2484950400000.0,1894406400000.0,2941228800000.0,null,null,1420156800000.0,2432505600000.0,2505945600000.0,null,null,null],\"xaxis\":\"x\",\"y\":[0,1,2,3,4,5,6,7,8,0,9,10,11,12,13,14,15,16],\"yaxis\":\"y\",\"type\":\"bar\"}],                        {\"template\":{\"data\":{\"histogram2dcontour\":[{\"type\":\"histogram2dcontour\",\"colorbar\":{\"outlinewidth\":0,\"ticks\":\"\"},\"colorscale\":[[0.0,\"#0d0887\"],[0.1111111111111111,\"#46039f\"],[0.2222222222222222,\"#7201a8\"],[0.3333333333333333,\"#9c179e\"],[0.4444444444444444,\"#bd3786\"],[0.5555555555555556,\"#d8576b\"],[0.6666666666666666,\"#ed7953\"],[0.7777777777777778,\"#fb9f3a\"],[0.8888888888888888,\"#fdca26\"],[1.0,\"#f0f921\"]]}],\"choropleth\":[{\"type\":\"choropleth\",\"colorbar\":{\"outlinewidth\":0,\"ticks\":\"\"}}],\"histogram2d\":[{\"type\":\"histogram2d\",\"colorbar\":{\"outlinewidth\":0,\"ticks\":\"\"},\"colorscale\":[[0.0,\"#0d0887\"],[0.1111111111111111,\"#46039f\"],[0.2222222222222222,\"#7201a8\"],[0.3333333333333333,\"#9c179e\"],[0.4444444444444444,\"#bd3786\"],[0.5555555555555556,\"#d8576b\"],[0.6666666666666666,\"#ed7953\"],[0.7777777777777778,\"#fb9f3a\"],[0.8888888888888888,\"#fdca26\"],[1.0,\"#f0f921\"]]}],\"heatmap\":[{\"type\":\"heatmap\",\"colorbar\":{\"outlinewidth\":0,\"ticks\":\"\"},\"colorscale\":[[0.0,\"#0d0887\"],[0.1111111111111111,\"#46039f\"],[0.2222222222222222,\"#7201a8\"],[0.3333333333333333,\"#9c179e\"],[0.4444444444444444,\"#bd3786\"],[0.5555555555555556,\"#d8576b\"],[0.6666666666666666,\"#ed7953\"],[0.7777777777777778,\"#fb9f3a\"],[0.8888888888888888,\"#fdca26\"],[1.0,\"#f0f921\"]]}],\"heatmapgl\":[{\"type\":\"heatmapgl\",\"colorbar\":{\"outlinewidth\":0,\"ticks\":\"\"},\"colorscale\":[[0.0,\"#0d0887\"],[0.1111111111111111,\"#46039f\"],[0.2222222222222222,\"#7201a8\"],[0.3333333333333333,\"#9c179e\"],[0.4444444444444444,\"#bd3786\"],[0.5555555555555556,\"#d8576b\"],[0.6666666666666666,\"#ed7953\"],[0.7777777777777778,\"#fb9f3a\"],[0.8888888888888888,\"#fdca26\"],[1.0,\"#f0f921\"]]}],\"contourcarpet\":[{\"type\":\"contourcarpet\",\"colorbar\":{\"outlinewidth\":0,\"ticks\":\"\"}}],\"contour\":[{\"type\":\"contour\",\"colorbar\":{\"outlinewidth\":0,\"ticks\":\"\"},\"colorscale\":[[0.0,\"#0d0887\"],[0.1111111111111111,\"#46039f\"],[0.2222222222222222,\"#7201a8\"],[0.3333333333333333,\"#9c179e\"],[0.4444444444444444,\"#bd3786\"],[0.5555555555555556,\"#d8576b\"],[0.6666666666666666,\"#ed7953\"],[0.7777777777777778,\"#fb9f3a\"],[0.8888888888888888,\"#fdca26\"],[1.0,\"#f0f921\"]]}],\"surface\":[{\"type\":\"surface\",\"colorbar\":{\"outlinewidth\":0,\"ticks\":\"\"},\"colorscale\":[[0.0,\"#0d0887\"],[0.1111111111111111,\"#46039f\"],[0.2222222222222222,\"#7201a8\"],[0.3333333333333333,\"#9c179e\"],[0.4444444444444444,\"#bd3786\"],[0.5555555555555556,\"#d8576b\"],[0.6666666666666666,\"#ed7953\"],[0.7777777777777778,\"#fb9f3a\"],[0.8888888888888888,\"#fdca26\"],[1.0,\"#f0f921\"]]}],\"mesh3d\":[{\"type\":\"mesh3d\",\"colorbar\":{\"outlinewidth\":0,\"ticks\":\"\"}}],\"scatter\":[{\"marker\":{\"line\":{\"color\":\"#283442\"}},\"type\":\"scatter\"}],\"parcoords\":[{\"type\":\"parcoords\",\"line\":{\"colorbar\":{\"outlinewidth\":0,\"ticks\":\"\"}}}],\"scatterpolargl\":[{\"type\":\"scatterpolargl\",\"marker\":{\"colorbar\":{\"outlinewidth\":0,\"ticks\":\"\"}}}],\"bar\":[{\"error_x\":{\"color\":\"#f2f5fa\"},\"error_y\":{\"color\":\"#f2f5fa\"},\"marker\":{\"line\":{\"color\":\"rgb(17,17,17)\",\"width\":0.5},\"pattern\":{\"fillmode\":\"overlay\",\"size\":10,\"solidity\":0.2}},\"type\":\"bar\"}],\"scattergeo\":[{\"type\":\"scattergeo\",\"marker\":{\"colorbar\":{\"outlinewidth\":0,\"ticks\":\"\"}}}],\"scatterpolar\":[{\"type\":\"scatterpolar\",\"marker\":{\"colorbar\":{\"outlinewidth\":0,\"ticks\":\"\"}}}],\"histogram\":[{\"marker\":{\"pattern\":{\"fillmode\":\"overlay\",\"size\":10,\"solidity\":0.2}},\"type\":\"histogram\"}],\"scattergl\":[{\"marker\":{\"line\":{\"color\":\"#283442\"}},\"type\":\"scattergl\"}],\"scatter3d\":[{\"type\":\"scatter3d\",\"line\":{\"colorbar\":{\"outlinewidth\":0,\"ticks\":\"\"}},\"marker\":{\"colorbar\":{\"outlinewidth\":0,\"ticks\":\"\"}}}],\"scattermapbox\":[{\"type\":\"scattermapbox\",\"marker\":{\"colorbar\":{\"outlinewidth\":0,\"ticks\":\"\"}}}],\"scatterternary\":[{\"type\":\"scatterternary\",\"marker\":{\"colorbar\":{\"outlinewidth\":0,\"ticks\":\"\"}}}],\"scattercarpet\":[{\"type\":\"scattercarpet\",\"marker\":{\"colorbar\":{\"outlinewidth\":0,\"ticks\":\"\"}}}],\"carpet\":[{\"aaxis\":{\"endlinecolor\":\"#A2B1C6\",\"gridcolor\":\"#506784\",\"linecolor\":\"#506784\",\"minorgridcolor\":\"#506784\",\"startlinecolor\":\"#A2B1C6\"},\"baxis\":{\"endlinecolor\":\"#A2B1C6\",\"gridcolor\":\"#506784\",\"linecolor\":\"#506784\",\"minorgridcolor\":\"#506784\",\"startlinecolor\":\"#A2B1C6\"},\"type\":\"carpet\"}],\"table\":[{\"cells\":{\"fill\":{\"color\":\"#506784\"},\"line\":{\"color\":\"rgb(17,17,17)\"}},\"header\":{\"fill\":{\"color\":\"#2a3f5f\"},\"line\":{\"color\":\"rgb(17,17,17)\"}},\"type\":\"table\"}],\"barpolar\":[{\"marker\":{\"line\":{\"color\":\"rgb(17,17,17)\",\"width\":0.5},\"pattern\":{\"fillmode\":\"overlay\",\"size\":10,\"solidity\":0.2}},\"type\":\"barpolar\"}],\"pie\":[{\"automargin\":true,\"type\":\"pie\"}]},\"layout\":{\"autotypenumbers\":\"strict\",\"colorway\":[\"#636efa\",\"#EF553B\",\"#00cc96\",\"#ab63fa\",\"#FFA15A\",\"#19d3f3\",\"#FF6692\",\"#B6E880\",\"#FF97FF\",\"#FECB52\"],\"font\":{\"color\":\"#f2f5fa\"},\"hovermode\":\"closest\",\"hoverlabel\":{\"align\":\"left\"},\"paper_bgcolor\":\"rgb(17,17,17)\",\"plot_bgcolor\":\"rgb(17,17,17)\",\"polar\":{\"bgcolor\":\"rgb(17,17,17)\",\"angularaxis\":{\"gridcolor\":\"#506784\",\"linecolor\":\"#506784\",\"ticks\":\"\"},\"radialaxis\":{\"gridcolor\":\"#506784\",\"linecolor\":\"#506784\",\"ticks\":\"\"}},\"ternary\":{\"bgcolor\":\"rgb(17,17,17)\",\"aaxis\":{\"gridcolor\":\"#506784\",\"linecolor\":\"#506784\",\"ticks\":\"\"},\"baxis\":{\"gridcolor\":\"#506784\",\"linecolor\":\"#506784\",\"ticks\":\"\"},\"caxis\":{\"gridcolor\":\"#506784\",\"linecolor\":\"#506784\",\"ticks\":\"\"}},\"coloraxis\":{\"colorbar\":{\"outlinewidth\":0,\"ticks\":\"\"}},\"colorscale\":{\"sequential\":[[0.0,\"#0d0887\"],[0.1111111111111111,\"#46039f\"],[0.2222222222222222,\"#7201a8\"],[0.3333333333333333,\"#9c179e\"],[0.4444444444444444,\"#bd3786\"],[0.5555555555555556,\"#d8576b\"],[0.6666666666666666,\"#ed7953\"],[0.7777777777777778,\"#fb9f3a\"],[0.8888888888888888,\"#fdca26\"],[1.0,\"#f0f921\"]],\"sequentialminus\":[[0.0,\"#0d0887\"],[0.1111111111111111,\"#46039f\"],[0.2222222222222222,\"#7201a8\"],[0.3333333333333333,\"#9c179e\"],[0.4444444444444444,\"#bd3786\"],[0.5555555555555556,\"#d8576b\"],[0.6666666666666666,\"#ed7953\"],[0.7777777777777778,\"#fb9f3a\"],[0.8888888888888888,\"#fdca26\"],[1.0,\"#f0f921\"]],\"diverging\":[[0,\"#8e0152\"],[0.1,\"#c51b7d\"],[0.2,\"#de77ae\"],[0.3,\"#f1b6da\"],[0.4,\"#fde0ef\"],[0.5,\"#f7f7f7\"],[0.6,\"#e6f5d0\"],[0.7,\"#b8e186\"],[0.8,\"#7fbc41\"],[0.9,\"#4d9221\"],[1,\"#276419\"]]},\"xaxis\":{\"gridcolor\":\"#283442\",\"linecolor\":\"#506784\",\"ticks\":\"\",\"title\":{\"standoff\":15},\"zerolinecolor\":\"#283442\",\"automargin\":true,\"zerolinewidth\":2},\"yaxis\":{\"gridcolor\":\"#283442\",\"linecolor\":\"#506784\",\"ticks\":\"\",\"title\":{\"standoff\":15},\"zerolinecolor\":\"#283442\",\"automargin\":true,\"zerolinewidth\":2},\"scene\":{\"xaxis\":{\"backgroundcolor\":\"rgb(17,17,17)\",\"gridcolor\":\"#506784\",\"linecolor\":\"#506784\",\"showbackground\":true,\"ticks\":\"\",\"zerolinecolor\":\"#C8D4E3\",\"gridwidth\":2},\"yaxis\":{\"backgroundcolor\":\"rgb(17,17,17)\",\"gridcolor\":\"#506784\",\"linecolor\":\"#506784\",\"showbackground\":true,\"ticks\":\"\",\"zerolinecolor\":\"#C8D4E3\",\"gridwidth\":2},\"zaxis\":{\"backgroundcolor\":\"rgb(17,17,17)\",\"gridcolor\":\"#506784\",\"linecolor\":\"#506784\",\"showbackground\":true,\"ticks\":\"\",\"zerolinecolor\":\"#C8D4E3\",\"gridwidth\":2}},\"shapedefaults\":{\"line\":{\"color\":\"#f2f5fa\"}},\"annotationdefaults\":{\"arrowcolor\":\"#f2f5fa\",\"arrowhead\":0,\"arrowwidth\":1},\"geo\":{\"bgcolor\":\"rgb(17,17,17)\",\"landcolor\":\"rgb(17,17,17)\",\"subunitcolor\":\"#506784\",\"showland\":true,\"showlakes\":true,\"lakecolor\":\"rgb(17,17,17)\"},\"title\":{\"x\":0.05},\"updatemenudefaults\":{\"bgcolor\":\"#506784\",\"borderwidth\":0},\"sliderdefaults\":{\"bgcolor\":\"#C8D4E3\",\"borderwidth\":1,\"bordercolor\":\"rgb(17,17,17)\",\"tickwidth\":0},\"mapbox\":{\"style\":\"dark\"}}},\"xaxis\":{\"anchor\":\"y\",\"domain\":[0.0,1.0],\"type\":\"date\"},\"yaxis\":{\"anchor\":\"x\",\"domain\":[0.0,1.0],\"title\":{\"text\":\"row\"},\"tickmode\":\"array\",\"tickvals\":[],\"ticktext\":[],\"autorange\":\"reversed\"},\"legend\":{\"tracegroupgap\":0},\"title\":{\"text\":\"Scholars' Life Spans Timeline\"},\"barmode\":\"overlay\"},                        {\"responsive\": true}                    ).then(function(){\n                            \nvar gd = document.getElementById('55be47cb-91f4-4113-a440-84ef0ea8fe4c');\nvar x = new MutationObserver(function (mutations, observer) {{\n        var display = window.getComputedStyle(gd).display;\n        if (!display || display === 'none') {{\n            console.log([gd, 'removed!']);\n            Plotly.purge(gd);\n            observer.disconnect();\n        }}\n}});\n\n// Listen for the removal of the full notebook cells\nvar notebookContainer = gd.closest('#notebook-container');\nif (notebookContainer) {{\n    x.observe(notebookContainer, {childList: true});\n}}\n\n// Listen for the clearing of the current output cell\nvar outputEl = gd.closest('.output');\nif (outputEl) {{\n    x.observe(outputEl, {childList: true});\n}}\n\n                        })                };                });            </script>        </div>"
     },
     "metadata": {},
     "output_type": "display_data"
    }
   ],
   "source": [
    "import pandas as pd\n",
    "import plotly.express as px\n",
    "\n",
    "# Assuming df is already loaded and dateOfBirth/dateOfDeath are converted to datetime\n",
    "\n",
    "# Initialize a list to track the last dateOfDeath in each row to manage overlaps\n",
    "last_dates = []\n",
    "\n",
    "# Function to find the appropriate row for each scholar\n",
    "def find_row(last_dates, start_date):\n",
    "    for i, last_date in enumerate(last_dates):\n",
    "        if start_date > last_date:\n",
    "            return i\n",
    "    return len(last_dates)\n",
    "\n",
    "# Assign rows without overlaps and sort by the earliest dateOfBirth\n",
    "df['row'] = 0\n",
    "for index, scholar in df.iterrows():\n",
    "    row = find_row(last_dates, scholar['dateOfBirth'])\n",
    "    if row < len(last_dates):\n",
    "        last_dates[row] = scholar['dateOfDeath']\n",
    "    else:\n",
    "        last_dates.append(scholar['dateOfDeath'])\n",
    "    df.at[index, 'row'] = row\n",
    "\n",
    "# Now plotting without row labels\n",
    "fig = px.timeline(df, x_start=\"dateOfBirth\", x_end=\"dateOfDeath\", y=\"row\", text=\"fullName\", title=\"Scholars' Life Spans Timeline\")\n",
    "\n",
    "# Update layout\n",
    "fig.update_layout(yaxis=dict(tickmode='array', tickvals=[], ticktext=[]))\n",
    "fig.update_yaxes(autorange=\"reversed\")  # This reverses the y-axis to match your requirement\n",
    "\n",
    "fig.show()\n",
    "\n"
   ],
   "metadata": {
    "collapsed": false,
    "ExecuteTime": {
     "end_time": "2024-03-10T19:25:25.126760500Z",
     "start_time": "2024-03-10T19:25:25.076205200Z"
    }
   },
   "id": "9bdf188991f29962"
  },
  {
   "cell_type": "code",
   "execution_count": 44,
   "outputs": [],
   "source": [
    "import pandas as pd\n",
    "from datetime import datetime\n",
    "\n",
    "# Assuming df is your existing DataFrame\n",
    "\n",
    "# Convert dateOfBirth and dateOfDeath to just the year, handle NaT/NaN appropriately\n",
    "df['Year'] = pd.to_datetime(df['dateOfBirth'], errors='coerce').dt.year.astype('Int64')\n",
    "df['End Year'] = pd.to_datetime(df['dateOfDeath'], errors='coerce').dt.year.astype('Int64')\n",
    "\n",
    "# Create 'Display Date' as \"dateOfBirth - dateOfDeath\"\n",
    "df['Display Date'] = df['Year'].astype(str).replace('<NA>','')  + ' - ' + df['End Year'].astype(str).replace('<NA>','')\n",
    "\n",
    "# Create 'Headline' as \"fullName (dateOfBirth - dateOfDeath)\"\n",
    "df['Headline'] = df['fullName'] + ' (' + df['Display Date'] + ')'\n",
    "\n",
    "# Create 'Text' column by combining occupation, fieldOfWork, employer\n",
    "df['Text'] = df[['occupation', 'fieldOfWork']].apply(lambda x: '<br>'.join(x.dropna()), axis=1)\n",
    "\n",
    "# Use the image directly; assuming the URLs are already correctly formed in the 'image' column\n",
    "df['Media'] = df['image']\n",
    "\n",
    "# Add a \"Group\" column with the value \"actors\" for all rows\n",
    "df['Group'] = 'actors'\n",
    "\n",
    "# fix date columns\n",
    "df['Display Date'] = df['Display Date'].fillna('')  # Ensure no NaNs in Display Date\n",
    "df['Headline'] = df['Headline'].fillna('')  # Ensure no NaNs in Headline\n",
    "df['Text'] = df['Text'].fillna('')  # Ensure no NaNs in Text\n",
    "df['Media'] = df['Media'].fillna('')  # Ensure no NaNs in Media\n",
    "\n",
    "# Now select and order the DataFrame according to the TimelineJS template requirements\n",
    "columns = \"Year\tMonth\tDay\tTime\tEnd Year\tEnd Month\tEnd Day\tEnd Time\tDisplay Date\tHeadline\tText\tMedia\tMedia Credit\tMedia Caption\tMedia Thumbnail\tType\tGroup\tBackground\tLink\".split(\"\\t\")\n",
    "for col in columns:\n",
    "    if col not in df:\n",
    "        df[col] = ''\n",
    "timeline_df = df[columns]\n",
    "\n",
    "timeline_df.to_excel(\"timeline_data.xlsx\", index=False)\n"
   ],
   "metadata": {
    "collapsed": false,
    "ExecuteTime": {
     "end_time": "2024-03-06T15:08:24.294712700Z",
     "start_time": "2024-03-06T15:08:24.250520100Z"
    }
   },
   "id": "b8058de7fa9212b"
  },
  {
   "cell_type": "code",
   "execution_count": null,
   "outputs": [],
   "source": [],
   "metadata": {
    "collapsed": false
   },
   "id": "f4b14ea7d4941e57"
  }
 ],
 "metadata": {
  "kernelspec": {
   "display_name": "Python 3",
   "language": "python",
   "name": "python3"
  },
  "language_info": {
   "codemirror_mode": {
    "name": "ipython",
    "version": 2
   },
   "file_extension": ".py",
   "mimetype": "text/x-python",
   "name": "python",
   "nbconvert_exporter": "python",
   "pygments_lexer": "ipython2",
   "version": "2.7.6"
  }
 },
 "nbformat": 4,
 "nbformat_minor": 5
}
