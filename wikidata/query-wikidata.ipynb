{
 "cells": [
  {
   "cell_type": "code",
   "execution_count": 17,
   "id": "initial_id",
   "metadata": {
    "collapsed": true,
    "ExecuteTime": {
     "end_time": "2024-03-10T21:43:47.207010900Z",
     "start_time": "2024-03-10T21:43:47.199002300Z"
    }
   },
   "outputs": [],
   "source": [
    "import os.path\n",
    "import textwrap\n",
    "import requests\n",
    "import pandas as pd\n",
    "\n",
    "def generate_sparql_query(fullName, property_labels_to_ids, language='en'):\n",
    "    \"\"\"\n",
    "    Query WikiData for the properties of the given person listed in the given property map.\n",
    "    All properties that are simple values without a label must have an \"_id\" suffix, all date\n",
    "    properties must begin with \"date\"\n",
    "    :param fullName: \n",
    "    :param property_labels_to_ids: \n",
    "    :param language: \n",
    "    :return: \n",
    "    \"\"\"\n",
    "    propSelection = \"\"\n",
    "    for label, pid in property_labels_to_ids.items():\n",
    "        if label.endswith(\"_id\") or label.startswith(\"image\"):\n",
    "            # literal values, including URIs - this needs to be solved in a more generic way\n",
    "            propSelection += f\"\"\"\n",
    "                OPTIONAL {{ ?item wdt:{pid} ?{label}. }}\"\"\"\n",
    "        elif label.startswith(\"date\"):  \n",
    "            # Dates, fetched directly but need special handling for formatting if desired\n",
    "            propSelection += f\"\"\"\n",
    "                OPTIONAL {{ ?item wdt:{pid} ?{label}. }}\"\"\"\n",
    "        else:\n",
    "            propSelection += f\"\"\"\n",
    "                OPTIONAL {{ ?item wdt:{pid} ?{label}Id .\n",
    "                   ?{label}Id rdfs:label ?{label} FILTER(LANG(?{label}) = \"{language}\") .\n",
    "                   SERVICE wikibase:label {{ bd:serviceParam wikibase:language \"{language}\". }} }}\"\"\"\n",
    "\n",
    "    query = textwrap.dedent(f\"\"\"\n",
    "    SELECT DISTINCT ?item ?itemLabel {\"\".join([f\"(SAMPLE(?{label}) AS ?{label})\" for label in property_labels_to_ids])}\n",
    "    WHERE {{\n",
    "          ?item wdt:P31 wd:Q5; rdfs:label \"{fullName}\"@{language}.\n",
    "          {textwrap.dedent(propSelection)}\n",
    "    }}\n",
    "    GROUP BY ?item ?itemLabel \n",
    "    \"\"\")\n",
    "    return query\n",
    "\n",
    "def construct_image_url(filename):\n",
    "    return f\"https://commons.wikimedia.org/wiki/Special:FilePath/{requests.utils.quote(filename)}\"\n",
    "\n",
    "\n",
    "\n",
    "def query_wikidata(fullName, property_map, language='en'):\n",
    "    SPARQL_ENDPOINT = \"https://query.wikidata.org/sparql\"\n",
    "    query = generate_sparql_query(fullName, property_map, language)\n",
    "    headers = {'User-Agent': 'Mozilla/5.0', 'Accept': 'application/json'}\n",
    "    response = requests.get(SPARQL_ENDPOINT, headers=headers, params={'query': query, 'format': 'json'})\n",
    "\n",
    "    if response.status_code != 200:\n",
    "        response.raise_for_status()\n",
    "        \n",
    "    results = response.json()['results']['bindings']\n",
    "    \n",
    "    if not results:\n",
    "        return []\n",
    "\n",
    "    for i, result in enumerate(results):\n",
    "        # Initialize with fullName to ensure it appears first\n",
    "        data = {\n",
    "            'fullName': fullName\n",
    "        }\n",
    "   \n",
    "        for label in property_map:\n",
    "            if label in result:\n",
    "                value = result[label]['value']\n",
    "                data[label] = value\n",
    "            else:\n",
    "                data[label] = None\n",
    "                \n",
    "        # add item URI\n",
    "        data['qid'] = os.path.basename(result['item']['value'])\n",
    "        results[i] = data\n",
    "            \n",
    "    return results\n",
    "\n",
    "def get_wikipedia_links(qid, languages):\n",
    "    \"\"\"\n",
    "    Fetch Wikipedia links for a given Wikidata QID and a list of languages.\n",
    "\n",
    "    Parameters:\n",
    "    - qid (str): The QID of the Wikidata item.\n",
    "    - languages (list): A list of language codes (e.g., ['en', 'de']).\n",
    "\n",
    "    Returns:\n",
    "    - dict: A dictionary with languages as keys and Wikipedia URLs as values.\n",
    "    \"\"\"\n",
    "    url = \"https://www.wikidata.org/w/api.php\"\n",
    "    params = {\n",
    "        \"action\": \"wbgetentities\",\n",
    "        \"ids\": qid,\n",
    "        \"props\": \"sitelinks/urls\",\n",
    "        \"format\": \"json\"\n",
    "    }\n",
    "\n",
    "    response = requests.get(url, params=params)\n",
    "    data = response.json()\n",
    "\n",
    "    links = {}\n",
    "    if \"entities\" in data and qid in data[\"entities\"]:\n",
    "        sitelinks = data[\"entities\"][qid].get(\"sitelinks\", {})\n",
    "        for lang in languages:\n",
    "            sitekey = f\"{lang}wiki\"\n",
    "            if sitekey in sitelinks:\n",
    "                # Use the 'title' key and construct the URL manually\n",
    "                title = sitelinks[sitekey][\"title\"]\n",
    "                links[lang] = f\"https://{lang}.wikipedia.org/wiki/{requests.utils.quote(title)}\"\n",
    "            else:\n",
    "                links[lang] = None  # Or use '' to represent absence of link\n",
    "\n",
    "    return links\n",
    "\n",
    "\n",
    "\n",
    "def get_person_info_from_wikidata(names, property_map, language='en'):\n",
    "    all_data = []\n",
    "    for fullName in names:\n",
    "        results = query_wikidata(fullName, property_map, language)\n",
    "        all_data += results\n",
    "    if len(all_data) > 0:\n",
    "        # Ensure fullName appears first by reordering columns based on property_labels_to_ids keys\n",
    "        columns_order = ['fullName', 'qid'] + list(property_map.keys())\n",
    "        df = pd.DataFrame(all_data, columns=columns_order)\n",
    "        # add wikipedia links\n",
    "        df[f'wikipedia_{language}'] = df.apply(lambda r: get_wikipedia_links(r['qid'], [language]).get(language), axis=1 )\n",
    "    else:\n",
    "        df = pd.DataFrame(columns=['fullName'] + list(property_map.keys()) + [f'wikipedia_{language}']) \n",
    "    return df"
   ]
  },
  {
   "cell_type": "code",
   "execution_count": 19,
   "outputs": [
    {
     "data": {
      "text/plain": "                 fullName         qid sexOrGender  \\\n0             Hans Kelsen      Q84165        male   \n1         Hugo Sinzheimer      Q86043        male   \n2             Karl Renner   Q48010797        male   \n3             Karl Renner   Q15451414        male   \n4             Karl Renner   Q94817885        male   \n5             Karl Renner      Q11726        male   \n6             Karl Renner  Q107022720        male   \n7          Ernst Fraenkel   Q21997821        male   \n8          Ernst Fraenkel      Q92522        male   \n9          Ernst Fraenkel    Q1358093        male   \n10         Ernst Fraenkel      Q86812        male   \n11  Franz Leopold Neumann      Q63195        male   \n12  Franz Leopold Neumann  Q112562068        male   \n13       Otto Kahn-Freund     Q121832        male   \n14       Otto Kirchheimer     Q214397        male   \n15          Ludwig Bendix   Q28053205        male   \n16          Ludwig Bendix   Q15449424        male   \n17        Arthur Nussbaum     Q103088        male   \n18        Arthur Nussbaum   Q94847354        male   \n19         Theodor Geiger      Q96410        male   \n20     Erhard Blankenburg   Q51595283        male   \n21        Wolfgang Kaupen   Q93221485        male   \n22       Rüdiger Lautmann      Q91074        male   \n23             Thilo Ramm   Q59533838        male   \n24      Rudolf Wiethölter    Q1512482        male   \n25         Niklas Luhmann      Q57238        male   \n26         Niklas Luhmann   Q85691627        None   \n27         Niklas Luhmann   Q61803657        None   \n28        Gunther Teubner      Q98304        male   \n29        Volkmar Gessner   Q15435946        male   \n30        Konstanze Plett   Q95192683      female   \n31         Ute Sacksofsky   Q48562036      female   \n32           Susanne Baer   Q95656754      female   \n33           Susanne Baer     Q101872      female   \n\n                                                image  \\\n0   http://commons.wikimedia.org/wiki/Special:File...   \n1   http://commons.wikimedia.org/wiki/Special:File...   \n2                                                None   \n3   http://commons.wikimedia.org/wiki/Special:File...   \n4                                                None   \n5   http://commons.wikimedia.org/wiki/Special:File...   \n6                                                None   \n7                                                None   \n8                                                None   \n9                                                None   \n10                                               None   \n11                                               None   \n12                                               None   \n13  http://commons.wikimedia.org/wiki/Special:File...   \n14                                               None   \n15                                               None   \n16                                               None   \n17  http://commons.wikimedia.org/wiki/Special:File...   \n18                                               None   \n19                                               None   \n20  http://commons.wikimedia.org/wiki/Special:File...   \n21                                               None   \n22  http://commons.wikimedia.org/wiki/Special:File...   \n23                                               None   \n24                                               None   \n25  http://commons.wikimedia.org/wiki/Special:File...   \n26                                               None   \n27                                               None   \n28  http://commons.wikimedia.org/wiki/Special:File...   \n29  http://commons.wikimedia.org/wiki/Special:File...   \n30                                               None   \n31                                               None   \n32                                               None   \n33  http://commons.wikimedia.org/wiki/Special:File...   \n\n        countryOfCitizenship givenName   familyName           dateOfBirth  \\\n0   United States of America      Hans       Kelsen  1881-10-11T00:00:00Z   \n1                    Germany        D.   Sinzheimer  1875-01-01T00:00:00Z   \n2                    Austria      Karl       Renner  1884-12-24T00:00:00Z   \n3                    Germany      Karl       Renner  1833-05-13T00:00:00Z   \n4                       None      Karl       Renner                  None   \n5                    Austria      Karl       Renner  1870-12-14T00:00:00Z   \n6                       None      Karl       Renner  1889-12-01T00:00:00Z   \n7                       None     Ernst     Fraenkel  1923-01-01T00:00:00Z   \n8                    Germany     Ernst     Fraenkel  1881-10-16T00:00:00Z   \n9                    Germany     Ernst     Fraenkel  1891-04-05T00:00:00Z   \n10  United States of America     Ernst     Fraenkel  1898-12-26T00:00:00Z   \n11           Weimar Republic     Franz      Neumann  1900-05-23T00:00:00Z   \n12                      None     Franz      Neumann                  None   \n13                   Germany      Otto         None  1900-11-17T00:00:00Z   \n14  United States of America      Otto  Kirchheimer  1905-11-11T00:00:00Z   \n15                      None    Ludwig       Bendix  1857-10-28T00:00:00Z   \n16                   Germany    Ludwig       Bendix  1877-06-28T00:00:00Z   \n17  United States of America    Arthur     Nussbaum  1877-01-01T00:00:00Z   \n18                      None    Arthur         None  1853-10-18T00:00:00Z   \n19                   Denmark   Theodor       Geiger  1891-11-09T00:00:00Z   \n20                   Germany    Erhard  Blankenburg  1938-10-30T00:00:00Z   \n21                      None  Wolfgang         None  1936-01-01T00:00:00Z   \n22                   Germany   Rüdiger         None  1935-12-22T00:00:00Z   \n23                   Germany     Thilo         Ramm  1925-04-04T00:00:00Z   \n24                   Germany    Rudolf         None  1929-07-17T00:00:00Z   \n25                   Germany    Niklas      Luhmann  1927-12-08T00:00:00Z   \n26                      None      None         None                  None   \n27                      None      None         None                  None   \n28                   Germany   Gunther      Teubner  1944-04-30T00:00:00Z   \n29                   Germany   Volkmar      Gessner  1937-10-09T00:00:00Z   \n30                      None      None         None  1947-01-01T00:00:00Z   \n31                   Germany       Ute         None  1960-01-01T00:00:00Z   \n32                      None   Susanne         Baer                  None   \n33                   Germany   Susanne         Baer  1964-02-16T00:00:00Z   \n\n             dateOfDeath               occupation         fieldOfWork  \\\n0   1973-04-19T00:00:00Z              philosopher  constitutional law   \n1   1945-09-16T00:00:00Z           trade unionist                None   \n2   1929-06-24T00:00:00Z                     None                None   \n3   1913-09-22T00:00:00Z                 merchant                None   \n4                   None             board member                None   \n5   1950-12-31T00:00:00Z                 diplomat            politics   \n6   1947-05-17T00:00:00Z         local politician                None   \n7   2014-11-13T00:00:00Z           businessperson                None   \n8   1957-10-02T00:00:00Z                 linguist         linguistics   \n9   1971-08-18T00:00:00Z       economic historian                None   \n10  1975-03-28T00:00:00Z      political scientist                None   \n11  1954-09-02T00:00:00Z              sociologist                None   \n12                  None                  printer            pressing   \n13  1979-06-16T00:00:00Z       university teacher                None   \n14  1965-11-22T00:00:00Z       university teacher                None   \n15  1923-09-28T00:00:00Z       university teacher                None   \n16  1954-01-03T00:00:00Z                   notary                None   \n17  1964-01-01T00:00:00Z       university teacher   international law   \n18  1916-05-11T00:00:00Z               journalist                None   \n19  1952-06-16T00:00:00Z              sociologist                None   \n20  2018-03-28T00:00:00Z              sociologist    sociology of law   \n21  1981-01-01T00:00:00Z              sociologist    sociology of law   \n22                  None  LGBTQI+ rights activist       homosexuality   \n23  2018-06-17T00:00:00Z            legal scholar                None   \n24                  None       university teacher                None   \n25  1998-11-06T00:00:00Z            cyberneticist           sociology   \n26                  None               researcher                None   \n27                  None               researcher                None   \n28                  None                   jurist                None   \n29  2014-11-08T00:00:00Z              sociologist    sociology of law   \n30                  None                   jurist                None   \n31                  None       university teacher     comparative law   \n32                  None                    actor                None   \n33                  None                    judge                None   \n\n                  viaf_id           isni_id      gnd_id  \\\n0                31998356  0000000121266076   118561219   \n1                27864307  0000000109619641   118614711   \n2                78817437  0000000054940875   134869036   \n3               171170593              None  1012296458   \n4               100408035              None   139099409   \n5                61669459  0000000121358165   118599739   \n6                    None              None        None   \n7                    None              None        None   \n8                24595835  0000000081027854   11669064X   \n9                50078162              None   121259854   \n10               27108403  0000000110230959   118534602   \n11               15561879  0000000109564943   118587293   \n12  637163874508945722514              None        None   \n13               76317591  0000000109168959   118559362   \n14               32042801  0000000081110244   118562371   \n15               88720482  0000000061811334  1023309920   \n16               74647579  0000000081553379   118702033   \n17                5180962  0000000120988288   117071676   \n18              308715560              None  1051211875   \n19               56667946  0000000109038951   118538187   \n20               64109592  0000000110676109   115459235   \n21               32919813  0000000035495614   124045405   \n22               24732961  000000011469331X   120502208   \n23                9924244  0000000108689541   116327391   \n24              106974404  0000000116961365  1034437860   \n25               29546145  0000000122778532   118575147   \n26                   None              None        None   \n27                   None              None        None   \n28              108364502  0000000109312017   119443562   \n29               69100039  0000000109127065   170469328   \n30               20628376  0000000066847723   124957048   \n31               54395802  0000000109029166   132505746   \n32  189145911193727062107              None  1093595477   \n33              262465472  0000000030338599   113854161   \n\n                                         wikipedia_en  \n0         https://en.wikipedia.org/wiki/Hans%20Kelsen  \n1     https://en.wikipedia.org/wiki/Hugo%20Sinzheimer  \n2                                                None  \n3                                                None  \n4                                                None  \n5         https://en.wikipedia.org/wiki/Karl%20Renner  \n6                                                None  \n7   https://en.wikipedia.org/wiki/Ernst%20Fraenkel...  \n8   https://en.wikipedia.org/wiki/Ernst%20Fraenkel...  \n9                                                None  \n10  https://en.wikipedia.org/wiki/Ernst%20Fraenkel...  \n11  https://en.wikipedia.org/wiki/Franz%20Neumann%...  \n12                                               None  \n13   https://en.wikipedia.org/wiki/Otto%20Kahn-Freund  \n14   https://en.wikipedia.org/wiki/Otto%20Kirchheimer  \n15                                               None  \n16                                               None  \n17    https://en.wikipedia.org/wiki/Arthur%20Nussbaum  \n18                                               None  \n19     https://en.wikipedia.org/wiki/Theodor%20Geiger  \n20  https://en.wikipedia.org/wiki/Erhard%20Blanken...  \n21                                               None  \n22  https://en.wikipedia.org/wiki/R%C3%BCdiger%20L...  \n23                                               None  \n24                                               None  \n25     https://en.wikipedia.org/wiki/Niklas%20Luhmann  \n26                                               None  \n27                                               None  \n28    https://en.wikipedia.org/wiki/Gunther%20Teubner  \n29    https://en.wikipedia.org/wiki/Volkmar%20Gessner  \n30                                               None  \n31                                               None  \n32                                               None  \n33       https://en.wikipedia.org/wiki/Susanne%20Baer  ",
      "text/html": "<div>\n<style scoped>\n    .dataframe tbody tr th:only-of-type {\n        vertical-align: middle;\n    }\n\n    .dataframe tbody tr th {\n        vertical-align: top;\n    }\n\n    .dataframe thead th {\n        text-align: right;\n    }\n</style>\n<table border=\"1\" class=\"dataframe\">\n  <thead>\n    <tr style=\"text-align: right;\">\n      <th></th>\n      <th>fullName</th>\n      <th>qid</th>\n      <th>sexOrGender</th>\n      <th>image</th>\n      <th>countryOfCitizenship</th>\n      <th>givenName</th>\n      <th>familyName</th>\n      <th>dateOfBirth</th>\n      <th>dateOfDeath</th>\n      <th>occupation</th>\n      <th>fieldOfWork</th>\n      <th>viaf_id</th>\n      <th>isni_id</th>\n      <th>gnd_id</th>\n      <th>wikipedia_en</th>\n    </tr>\n  </thead>\n  <tbody>\n    <tr>\n      <th>0</th>\n      <td>Hans Kelsen</td>\n      <td>Q84165</td>\n      <td>male</td>\n      <td>http://commons.wikimedia.org/wiki/Special:File...</td>\n      <td>United States of America</td>\n      <td>Hans</td>\n      <td>Kelsen</td>\n      <td>1881-10-11T00:00:00Z</td>\n      <td>1973-04-19T00:00:00Z</td>\n      <td>philosopher</td>\n      <td>constitutional law</td>\n      <td>31998356</td>\n      <td>0000000121266076</td>\n      <td>118561219</td>\n      <td>https://en.wikipedia.org/wiki/Hans%20Kelsen</td>\n    </tr>\n    <tr>\n      <th>1</th>\n      <td>Hugo Sinzheimer</td>\n      <td>Q86043</td>\n      <td>male</td>\n      <td>http://commons.wikimedia.org/wiki/Special:File...</td>\n      <td>Germany</td>\n      <td>D.</td>\n      <td>Sinzheimer</td>\n      <td>1875-01-01T00:00:00Z</td>\n      <td>1945-09-16T00:00:00Z</td>\n      <td>trade unionist</td>\n      <td>None</td>\n      <td>27864307</td>\n      <td>0000000109619641</td>\n      <td>118614711</td>\n      <td>https://en.wikipedia.org/wiki/Hugo%20Sinzheimer</td>\n    </tr>\n    <tr>\n      <th>2</th>\n      <td>Karl Renner</td>\n      <td>Q48010797</td>\n      <td>male</td>\n      <td>None</td>\n      <td>Austria</td>\n      <td>Karl</td>\n      <td>Renner</td>\n      <td>1884-12-24T00:00:00Z</td>\n      <td>1929-06-24T00:00:00Z</td>\n      <td>None</td>\n      <td>None</td>\n      <td>78817437</td>\n      <td>0000000054940875</td>\n      <td>134869036</td>\n      <td>None</td>\n    </tr>\n    <tr>\n      <th>3</th>\n      <td>Karl Renner</td>\n      <td>Q15451414</td>\n      <td>male</td>\n      <td>http://commons.wikimedia.org/wiki/Special:File...</td>\n      <td>Germany</td>\n      <td>Karl</td>\n      <td>Renner</td>\n      <td>1833-05-13T00:00:00Z</td>\n      <td>1913-09-22T00:00:00Z</td>\n      <td>merchant</td>\n      <td>None</td>\n      <td>171170593</td>\n      <td>None</td>\n      <td>1012296458</td>\n      <td>None</td>\n    </tr>\n    <tr>\n      <th>4</th>\n      <td>Karl Renner</td>\n      <td>Q94817885</td>\n      <td>male</td>\n      <td>None</td>\n      <td>None</td>\n      <td>Karl</td>\n      <td>Renner</td>\n      <td>None</td>\n      <td>None</td>\n      <td>board member</td>\n      <td>None</td>\n      <td>100408035</td>\n      <td>None</td>\n      <td>139099409</td>\n      <td>None</td>\n    </tr>\n    <tr>\n      <th>5</th>\n      <td>Karl Renner</td>\n      <td>Q11726</td>\n      <td>male</td>\n      <td>http://commons.wikimedia.org/wiki/Special:File...</td>\n      <td>Austria</td>\n      <td>Karl</td>\n      <td>Renner</td>\n      <td>1870-12-14T00:00:00Z</td>\n      <td>1950-12-31T00:00:00Z</td>\n      <td>diplomat</td>\n      <td>politics</td>\n      <td>61669459</td>\n      <td>0000000121358165</td>\n      <td>118599739</td>\n      <td>https://en.wikipedia.org/wiki/Karl%20Renner</td>\n    </tr>\n    <tr>\n      <th>6</th>\n      <td>Karl Renner</td>\n      <td>Q107022720</td>\n      <td>male</td>\n      <td>None</td>\n      <td>None</td>\n      <td>Karl</td>\n      <td>Renner</td>\n      <td>1889-12-01T00:00:00Z</td>\n      <td>1947-05-17T00:00:00Z</td>\n      <td>local politician</td>\n      <td>None</td>\n      <td>None</td>\n      <td>None</td>\n      <td>None</td>\n      <td>None</td>\n    </tr>\n    <tr>\n      <th>7</th>\n      <td>Ernst Fraenkel</td>\n      <td>Q21997821</td>\n      <td>male</td>\n      <td>None</td>\n      <td>None</td>\n      <td>Ernst</td>\n      <td>Fraenkel</td>\n      <td>1923-01-01T00:00:00Z</td>\n      <td>2014-11-13T00:00:00Z</td>\n      <td>businessperson</td>\n      <td>None</td>\n      <td>None</td>\n      <td>None</td>\n      <td>None</td>\n      <td>https://en.wikipedia.org/wiki/Ernst%20Fraenkel...</td>\n    </tr>\n    <tr>\n      <th>8</th>\n      <td>Ernst Fraenkel</td>\n      <td>Q92522</td>\n      <td>male</td>\n      <td>None</td>\n      <td>Germany</td>\n      <td>Ernst</td>\n      <td>Fraenkel</td>\n      <td>1881-10-16T00:00:00Z</td>\n      <td>1957-10-02T00:00:00Z</td>\n      <td>linguist</td>\n      <td>linguistics</td>\n      <td>24595835</td>\n      <td>0000000081027854</td>\n      <td>11669064X</td>\n      <td>https://en.wikipedia.org/wiki/Ernst%20Fraenkel...</td>\n    </tr>\n    <tr>\n      <th>9</th>\n      <td>Ernst Fraenkel</td>\n      <td>Q1358093</td>\n      <td>male</td>\n      <td>None</td>\n      <td>Germany</td>\n      <td>Ernst</td>\n      <td>Fraenkel</td>\n      <td>1891-04-05T00:00:00Z</td>\n      <td>1971-08-18T00:00:00Z</td>\n      <td>economic historian</td>\n      <td>None</td>\n      <td>50078162</td>\n      <td>None</td>\n      <td>121259854</td>\n      <td>None</td>\n    </tr>\n    <tr>\n      <th>10</th>\n      <td>Ernst Fraenkel</td>\n      <td>Q86812</td>\n      <td>male</td>\n      <td>None</td>\n      <td>United States of America</td>\n      <td>Ernst</td>\n      <td>Fraenkel</td>\n      <td>1898-12-26T00:00:00Z</td>\n      <td>1975-03-28T00:00:00Z</td>\n      <td>political scientist</td>\n      <td>None</td>\n      <td>27108403</td>\n      <td>0000000110230959</td>\n      <td>118534602</td>\n      <td>https://en.wikipedia.org/wiki/Ernst%20Fraenkel...</td>\n    </tr>\n    <tr>\n      <th>11</th>\n      <td>Franz Leopold Neumann</td>\n      <td>Q63195</td>\n      <td>male</td>\n      <td>None</td>\n      <td>Weimar Republic</td>\n      <td>Franz</td>\n      <td>Neumann</td>\n      <td>1900-05-23T00:00:00Z</td>\n      <td>1954-09-02T00:00:00Z</td>\n      <td>sociologist</td>\n      <td>None</td>\n      <td>15561879</td>\n      <td>0000000109564943</td>\n      <td>118587293</td>\n      <td>https://en.wikipedia.org/wiki/Franz%20Neumann%...</td>\n    </tr>\n    <tr>\n      <th>12</th>\n      <td>Franz Leopold Neumann</td>\n      <td>Q112562068</td>\n      <td>male</td>\n      <td>None</td>\n      <td>None</td>\n      <td>Franz</td>\n      <td>Neumann</td>\n      <td>None</td>\n      <td>None</td>\n      <td>printer</td>\n      <td>pressing</td>\n      <td>637163874508945722514</td>\n      <td>None</td>\n      <td>None</td>\n      <td>None</td>\n    </tr>\n    <tr>\n      <th>13</th>\n      <td>Otto Kahn-Freund</td>\n      <td>Q121832</td>\n      <td>male</td>\n      <td>http://commons.wikimedia.org/wiki/Special:File...</td>\n      <td>Germany</td>\n      <td>Otto</td>\n      <td>None</td>\n      <td>1900-11-17T00:00:00Z</td>\n      <td>1979-06-16T00:00:00Z</td>\n      <td>university teacher</td>\n      <td>None</td>\n      <td>76317591</td>\n      <td>0000000109168959</td>\n      <td>118559362</td>\n      <td>https://en.wikipedia.org/wiki/Otto%20Kahn-Freund</td>\n    </tr>\n    <tr>\n      <th>14</th>\n      <td>Otto Kirchheimer</td>\n      <td>Q214397</td>\n      <td>male</td>\n      <td>None</td>\n      <td>United States of America</td>\n      <td>Otto</td>\n      <td>Kirchheimer</td>\n      <td>1905-11-11T00:00:00Z</td>\n      <td>1965-11-22T00:00:00Z</td>\n      <td>university teacher</td>\n      <td>None</td>\n      <td>32042801</td>\n      <td>0000000081110244</td>\n      <td>118562371</td>\n      <td>https://en.wikipedia.org/wiki/Otto%20Kirchheimer</td>\n    </tr>\n    <tr>\n      <th>15</th>\n      <td>Ludwig Bendix</td>\n      <td>Q28053205</td>\n      <td>male</td>\n      <td>None</td>\n      <td>None</td>\n      <td>Ludwig</td>\n      <td>Bendix</td>\n      <td>1857-10-28T00:00:00Z</td>\n      <td>1923-09-28T00:00:00Z</td>\n      <td>university teacher</td>\n      <td>None</td>\n      <td>88720482</td>\n      <td>0000000061811334</td>\n      <td>1023309920</td>\n      <td>None</td>\n    </tr>\n    <tr>\n      <th>16</th>\n      <td>Ludwig Bendix</td>\n      <td>Q15449424</td>\n      <td>male</td>\n      <td>None</td>\n      <td>Germany</td>\n      <td>Ludwig</td>\n      <td>Bendix</td>\n      <td>1877-06-28T00:00:00Z</td>\n      <td>1954-01-03T00:00:00Z</td>\n      <td>notary</td>\n      <td>None</td>\n      <td>74647579</td>\n      <td>0000000081553379</td>\n      <td>118702033</td>\n      <td>None</td>\n    </tr>\n    <tr>\n      <th>17</th>\n      <td>Arthur Nussbaum</td>\n      <td>Q103088</td>\n      <td>male</td>\n      <td>http://commons.wikimedia.org/wiki/Special:File...</td>\n      <td>United States of America</td>\n      <td>Arthur</td>\n      <td>Nussbaum</td>\n      <td>1877-01-01T00:00:00Z</td>\n      <td>1964-01-01T00:00:00Z</td>\n      <td>university teacher</td>\n      <td>international law</td>\n      <td>5180962</td>\n      <td>0000000120988288</td>\n      <td>117071676</td>\n      <td>https://en.wikipedia.org/wiki/Arthur%20Nussbaum</td>\n    </tr>\n    <tr>\n      <th>18</th>\n      <td>Arthur Nussbaum</td>\n      <td>Q94847354</td>\n      <td>male</td>\n      <td>None</td>\n      <td>None</td>\n      <td>Arthur</td>\n      <td>None</td>\n      <td>1853-10-18T00:00:00Z</td>\n      <td>1916-05-11T00:00:00Z</td>\n      <td>journalist</td>\n      <td>None</td>\n      <td>308715560</td>\n      <td>None</td>\n      <td>1051211875</td>\n      <td>None</td>\n    </tr>\n    <tr>\n      <th>19</th>\n      <td>Theodor Geiger</td>\n      <td>Q96410</td>\n      <td>male</td>\n      <td>None</td>\n      <td>Denmark</td>\n      <td>Theodor</td>\n      <td>Geiger</td>\n      <td>1891-11-09T00:00:00Z</td>\n      <td>1952-06-16T00:00:00Z</td>\n      <td>sociologist</td>\n      <td>None</td>\n      <td>56667946</td>\n      <td>0000000109038951</td>\n      <td>118538187</td>\n      <td>https://en.wikipedia.org/wiki/Theodor%20Geiger</td>\n    </tr>\n    <tr>\n      <th>20</th>\n      <td>Erhard Blankenburg</td>\n      <td>Q51595283</td>\n      <td>male</td>\n      <td>http://commons.wikimedia.org/wiki/Special:File...</td>\n      <td>Germany</td>\n      <td>Erhard</td>\n      <td>Blankenburg</td>\n      <td>1938-10-30T00:00:00Z</td>\n      <td>2018-03-28T00:00:00Z</td>\n      <td>sociologist</td>\n      <td>sociology of law</td>\n      <td>64109592</td>\n      <td>0000000110676109</td>\n      <td>115459235</td>\n      <td>https://en.wikipedia.org/wiki/Erhard%20Blanken...</td>\n    </tr>\n    <tr>\n      <th>21</th>\n      <td>Wolfgang Kaupen</td>\n      <td>Q93221485</td>\n      <td>male</td>\n      <td>None</td>\n      <td>None</td>\n      <td>Wolfgang</td>\n      <td>None</td>\n      <td>1936-01-01T00:00:00Z</td>\n      <td>1981-01-01T00:00:00Z</td>\n      <td>sociologist</td>\n      <td>sociology of law</td>\n      <td>32919813</td>\n      <td>0000000035495614</td>\n      <td>124045405</td>\n      <td>None</td>\n    </tr>\n    <tr>\n      <th>22</th>\n      <td>Rüdiger Lautmann</td>\n      <td>Q91074</td>\n      <td>male</td>\n      <td>http://commons.wikimedia.org/wiki/Special:File...</td>\n      <td>Germany</td>\n      <td>Rüdiger</td>\n      <td>None</td>\n      <td>1935-12-22T00:00:00Z</td>\n      <td>None</td>\n      <td>LGBTQI+ rights activist</td>\n      <td>homosexuality</td>\n      <td>24732961</td>\n      <td>000000011469331X</td>\n      <td>120502208</td>\n      <td>https://en.wikipedia.org/wiki/R%C3%BCdiger%20L...</td>\n    </tr>\n    <tr>\n      <th>23</th>\n      <td>Thilo Ramm</td>\n      <td>Q59533838</td>\n      <td>male</td>\n      <td>None</td>\n      <td>Germany</td>\n      <td>Thilo</td>\n      <td>Ramm</td>\n      <td>1925-04-04T00:00:00Z</td>\n      <td>2018-06-17T00:00:00Z</td>\n      <td>legal scholar</td>\n      <td>None</td>\n      <td>9924244</td>\n      <td>0000000108689541</td>\n      <td>116327391</td>\n      <td>None</td>\n    </tr>\n    <tr>\n      <th>24</th>\n      <td>Rudolf Wiethölter</td>\n      <td>Q1512482</td>\n      <td>male</td>\n      <td>None</td>\n      <td>Germany</td>\n      <td>Rudolf</td>\n      <td>None</td>\n      <td>1929-07-17T00:00:00Z</td>\n      <td>None</td>\n      <td>university teacher</td>\n      <td>None</td>\n      <td>106974404</td>\n      <td>0000000116961365</td>\n      <td>1034437860</td>\n      <td>None</td>\n    </tr>\n    <tr>\n      <th>25</th>\n      <td>Niklas Luhmann</td>\n      <td>Q57238</td>\n      <td>male</td>\n      <td>http://commons.wikimedia.org/wiki/Special:File...</td>\n      <td>Germany</td>\n      <td>Niklas</td>\n      <td>Luhmann</td>\n      <td>1927-12-08T00:00:00Z</td>\n      <td>1998-11-06T00:00:00Z</td>\n      <td>cyberneticist</td>\n      <td>sociology</td>\n      <td>29546145</td>\n      <td>0000000122778532</td>\n      <td>118575147</td>\n      <td>https://en.wikipedia.org/wiki/Niklas%20Luhmann</td>\n    </tr>\n    <tr>\n      <th>26</th>\n      <td>Niklas Luhmann</td>\n      <td>Q85691627</td>\n      <td>None</td>\n      <td>None</td>\n      <td>None</td>\n      <td>None</td>\n      <td>None</td>\n      <td>None</td>\n      <td>None</td>\n      <td>researcher</td>\n      <td>None</td>\n      <td>None</td>\n      <td>None</td>\n      <td>None</td>\n      <td>None</td>\n    </tr>\n    <tr>\n      <th>27</th>\n      <td>Niklas Luhmann</td>\n      <td>Q61803657</td>\n      <td>None</td>\n      <td>None</td>\n      <td>None</td>\n      <td>None</td>\n      <td>None</td>\n      <td>None</td>\n      <td>None</td>\n      <td>researcher</td>\n      <td>None</td>\n      <td>None</td>\n      <td>None</td>\n      <td>None</td>\n      <td>None</td>\n    </tr>\n    <tr>\n      <th>28</th>\n      <td>Gunther Teubner</td>\n      <td>Q98304</td>\n      <td>male</td>\n      <td>http://commons.wikimedia.org/wiki/Special:File...</td>\n      <td>Germany</td>\n      <td>Gunther</td>\n      <td>Teubner</td>\n      <td>1944-04-30T00:00:00Z</td>\n      <td>None</td>\n      <td>jurist</td>\n      <td>None</td>\n      <td>108364502</td>\n      <td>0000000109312017</td>\n      <td>119443562</td>\n      <td>https://en.wikipedia.org/wiki/Gunther%20Teubner</td>\n    </tr>\n    <tr>\n      <th>29</th>\n      <td>Volkmar Gessner</td>\n      <td>Q15435946</td>\n      <td>male</td>\n      <td>http://commons.wikimedia.org/wiki/Special:File...</td>\n      <td>Germany</td>\n      <td>Volkmar</td>\n      <td>Gessner</td>\n      <td>1937-10-09T00:00:00Z</td>\n      <td>2014-11-08T00:00:00Z</td>\n      <td>sociologist</td>\n      <td>sociology of law</td>\n      <td>69100039</td>\n      <td>0000000109127065</td>\n      <td>170469328</td>\n      <td>https://en.wikipedia.org/wiki/Volkmar%20Gessner</td>\n    </tr>\n    <tr>\n      <th>30</th>\n      <td>Konstanze Plett</td>\n      <td>Q95192683</td>\n      <td>female</td>\n      <td>None</td>\n      <td>None</td>\n      <td>None</td>\n      <td>None</td>\n      <td>1947-01-01T00:00:00Z</td>\n      <td>None</td>\n      <td>jurist</td>\n      <td>None</td>\n      <td>20628376</td>\n      <td>0000000066847723</td>\n      <td>124957048</td>\n      <td>None</td>\n    </tr>\n    <tr>\n      <th>31</th>\n      <td>Ute Sacksofsky</td>\n      <td>Q48562036</td>\n      <td>female</td>\n      <td>None</td>\n      <td>Germany</td>\n      <td>Ute</td>\n      <td>None</td>\n      <td>1960-01-01T00:00:00Z</td>\n      <td>None</td>\n      <td>university teacher</td>\n      <td>comparative law</td>\n      <td>54395802</td>\n      <td>0000000109029166</td>\n      <td>132505746</td>\n      <td>None</td>\n    </tr>\n    <tr>\n      <th>32</th>\n      <td>Susanne Baer</td>\n      <td>Q95656754</td>\n      <td>female</td>\n      <td>None</td>\n      <td>None</td>\n      <td>Susanne</td>\n      <td>Baer</td>\n      <td>None</td>\n      <td>None</td>\n      <td>actor</td>\n      <td>None</td>\n      <td>189145911193727062107</td>\n      <td>None</td>\n      <td>1093595477</td>\n      <td>None</td>\n    </tr>\n    <tr>\n      <th>33</th>\n      <td>Susanne Baer</td>\n      <td>Q101872</td>\n      <td>female</td>\n      <td>http://commons.wikimedia.org/wiki/Special:File...</td>\n      <td>Germany</td>\n      <td>Susanne</td>\n      <td>Baer</td>\n      <td>1964-02-16T00:00:00Z</td>\n      <td>None</td>\n      <td>judge</td>\n      <td>None</td>\n      <td>262465472</td>\n      <td>0000000030338599</td>\n      <td>113854161</td>\n      <td>https://en.wikipedia.org/wiki/Susanne%20Baer</td>\n    </tr>\n  </tbody>\n</table>\n</div>"
     },
     "execution_count": 19,
     "metadata": {},
     "output_type": "execute_result"
    }
   ],
   "source": [
    "# Now calling the updated function with the 'language' parameter\n",
    "property_labels_to_ids = {\n",
    "    'sexOrGender': 'P21',\n",
    "#    'image': 'P18',\n",
    "    'countryOfCitizenship': 'P27',\n",
    "    'givenName': 'P735',\n",
    "    'familyName': 'P734',\n",
    "    'dateOfBirth': 'P569',\n",
    "    'dateOfDeath': 'P570',\n",
    "    'occupation': 'P106',\n",
    "    'fieldOfWork': 'P101',\n",
    "    'viaf_id': 'P214',\n",
    "    'isni_id': 'P213',\n",
    "    'gnd_id': 'P227'\n",
    "}\n",
    "\n",
    "scholars = [\n",
    "    \"Hans Kelsen\",\n",
    "    \"Hugo Sinzheimer\",\n",
    "    \"Karl Renner\",\n",
    "    \"Ernst Fraenkel\",\n",
    "    \"Franz Leopold Neumann\",\n",
    "    \"Otto Kahn-Freund\",\n",
    "    \"Otto Kirchheimer\",\n",
    "    \"Herrmann Kantorowicz\",\n",
    "    \"Ludwig Bendix\",\n",
    "    \"Arthur Nussbaum\",\n",
    "    \"Theodor Geiger\",\n",
    "    \"Erhard Blankenburg\",\n",
    "    \"Wolfgang Kaupen\",\n",
    "    \"Rüdiger Lautmann\",\n",
    "    \"Thilo Ramm\",\n",
    "    \"Rudolf Wiethölter\",\n",
    "    \"Niklas Luhmann\",\n",
    "    \"Gunther Teubner\",\n",
    "    \"Volkmar Gessner\",\n",
    "    \"Konstanze Plett\",\n",
    "    \"Ute Sacksofsky\",\n",
    "    \"Susanne Baer\"\n",
    "]\n",
    "df = get_person_info_from_wikidata(scholars, property_labels_to_ids)\n",
    "df"
   ],
   "metadata": {
    "collapsed": false,
    "ExecuteTime": {
     "end_time": "2024-03-10T21:46:22.256487300Z",
     "start_time": "2024-03-10T21:45:35.629676Z"
    }
   },
   "id": "19ddabbda261cc90"
  },
  {
   "cell_type": "code",
   "execution_count": null,
   "outputs": [],
   "source": [
    "from lib.dnb_data import "
   ],
   "metadata": {
    "collapsed": false
   },
   "id": "3eff0c20b3425b3d"
  },
  {
   "cell_type": "code",
   "execution_count": 21,
   "outputs": [],
   "source": [
    "df.to_csv(\"scholars.csv\", index=False)"
   ],
   "metadata": {
    "collapsed": false,
    "ExecuteTime": {
     "end_time": "2024-03-10T21:46:57.602283400Z",
     "start_time": "2024-03-10T21:46:57.590155600Z"
    }
   },
   "id": "c6c0cc347c8788d0"
  },
  {
   "cell_type": "code",
   "execution_count": 4,
   "outputs": [
    {
     "data": {
      "text/plain": "                fullName        item sexOrGender  \\\n0            Hans Kelsen      Q84165        male   \n1        Hugo Sinzheimer      Q86043        male   \n2            Karl Renner      Q11726        male   \n3         Ernst Fraenkel      Q86812        male   \n4  Franz Leopold Neumann  Q112562068        male   \n\n                                               image countryOfCitizenship  \\\n0  http://commons.wikimedia.org/wiki/Special:File...         Cisleithania   \n1  http://commons.wikimedia.org/wiki/Special:File...              Germany   \n2  http://commons.wikimedia.org/wiki/Special:File...         Cisleithania   \n3                                                NaN              Germany   \n4                                                NaN                  NaN   \n\n  givenName  familyName               dateOfBirth               dateOfDeath  \\\n0      Hans      Kelsen 1881-10-11 00:00:00+00:00 1973-04-19 00:00:00+00:00   \n1      Hugo  Sinzheimer 1875-04-12 00:00:00+00:00 1945-09-16 00:00:00+00:00   \n2      Karl      Renner 1870-12-14 00:00:00+00:00 1950-12-31 00:00:00+00:00   \n3     Ernst    Fraenkel 1898-12-26 00:00:00+00:00 1975-03-28 00:00:00+00:00   \n4   Leopold     Neumann                       NaT                       NaT   \n\n  occupation        fieldOfWork                     employer  \\\n0      judge  international law           Charles University   \n1     lawyer                NaN  Goethe University Frankfurt   \n2     lawyer           politics  Austrian Federal Government   \n3     lawyer                NaN       Free University Berlin   \n4    printer         publishing                          NaN   \n\n                 viaf_id           isni_id       gnd_id   duration  \n0               31998356  0000000121266076  118561219.0 33427 days  \n1               27864307  0000000109619641  118614711.0 25724 days  \n2               61669459  0000000121358165  118599739.0 29236 days  \n3               27108403  0000000110230959  118534602.0 27850 days  \n4  637163874508945722514               NaN          NaN        NaT  ",
      "text/html": "<div>\n<style scoped>\n    .dataframe tbody tr th:only-of-type {\n        vertical-align: middle;\n    }\n\n    .dataframe tbody tr th {\n        vertical-align: top;\n    }\n\n    .dataframe thead th {\n        text-align: right;\n    }\n</style>\n<table border=\"1\" class=\"dataframe\">\n  <thead>\n    <tr style=\"text-align: right;\">\n      <th></th>\n      <th>fullName</th>\n      <th>item</th>\n      <th>sexOrGender</th>\n      <th>image</th>\n      <th>countryOfCitizenship</th>\n      <th>givenName</th>\n      <th>familyName</th>\n      <th>dateOfBirth</th>\n      <th>dateOfDeath</th>\n      <th>occupation</th>\n      <th>fieldOfWork</th>\n      <th>employer</th>\n      <th>viaf_id</th>\n      <th>isni_id</th>\n      <th>gnd_id</th>\n      <th>duration</th>\n    </tr>\n  </thead>\n  <tbody>\n    <tr>\n      <th>0</th>\n      <td>Hans Kelsen</td>\n      <td>Q84165</td>\n      <td>male</td>\n      <td>http://commons.wikimedia.org/wiki/Special:File...</td>\n      <td>Cisleithania</td>\n      <td>Hans</td>\n      <td>Kelsen</td>\n      <td>1881-10-11 00:00:00+00:00</td>\n      <td>1973-04-19 00:00:00+00:00</td>\n      <td>judge</td>\n      <td>international law</td>\n      <td>Charles University</td>\n      <td>31998356</td>\n      <td>0000000121266076</td>\n      <td>118561219.0</td>\n      <td>33427 days</td>\n    </tr>\n    <tr>\n      <th>1</th>\n      <td>Hugo Sinzheimer</td>\n      <td>Q86043</td>\n      <td>male</td>\n      <td>http://commons.wikimedia.org/wiki/Special:File...</td>\n      <td>Germany</td>\n      <td>Hugo</td>\n      <td>Sinzheimer</td>\n      <td>1875-04-12 00:00:00+00:00</td>\n      <td>1945-09-16 00:00:00+00:00</td>\n      <td>lawyer</td>\n      <td>NaN</td>\n      <td>Goethe University Frankfurt</td>\n      <td>27864307</td>\n      <td>0000000109619641</td>\n      <td>118614711.0</td>\n      <td>25724 days</td>\n    </tr>\n    <tr>\n      <th>2</th>\n      <td>Karl Renner</td>\n      <td>Q11726</td>\n      <td>male</td>\n      <td>http://commons.wikimedia.org/wiki/Special:File...</td>\n      <td>Cisleithania</td>\n      <td>Karl</td>\n      <td>Renner</td>\n      <td>1870-12-14 00:00:00+00:00</td>\n      <td>1950-12-31 00:00:00+00:00</td>\n      <td>lawyer</td>\n      <td>politics</td>\n      <td>Austrian Federal Government</td>\n      <td>61669459</td>\n      <td>0000000121358165</td>\n      <td>118599739.0</td>\n      <td>29236 days</td>\n    </tr>\n    <tr>\n      <th>3</th>\n      <td>Ernst Fraenkel</td>\n      <td>Q86812</td>\n      <td>male</td>\n      <td>NaN</td>\n      <td>Germany</td>\n      <td>Ernst</td>\n      <td>Fraenkel</td>\n      <td>1898-12-26 00:00:00+00:00</td>\n      <td>1975-03-28 00:00:00+00:00</td>\n      <td>lawyer</td>\n      <td>NaN</td>\n      <td>Free University Berlin</td>\n      <td>27108403</td>\n      <td>0000000110230959</td>\n      <td>118534602.0</td>\n      <td>27850 days</td>\n    </tr>\n    <tr>\n      <th>4</th>\n      <td>Franz Leopold Neumann</td>\n      <td>Q112562068</td>\n      <td>male</td>\n      <td>NaN</td>\n      <td>NaN</td>\n      <td>Leopold</td>\n      <td>Neumann</td>\n      <td>NaT</td>\n      <td>NaT</td>\n      <td>printer</td>\n      <td>publishing</td>\n      <td>NaN</td>\n      <td>637163874508945722514</td>\n      <td>NaN</td>\n      <td>NaN</td>\n      <td>NaT</td>\n    </tr>\n  </tbody>\n</table>\n</div>"
     },
     "execution_count": 4,
     "metadata": {},
     "output_type": "execute_result"
    }
   ],
   "source": [
    "import pandas as pd\n",
    "\n",
    "# Load the data\n",
    "df = pd.read_csv(\"scholars.csv\", encoding='utf-8')\n",
    "# Convert date strings to datetime\n",
    "df['dateOfBirth'] = pd.to_datetime(df['dateOfBirth'])\n",
    "df['dateOfDeath'] = pd.to_datetime(df['dateOfDeath'])\n",
    "\n",
    "# Create a new column for the duration\n",
    "df['duration'] = df['dateOfDeath'] - df['dateOfBirth']\n",
    "\n",
    "# Display the first few rows to check\n",
    "df.head()\n"
   ],
   "metadata": {
    "collapsed": false,
    "ExecuteTime": {
     "end_time": "2024-03-10T19:10:57.836117100Z",
     "start_time": "2024-03-10T19:10:57.788823300Z"
    }
   },
   "id": "565d12a18f81abd0"
  },
  {
   "cell_type": "code",
   "execution_count": 8,
   "outputs": [
    {
     "data": {
      "application/vnd.plotly.v1+json": {
       "data": [
        {
         "alignmentgroup": "True",
         "base": [
          "1857-10-28T00:00:00+00:00",
          "1870-12-14T00:00:00+00:00",
          "1875-04-12T00:00:00+00:00",
          "1877-01-31T00:00:00+00:00",
          "1881-10-11T00:00:00+00:00",
          "1891-11-09T00:00:00+00:00",
          "1898-12-26T00:00:00+00:00",
          "1900-11-17T00:00:00+00:00",
          "1905-11-11T00:00:00+00:00",
          "1925-04-04T00:00:00+00:00",
          "1929-07-17T00:00:00+00:00",
          "1935-12-22T00:00:00+00:00",
          "1936-01-01T00:00:00+00:00",
          "1937-10-09T00:00:00+00:00",
          "1938-10-30T00:00:00+00:00",
          "1944-04-30T00:00:00+00:00",
          null,
          null
         ],
         "hovertemplate": "dateOfBirth=%{base}<br>dateOfDeath=%{x}<br>row=%{y}<br>fullName=%{text}<extra></extra>",
         "legendgroup": "",
         "marker": {
          "color": "#636efa",
          "pattern": {
           "shape": ""
          }
         },
         "name": "",
         "offsetgroup": "",
         "orientation": "h",
         "showlegend": false,
         "text": [
          "Ludwig Bendix",
          "Karl Renner",
          "Hugo Sinzheimer",
          "Arthur Nussbaum",
          "Hans Kelsen",
          "Theodor Geiger",
          "Ernst Fraenkel",
          "Otto Kahn-Freund",
          "Otto Kirchheimer",
          "Thilo Ramm",
          "Rudolf Wiethölter",
          "Rüdiger Lautmann",
          "Wolfgang Kaupen",
          "Volkmar Gessner",
          "Erhard Blankenburg",
          "Gunther Teubner",
          "Franz Leopold Neumann",
          "Niklas Luhmann"
         ],
         "textposition": "auto",
         "x": [
          2.08008E12,
          2.5259904E12,
          2.2225536E12,
          2.7709344E12,
          2.8880928E12,
          1.9123776E12,
          2.40624E12,
          2.4849504E12,
          1.8944064E12,
          2.9412288E12,
          null,
          null,
          1.4201568E12,
          2.4325056E12,
          2.5059456E12,
          null,
          null,
          null
         ],
         "xaxis": "x",
         "y": [
          0,
          1,
          2,
          3,
          4,
          5,
          6,
          7,
          8,
          0,
          9,
          10,
          11,
          12,
          13,
          14,
          15,
          16
         ],
         "yaxis": "y",
         "type": "bar"
        }
       ],
       "layout": {
        "template": {
         "data": {
          "histogram2dcontour": [
           {
            "type": "histogram2dcontour",
            "colorbar": {
             "outlinewidth": 0,
             "ticks": ""
            },
            "colorscale": [
             [
              0.0,
              "#0d0887"
             ],
             [
              0.1111111111111111,
              "#46039f"
             ],
             [
              0.2222222222222222,
              "#7201a8"
             ],
             [
              0.3333333333333333,
              "#9c179e"
             ],
             [
              0.4444444444444444,
              "#bd3786"
             ],
             [
              0.5555555555555556,
              "#d8576b"
             ],
             [
              0.6666666666666666,
              "#ed7953"
             ],
             [
              0.7777777777777778,
              "#fb9f3a"
             ],
             [
              0.8888888888888888,
              "#fdca26"
             ],
             [
              1.0,
              "#f0f921"
             ]
            ]
           }
          ],
          "choropleth": [
           {
            "type": "choropleth",
            "colorbar": {
             "outlinewidth": 0,
             "ticks": ""
            }
           }
          ],
          "histogram2d": [
           {
            "type": "histogram2d",
            "colorbar": {
             "outlinewidth": 0,
             "ticks": ""
            },
            "colorscale": [
             [
              0.0,
              "#0d0887"
             ],
             [
              0.1111111111111111,
              "#46039f"
             ],
             [
              0.2222222222222222,
              "#7201a8"
             ],
             [
              0.3333333333333333,
              "#9c179e"
             ],
             [
              0.4444444444444444,
              "#bd3786"
             ],
             [
              0.5555555555555556,
              "#d8576b"
             ],
             [
              0.6666666666666666,
              "#ed7953"
             ],
             [
              0.7777777777777778,
              "#fb9f3a"
             ],
             [
              0.8888888888888888,
              "#fdca26"
             ],
             [
              1.0,
              "#f0f921"
             ]
            ]
           }
          ],
          "heatmap": [
           {
            "type": "heatmap",
            "colorbar": {
             "outlinewidth": 0,
             "ticks": ""
            },
            "colorscale": [
             [
              0.0,
              "#0d0887"
             ],
             [
              0.1111111111111111,
              "#46039f"
             ],
             [
              0.2222222222222222,
              "#7201a8"
             ],
             [
              0.3333333333333333,
              "#9c179e"
             ],
             [
              0.4444444444444444,
              "#bd3786"
             ],
             [
              0.5555555555555556,
              "#d8576b"
             ],
             [
              0.6666666666666666,
              "#ed7953"
             ],
             [
              0.7777777777777778,
              "#fb9f3a"
             ],
             [
              0.8888888888888888,
              "#fdca26"
             ],
             [
              1.0,
              "#f0f921"
             ]
            ]
           }
          ],
          "heatmapgl": [
           {
            "type": "heatmapgl",
            "colorbar": {
             "outlinewidth": 0,
             "ticks": ""
            },
            "colorscale": [
             [
              0.0,
              "#0d0887"
             ],
             [
              0.1111111111111111,
              "#46039f"
             ],
             [
              0.2222222222222222,
              "#7201a8"
             ],
             [
              0.3333333333333333,
              "#9c179e"
             ],
             [
              0.4444444444444444,
              "#bd3786"
             ],
             [
              0.5555555555555556,
              "#d8576b"
             ],
             [
              0.6666666666666666,
              "#ed7953"
             ],
             [
              0.7777777777777778,
              "#fb9f3a"
             ],
             [
              0.8888888888888888,
              "#fdca26"
             ],
             [
              1.0,
              "#f0f921"
             ]
            ]
           }
          ],
          "contourcarpet": [
           {
            "type": "contourcarpet",
            "colorbar": {
             "outlinewidth": 0,
             "ticks": ""
            }
           }
          ],
          "contour": [
           {
            "type": "contour",
            "colorbar": {
             "outlinewidth": 0,
             "ticks": ""
            },
            "colorscale": [
             [
              0.0,
              "#0d0887"
             ],
             [
              0.1111111111111111,
              "#46039f"
             ],
             [
              0.2222222222222222,
              "#7201a8"
             ],
             [
              0.3333333333333333,
              "#9c179e"
             ],
             [
              0.4444444444444444,
              "#bd3786"
             ],
             [
              0.5555555555555556,
              "#d8576b"
             ],
             [
              0.6666666666666666,
              "#ed7953"
             ],
             [
              0.7777777777777778,
              "#fb9f3a"
             ],
             [
              0.8888888888888888,
              "#fdca26"
             ],
             [
              1.0,
              "#f0f921"
             ]
            ]
           }
          ],
          "surface": [
           {
            "type": "surface",
            "colorbar": {
             "outlinewidth": 0,
             "ticks": ""
            },
            "colorscale": [
             [
              0.0,
              "#0d0887"
             ],
             [
              0.1111111111111111,
              "#46039f"
             ],
             [
              0.2222222222222222,
              "#7201a8"
             ],
             [
              0.3333333333333333,
              "#9c179e"
             ],
             [
              0.4444444444444444,
              "#bd3786"
             ],
             [
              0.5555555555555556,
              "#d8576b"
             ],
             [
              0.6666666666666666,
              "#ed7953"
             ],
             [
              0.7777777777777778,
              "#fb9f3a"
             ],
             [
              0.8888888888888888,
              "#fdca26"
             ],
             [
              1.0,
              "#f0f921"
             ]
            ]
           }
          ],
          "mesh3d": [
           {
            "type": "mesh3d",
            "colorbar": {
             "outlinewidth": 0,
             "ticks": ""
            }
           }
          ],
          "scatter": [
           {
            "marker": {
             "line": {
              "color": "#283442"
             }
            },
            "type": "scatter"
           }
          ],
          "parcoords": [
           {
            "type": "parcoords",
            "line": {
             "colorbar": {
              "outlinewidth": 0,
              "ticks": ""
             }
            }
           }
          ],
          "scatterpolargl": [
           {
            "type": "scatterpolargl",
            "marker": {
             "colorbar": {
              "outlinewidth": 0,
              "ticks": ""
             }
            }
           }
          ],
          "bar": [
           {
            "error_x": {
             "color": "#f2f5fa"
            },
            "error_y": {
             "color": "#f2f5fa"
            },
            "marker": {
             "line": {
              "color": "rgb(17,17,17)",
              "width": 0.5
             },
             "pattern": {
              "fillmode": "overlay",
              "size": 10,
              "solidity": 0.2
             }
            },
            "type": "bar"
           }
          ],
          "scattergeo": [
           {
            "type": "scattergeo",
            "marker": {
             "colorbar": {
              "outlinewidth": 0,
              "ticks": ""
             }
            }
           }
          ],
          "scatterpolar": [
           {
            "type": "scatterpolar",
            "marker": {
             "colorbar": {
              "outlinewidth": 0,
              "ticks": ""
             }
            }
           }
          ],
          "histogram": [
           {
            "marker": {
             "pattern": {
              "fillmode": "overlay",
              "size": 10,
              "solidity": 0.2
             }
            },
            "type": "histogram"
           }
          ],
          "scattergl": [
           {
            "marker": {
             "line": {
              "color": "#283442"
             }
            },
            "type": "scattergl"
           }
          ],
          "scatter3d": [
           {
            "type": "scatter3d",
            "line": {
             "colorbar": {
              "outlinewidth": 0,
              "ticks": ""
             }
            },
            "marker": {
             "colorbar": {
              "outlinewidth": 0,
              "ticks": ""
             }
            }
           }
          ],
          "scattermapbox": [
           {
            "type": "scattermapbox",
            "marker": {
             "colorbar": {
              "outlinewidth": 0,
              "ticks": ""
             }
            }
           }
          ],
          "scatterternary": [
           {
            "type": "scatterternary",
            "marker": {
             "colorbar": {
              "outlinewidth": 0,
              "ticks": ""
             }
            }
           }
          ],
          "scattercarpet": [
           {
            "type": "scattercarpet",
            "marker": {
             "colorbar": {
              "outlinewidth": 0,
              "ticks": ""
             }
            }
           }
          ],
          "carpet": [
           {
            "aaxis": {
             "endlinecolor": "#A2B1C6",
             "gridcolor": "#506784",
             "linecolor": "#506784",
             "minorgridcolor": "#506784",
             "startlinecolor": "#A2B1C6"
            },
            "baxis": {
             "endlinecolor": "#A2B1C6",
             "gridcolor": "#506784",
             "linecolor": "#506784",
             "minorgridcolor": "#506784",
             "startlinecolor": "#A2B1C6"
            },
            "type": "carpet"
           }
          ],
          "table": [
           {
            "cells": {
             "fill": {
              "color": "#506784"
             },
             "line": {
              "color": "rgb(17,17,17)"
             }
            },
            "header": {
             "fill": {
              "color": "#2a3f5f"
             },
             "line": {
              "color": "rgb(17,17,17)"
             }
            },
            "type": "table"
           }
          ],
          "barpolar": [
           {
            "marker": {
             "line": {
              "color": "rgb(17,17,17)",
              "width": 0.5
             },
             "pattern": {
              "fillmode": "overlay",
              "size": 10,
              "solidity": 0.2
             }
            },
            "type": "barpolar"
           }
          ],
          "pie": [
           {
            "automargin": true,
            "type": "pie"
           }
          ]
         },
         "layout": {
          "autotypenumbers": "strict",
          "colorway": [
           "#636efa",
           "#EF553B",
           "#00cc96",
           "#ab63fa",
           "#FFA15A",
           "#19d3f3",
           "#FF6692",
           "#B6E880",
           "#FF97FF",
           "#FECB52"
          ],
          "font": {
           "color": "#f2f5fa"
          },
          "hovermode": "closest",
          "hoverlabel": {
           "align": "left"
          },
          "paper_bgcolor": "rgb(17,17,17)",
          "plot_bgcolor": "rgb(17,17,17)",
          "polar": {
           "bgcolor": "rgb(17,17,17)",
           "angularaxis": {
            "gridcolor": "#506784",
            "linecolor": "#506784",
            "ticks": ""
           },
           "radialaxis": {
            "gridcolor": "#506784",
            "linecolor": "#506784",
            "ticks": ""
           }
          },
          "ternary": {
           "bgcolor": "rgb(17,17,17)",
           "aaxis": {
            "gridcolor": "#506784",
            "linecolor": "#506784",
            "ticks": ""
           },
           "baxis": {
            "gridcolor": "#506784",
            "linecolor": "#506784",
            "ticks": ""
           },
           "caxis": {
            "gridcolor": "#506784",
            "linecolor": "#506784",
            "ticks": ""
           }
          },
          "coloraxis": {
           "colorbar": {
            "outlinewidth": 0,
            "ticks": ""
           }
          },
          "colorscale": {
           "sequential": [
            [
             0.0,
             "#0d0887"
            ],
            [
             0.1111111111111111,
             "#46039f"
            ],
            [
             0.2222222222222222,
             "#7201a8"
            ],
            [
             0.3333333333333333,
             "#9c179e"
            ],
            [
             0.4444444444444444,
             "#bd3786"
            ],
            [
             0.5555555555555556,
             "#d8576b"
            ],
            [
             0.6666666666666666,
             "#ed7953"
            ],
            [
             0.7777777777777778,
             "#fb9f3a"
            ],
            [
             0.8888888888888888,
             "#fdca26"
            ],
            [
             1.0,
             "#f0f921"
            ]
           ],
           "sequentialminus": [
            [
             0.0,
             "#0d0887"
            ],
            [
             0.1111111111111111,
             "#46039f"
            ],
            [
             0.2222222222222222,
             "#7201a8"
            ],
            [
             0.3333333333333333,
             "#9c179e"
            ],
            [
             0.4444444444444444,
             "#bd3786"
            ],
            [
             0.5555555555555556,
             "#d8576b"
            ],
            [
             0.6666666666666666,
             "#ed7953"
            ],
            [
             0.7777777777777778,
             "#fb9f3a"
            ],
            [
             0.8888888888888888,
             "#fdca26"
            ],
            [
             1.0,
             "#f0f921"
            ]
           ],
           "diverging": [
            [
             0,
             "#8e0152"
            ],
            [
             0.1,
             "#c51b7d"
            ],
            [
             0.2,
             "#de77ae"
            ],
            [
             0.3,
             "#f1b6da"
            ],
            [
             0.4,
             "#fde0ef"
            ],
            [
             0.5,
             "#f7f7f7"
            ],
            [
             0.6,
             "#e6f5d0"
            ],
            [
             0.7,
             "#b8e186"
            ],
            [
             0.8,
             "#7fbc41"
            ],
            [
             0.9,
             "#4d9221"
            ],
            [
             1,
             "#276419"
            ]
           ]
          },
          "xaxis": {
           "gridcolor": "#283442",
           "linecolor": "#506784",
           "ticks": "",
           "title": {
            "standoff": 15
           },
           "zerolinecolor": "#283442",
           "automargin": true,
           "zerolinewidth": 2
          },
          "yaxis": {
           "gridcolor": "#283442",
           "linecolor": "#506784",
           "ticks": "",
           "title": {
            "standoff": 15
           },
           "zerolinecolor": "#283442",
           "automargin": true,
           "zerolinewidth": 2
          },
          "scene": {
           "xaxis": {
            "backgroundcolor": "rgb(17,17,17)",
            "gridcolor": "#506784",
            "linecolor": "#506784",
            "showbackground": true,
            "ticks": "",
            "zerolinecolor": "#C8D4E3",
            "gridwidth": 2
           },
           "yaxis": {
            "backgroundcolor": "rgb(17,17,17)",
            "gridcolor": "#506784",
            "linecolor": "#506784",
            "showbackground": true,
            "ticks": "",
            "zerolinecolor": "#C8D4E3",
            "gridwidth": 2
           },
           "zaxis": {
            "backgroundcolor": "rgb(17,17,17)",
            "gridcolor": "#506784",
            "linecolor": "#506784",
            "showbackground": true,
            "ticks": "",
            "zerolinecolor": "#C8D4E3",
            "gridwidth": 2
           }
          },
          "shapedefaults": {
           "line": {
            "color": "#f2f5fa"
           }
          },
          "annotationdefaults": {
           "arrowcolor": "#f2f5fa",
           "arrowhead": 0,
           "arrowwidth": 1
          },
          "geo": {
           "bgcolor": "rgb(17,17,17)",
           "landcolor": "rgb(17,17,17)",
           "subunitcolor": "#506784",
           "showland": true,
           "showlakes": true,
           "lakecolor": "rgb(17,17,17)"
          },
          "title": {
           "x": 0.05
          },
          "updatemenudefaults": {
           "bgcolor": "#506784",
           "borderwidth": 0
          },
          "sliderdefaults": {
           "bgcolor": "#C8D4E3",
           "borderwidth": 1,
           "bordercolor": "rgb(17,17,17)",
           "tickwidth": 0
          },
          "mapbox": {
           "style": "dark"
          }
         }
        },
        "xaxis": {
         "anchor": "y",
         "domain": [
          0.0,
          1.0
         ],
         "type": "date"
        },
        "yaxis": {
         "anchor": "x",
         "domain": [
          0.0,
          1.0
         ],
         "title": {
          "text": "row"
         },
         "tickmode": "array",
         "tickvals": [],
         "ticktext": [],
         "autorange": "reversed"
        },
        "legend": {
         "tracegroupgap": 0
        },
        "title": {
         "text": "Scholars' Life Spans Timeline"
        },
        "barmode": "overlay"
       },
       "config": {
        "plotlyServerURL": "https://plot.ly"
       }
      },
      "text/html": "<div>                            <div id=\"55be47cb-91f4-4113-a440-84ef0ea8fe4c\" class=\"plotly-graph-div\" style=\"height:525px; width:100%;\"></div>            <script type=\"text/javascript\">                require([\"plotly\"], function(Plotly) {                    window.PLOTLYENV=window.PLOTLYENV || {};                                    if (document.getElementById(\"55be47cb-91f4-4113-a440-84ef0ea8fe4c\")) {                    Plotly.newPlot(                        \"55be47cb-91f4-4113-a440-84ef0ea8fe4c\",                        [{\"alignmentgroup\":\"True\",\"base\":[\"1857-10-28T00:00:00+00:00\",\"1870-12-14T00:00:00+00:00\",\"1875-04-12T00:00:00+00:00\",\"1877-01-31T00:00:00+00:00\",\"1881-10-11T00:00:00+00:00\",\"1891-11-09T00:00:00+00:00\",\"1898-12-26T00:00:00+00:00\",\"1900-11-17T00:00:00+00:00\",\"1905-11-11T00:00:00+00:00\",\"1925-04-04T00:00:00+00:00\",\"1929-07-17T00:00:00+00:00\",\"1935-12-22T00:00:00+00:00\",\"1936-01-01T00:00:00+00:00\",\"1937-10-09T00:00:00+00:00\",\"1938-10-30T00:00:00+00:00\",\"1944-04-30T00:00:00+00:00\",null,null],\"hovertemplate\":\"dateOfBirth=%{base}\\u003cbr\\u003edateOfDeath=%{x}\\u003cbr\\u003erow=%{y}\\u003cbr\\u003efullName=%{text}\\u003cextra\\u003e\\u003c\\u002fextra\\u003e\",\"legendgroup\":\"\",\"marker\":{\"color\":\"#636efa\",\"pattern\":{\"shape\":\"\"}},\"name\":\"\",\"offsetgroup\":\"\",\"orientation\":\"h\",\"showlegend\":false,\"text\":[\"Ludwig Bendix\",\"Karl Renner\",\"Hugo Sinzheimer\",\"Arthur Nussbaum\",\"Hans Kelsen\",\"Theodor Geiger\",\"Ernst Fraenkel\",\"Otto Kahn-Freund\",\"Otto Kirchheimer\",\"Thilo Ramm\",\"Rudolf Wiethölter\",\"Rüdiger Lautmann\",\"Wolfgang Kaupen\",\"Volkmar Gessner\",\"Erhard Blankenburg\",\"Gunther Teubner\",\"Franz Leopold Neumann\",\"Niklas Luhmann\"],\"textposition\":\"auto\",\"x\":[2080080000000.0,2525990400000.0,2222553600000.0,2770934400000.0,2888092800000.0,1912377600000.0,2406240000000.0,2484950400000.0,1894406400000.0,2941228800000.0,null,null,1420156800000.0,2432505600000.0,2505945600000.0,null,null,null],\"xaxis\":\"x\",\"y\":[0,1,2,3,4,5,6,7,8,0,9,10,11,12,13,14,15,16],\"yaxis\":\"y\",\"type\":\"bar\"}],                        {\"template\":{\"data\":{\"histogram2dcontour\":[{\"type\":\"histogram2dcontour\",\"colorbar\":{\"outlinewidth\":0,\"ticks\":\"\"},\"colorscale\":[[0.0,\"#0d0887\"],[0.1111111111111111,\"#46039f\"],[0.2222222222222222,\"#7201a8\"],[0.3333333333333333,\"#9c179e\"],[0.4444444444444444,\"#bd3786\"],[0.5555555555555556,\"#d8576b\"],[0.6666666666666666,\"#ed7953\"],[0.7777777777777778,\"#fb9f3a\"],[0.8888888888888888,\"#fdca26\"],[1.0,\"#f0f921\"]]}],\"choropleth\":[{\"type\":\"choropleth\",\"colorbar\":{\"outlinewidth\":0,\"ticks\":\"\"}}],\"histogram2d\":[{\"type\":\"histogram2d\",\"colorbar\":{\"outlinewidth\":0,\"ticks\":\"\"},\"colorscale\":[[0.0,\"#0d0887\"],[0.1111111111111111,\"#46039f\"],[0.2222222222222222,\"#7201a8\"],[0.3333333333333333,\"#9c179e\"],[0.4444444444444444,\"#bd3786\"],[0.5555555555555556,\"#d8576b\"],[0.6666666666666666,\"#ed7953\"],[0.7777777777777778,\"#fb9f3a\"],[0.8888888888888888,\"#fdca26\"],[1.0,\"#f0f921\"]]}],\"heatmap\":[{\"type\":\"heatmap\",\"colorbar\":{\"outlinewidth\":0,\"ticks\":\"\"},\"colorscale\":[[0.0,\"#0d0887\"],[0.1111111111111111,\"#46039f\"],[0.2222222222222222,\"#7201a8\"],[0.3333333333333333,\"#9c179e\"],[0.4444444444444444,\"#bd3786\"],[0.5555555555555556,\"#d8576b\"],[0.6666666666666666,\"#ed7953\"],[0.7777777777777778,\"#fb9f3a\"],[0.8888888888888888,\"#fdca26\"],[1.0,\"#f0f921\"]]}],\"heatmapgl\":[{\"type\":\"heatmapgl\",\"colorbar\":{\"outlinewidth\":0,\"ticks\":\"\"},\"colorscale\":[[0.0,\"#0d0887\"],[0.1111111111111111,\"#46039f\"],[0.2222222222222222,\"#7201a8\"],[0.3333333333333333,\"#9c179e\"],[0.4444444444444444,\"#bd3786\"],[0.5555555555555556,\"#d8576b\"],[0.6666666666666666,\"#ed7953\"],[0.7777777777777778,\"#fb9f3a\"],[0.8888888888888888,\"#fdca26\"],[1.0,\"#f0f921\"]]}],\"contourcarpet\":[{\"type\":\"contourcarpet\",\"colorbar\":{\"outlinewidth\":0,\"ticks\":\"\"}}],\"contour\":[{\"type\":\"contour\",\"colorbar\":{\"outlinewidth\":0,\"ticks\":\"\"},\"colorscale\":[[0.0,\"#0d0887\"],[0.1111111111111111,\"#46039f\"],[0.2222222222222222,\"#7201a8\"],[0.3333333333333333,\"#9c179e\"],[0.4444444444444444,\"#bd3786\"],[0.5555555555555556,\"#d8576b\"],[0.6666666666666666,\"#ed7953\"],[0.7777777777777778,\"#fb9f3a\"],[0.8888888888888888,\"#fdca26\"],[1.0,\"#f0f921\"]]}],\"surface\":[{\"type\":\"surface\",\"colorbar\":{\"outlinewidth\":0,\"ticks\":\"\"},\"colorscale\":[[0.0,\"#0d0887\"],[0.1111111111111111,\"#46039f\"],[0.2222222222222222,\"#7201a8\"],[0.3333333333333333,\"#9c179e\"],[0.4444444444444444,\"#bd3786\"],[0.5555555555555556,\"#d8576b\"],[0.6666666666666666,\"#ed7953\"],[0.7777777777777778,\"#fb9f3a\"],[0.8888888888888888,\"#fdca26\"],[1.0,\"#f0f921\"]]}],\"mesh3d\":[{\"type\":\"mesh3d\",\"colorbar\":{\"outlinewidth\":0,\"ticks\":\"\"}}],\"scatter\":[{\"marker\":{\"line\":{\"color\":\"#283442\"}},\"type\":\"scatter\"}],\"parcoords\":[{\"type\":\"parcoords\",\"line\":{\"colorbar\":{\"outlinewidth\":0,\"ticks\":\"\"}}}],\"scatterpolargl\":[{\"type\":\"scatterpolargl\",\"marker\":{\"colorbar\":{\"outlinewidth\":0,\"ticks\":\"\"}}}],\"bar\":[{\"error_x\":{\"color\":\"#f2f5fa\"},\"error_y\":{\"color\":\"#f2f5fa\"},\"marker\":{\"line\":{\"color\":\"rgb(17,17,17)\",\"width\":0.5},\"pattern\":{\"fillmode\":\"overlay\",\"size\":10,\"solidity\":0.2}},\"type\":\"bar\"}],\"scattergeo\":[{\"type\":\"scattergeo\",\"marker\":{\"colorbar\":{\"outlinewidth\":0,\"ticks\":\"\"}}}],\"scatterpolar\":[{\"type\":\"scatterpolar\",\"marker\":{\"colorbar\":{\"outlinewidth\":0,\"ticks\":\"\"}}}],\"histogram\":[{\"marker\":{\"pattern\":{\"fillmode\":\"overlay\",\"size\":10,\"solidity\":0.2}},\"type\":\"histogram\"}],\"scattergl\":[{\"marker\":{\"line\":{\"color\":\"#283442\"}},\"type\":\"scattergl\"}],\"scatter3d\":[{\"type\":\"scatter3d\",\"line\":{\"colorbar\":{\"outlinewidth\":0,\"ticks\":\"\"}},\"marker\":{\"colorbar\":{\"outlinewidth\":0,\"ticks\":\"\"}}}],\"scattermapbox\":[{\"type\":\"scattermapbox\",\"marker\":{\"colorbar\":{\"outlinewidth\":0,\"ticks\":\"\"}}}],\"scatterternary\":[{\"type\":\"scatterternary\",\"marker\":{\"colorbar\":{\"outlinewidth\":0,\"ticks\":\"\"}}}],\"scattercarpet\":[{\"type\":\"scattercarpet\",\"marker\":{\"colorbar\":{\"outlinewidth\":0,\"ticks\":\"\"}}}],\"carpet\":[{\"aaxis\":{\"endlinecolor\":\"#A2B1C6\",\"gridcolor\":\"#506784\",\"linecolor\":\"#506784\",\"minorgridcolor\":\"#506784\",\"startlinecolor\":\"#A2B1C6\"},\"baxis\":{\"endlinecolor\":\"#A2B1C6\",\"gridcolor\":\"#506784\",\"linecolor\":\"#506784\",\"minorgridcolor\":\"#506784\",\"startlinecolor\":\"#A2B1C6\"},\"type\":\"carpet\"}],\"table\":[{\"cells\":{\"fill\":{\"color\":\"#506784\"},\"line\":{\"color\":\"rgb(17,17,17)\"}},\"header\":{\"fill\":{\"color\":\"#2a3f5f\"},\"line\":{\"color\":\"rgb(17,17,17)\"}},\"type\":\"table\"}],\"barpolar\":[{\"marker\":{\"line\":{\"color\":\"rgb(17,17,17)\",\"width\":0.5},\"pattern\":{\"fillmode\":\"overlay\",\"size\":10,\"solidity\":0.2}},\"type\":\"barpolar\"}],\"pie\":[{\"automargin\":true,\"type\":\"pie\"}]},\"layout\":{\"autotypenumbers\":\"strict\",\"colorway\":[\"#636efa\",\"#EF553B\",\"#00cc96\",\"#ab63fa\",\"#FFA15A\",\"#19d3f3\",\"#FF6692\",\"#B6E880\",\"#FF97FF\",\"#FECB52\"],\"font\":{\"color\":\"#f2f5fa\"},\"hovermode\":\"closest\",\"hoverlabel\":{\"align\":\"left\"},\"paper_bgcolor\":\"rgb(17,17,17)\",\"plot_bgcolor\":\"rgb(17,17,17)\",\"polar\":{\"bgcolor\":\"rgb(17,17,17)\",\"angularaxis\":{\"gridcolor\":\"#506784\",\"linecolor\":\"#506784\",\"ticks\":\"\"},\"radialaxis\":{\"gridcolor\":\"#506784\",\"linecolor\":\"#506784\",\"ticks\":\"\"}},\"ternary\":{\"bgcolor\":\"rgb(17,17,17)\",\"aaxis\":{\"gridcolor\":\"#506784\",\"linecolor\":\"#506784\",\"ticks\":\"\"},\"baxis\":{\"gridcolor\":\"#506784\",\"linecolor\":\"#506784\",\"ticks\":\"\"},\"caxis\":{\"gridcolor\":\"#506784\",\"linecolor\":\"#506784\",\"ticks\":\"\"}},\"coloraxis\":{\"colorbar\":{\"outlinewidth\":0,\"ticks\":\"\"}},\"colorscale\":{\"sequential\":[[0.0,\"#0d0887\"],[0.1111111111111111,\"#46039f\"],[0.2222222222222222,\"#7201a8\"],[0.3333333333333333,\"#9c179e\"],[0.4444444444444444,\"#bd3786\"],[0.5555555555555556,\"#d8576b\"],[0.6666666666666666,\"#ed7953\"],[0.7777777777777778,\"#fb9f3a\"],[0.8888888888888888,\"#fdca26\"],[1.0,\"#f0f921\"]],\"sequentialminus\":[[0.0,\"#0d0887\"],[0.1111111111111111,\"#46039f\"],[0.2222222222222222,\"#7201a8\"],[0.3333333333333333,\"#9c179e\"],[0.4444444444444444,\"#bd3786\"],[0.5555555555555556,\"#d8576b\"],[0.6666666666666666,\"#ed7953\"],[0.7777777777777778,\"#fb9f3a\"],[0.8888888888888888,\"#fdca26\"],[1.0,\"#f0f921\"]],\"diverging\":[[0,\"#8e0152\"],[0.1,\"#c51b7d\"],[0.2,\"#de77ae\"],[0.3,\"#f1b6da\"],[0.4,\"#fde0ef\"],[0.5,\"#f7f7f7\"],[0.6,\"#e6f5d0\"],[0.7,\"#b8e186\"],[0.8,\"#7fbc41\"],[0.9,\"#4d9221\"],[1,\"#276419\"]]},\"xaxis\":{\"gridcolor\":\"#283442\",\"linecolor\":\"#506784\",\"ticks\":\"\",\"title\":{\"standoff\":15},\"zerolinecolor\":\"#283442\",\"automargin\":true,\"zerolinewidth\":2},\"yaxis\":{\"gridcolor\":\"#283442\",\"linecolor\":\"#506784\",\"ticks\":\"\",\"title\":{\"standoff\":15},\"zerolinecolor\":\"#283442\",\"automargin\":true,\"zerolinewidth\":2},\"scene\":{\"xaxis\":{\"backgroundcolor\":\"rgb(17,17,17)\",\"gridcolor\":\"#506784\",\"linecolor\":\"#506784\",\"showbackground\":true,\"ticks\":\"\",\"zerolinecolor\":\"#C8D4E3\",\"gridwidth\":2},\"yaxis\":{\"backgroundcolor\":\"rgb(17,17,17)\",\"gridcolor\":\"#506784\",\"linecolor\":\"#506784\",\"showbackground\":true,\"ticks\":\"\",\"zerolinecolor\":\"#C8D4E3\",\"gridwidth\":2},\"zaxis\":{\"backgroundcolor\":\"rgb(17,17,17)\",\"gridcolor\":\"#506784\",\"linecolor\":\"#506784\",\"showbackground\":true,\"ticks\":\"\",\"zerolinecolor\":\"#C8D4E3\",\"gridwidth\":2}},\"shapedefaults\":{\"line\":{\"color\":\"#f2f5fa\"}},\"annotationdefaults\":{\"arrowcolor\":\"#f2f5fa\",\"arrowhead\":0,\"arrowwidth\":1},\"geo\":{\"bgcolor\":\"rgb(17,17,17)\",\"landcolor\":\"rgb(17,17,17)\",\"subunitcolor\":\"#506784\",\"showland\":true,\"showlakes\":true,\"lakecolor\":\"rgb(17,17,17)\"},\"title\":{\"x\":0.05},\"updatemenudefaults\":{\"bgcolor\":\"#506784\",\"borderwidth\":0},\"sliderdefaults\":{\"bgcolor\":\"#C8D4E3\",\"borderwidth\":1,\"bordercolor\":\"rgb(17,17,17)\",\"tickwidth\":0},\"mapbox\":{\"style\":\"dark\"}}},\"xaxis\":{\"anchor\":\"y\",\"domain\":[0.0,1.0],\"type\":\"date\"},\"yaxis\":{\"anchor\":\"x\",\"domain\":[0.0,1.0],\"title\":{\"text\":\"row\"},\"tickmode\":\"array\",\"tickvals\":[],\"ticktext\":[],\"autorange\":\"reversed\"},\"legend\":{\"tracegroupgap\":0},\"title\":{\"text\":\"Scholars' Life Spans Timeline\"},\"barmode\":\"overlay\"},                        {\"responsive\": true}                    ).then(function(){\n                            \nvar gd = document.getElementById('55be47cb-91f4-4113-a440-84ef0ea8fe4c');\nvar x = new MutationObserver(function (mutations, observer) {{\n        var display = window.getComputedStyle(gd).display;\n        if (!display || display === 'none') {{\n            console.log([gd, 'removed!']);\n            Plotly.purge(gd);\n            observer.disconnect();\n        }}\n}});\n\n// Listen for the removal of the full notebook cells\nvar notebookContainer = gd.closest('#notebook-container');\nif (notebookContainer) {{\n    x.observe(notebookContainer, {childList: true});\n}}\n\n// Listen for the clearing of the current output cell\nvar outputEl = gd.closest('.output');\nif (outputEl) {{\n    x.observe(outputEl, {childList: true});\n}}\n\n                        })                };                });            </script>        </div>"
     },
     "metadata": {},
     "output_type": "display_data"
    }
   ],
   "source": [
    "import pandas as pd\n",
    "import plotly.express as px\n",
    "\n",
    "# Assuming df is already loaded and dateOfBirth/dateOfDeath are converted to datetime\n",
    "\n",
    "# Initialize a list to track the last dateOfDeath in each row to manage overlaps\n",
    "last_dates = []\n",
    "\n",
    "# Function to find the appropriate row for each scholar\n",
    "def find_row(last_dates, start_date):\n",
    "    for i, last_date in enumerate(last_dates):\n",
    "        if start_date > last_date:\n",
    "            return i\n",
    "    return len(last_dates)\n",
    "\n",
    "# Assign rows without overlaps and sort by the earliest dateOfBirth\n",
    "df['row'] = 0\n",
    "for index, scholar in df.iterrows():\n",
    "    row = find_row(last_dates, scholar['dateOfBirth'])\n",
    "    if row < len(last_dates):\n",
    "        last_dates[row] = scholar['dateOfDeath']\n",
    "    else:\n",
    "        last_dates.append(scholar['dateOfDeath'])\n",
    "    df.at[index, 'row'] = row\n",
    "\n",
    "# Now plotting without row labels\n",
    "fig = px.timeline(df, x_start=\"dateOfBirth\", x_end=\"dateOfDeath\", y=\"row\", text=\"fullName\", title=\"Scholars' Life Spans Timeline\")\n",
    "\n",
    "# Update layout\n",
    "fig.update_layout(yaxis=dict(tickmode='array', tickvals=[], ticktext=[]))\n",
    "fig.update_yaxes(autorange=\"reversed\")  # This reverses the y-axis to match your requirement\n",
    "\n",
    "fig.show()\n",
    "\n"
   ],
   "metadata": {
    "collapsed": false,
    "ExecuteTime": {
     "end_time": "2024-03-10T19:25:25.126760500Z",
     "start_time": "2024-03-10T19:25:25.076205200Z"
    }
   },
   "id": "9bdf188991f29962"
  },
  {
   "cell_type": "code",
   "execution_count": 44,
   "outputs": [],
   "source": [
    "import pandas as pd\n",
    "from datetime import datetime\n",
    "\n",
    "# Assuming df is your existing DataFrame\n",
    "\n",
    "# Convert dateOfBirth and dateOfDeath to just the year, handle NaT/NaN appropriately\n",
    "df['Year'] = pd.to_datetime(df['dateOfBirth'], errors='coerce').dt.year.astype('Int64')\n",
    "df['End Year'] = pd.to_datetime(df['dateOfDeath'], errors='coerce').dt.year.astype('Int64')\n",
    "\n",
    "# Create 'Display Date' as \"dateOfBirth - dateOfDeath\"\n",
    "df['Display Date'] = df['Year'].astype(str).replace('<NA>','')  + ' - ' + df['End Year'].astype(str).replace('<NA>','')\n",
    "\n",
    "# Create 'Headline' as \"fullName (dateOfBirth - dateOfDeath)\"\n",
    "df['Headline'] = df['fullName'] + ' (' + df['Display Date'] + ')'\n",
    "\n",
    "# Create 'Text' column by combining occupation, fieldOfWork, employer\n",
    "df['Text'] = df[['occupation', 'fieldOfWork']].apply(lambda x: '<br>'.join(x.dropna()), axis=1)\n",
    "\n",
    "# Use the image directly; assuming the URLs are already correctly formed in the 'image' column\n",
    "df['Media'] = df['image']\n",
    "\n",
    "# Add a \"Group\" column with the value \"actors\" for all rows\n",
    "df['Group'] = 'actors'\n",
    "\n",
    "# fix date columns\n",
    "df['Display Date'] = df['Display Date'].fillna('')  # Ensure no NaNs in Display Date\n",
    "df['Headline'] = df['Headline'].fillna('')  # Ensure no NaNs in Headline\n",
    "df['Text'] = df['Text'].fillna('')  # Ensure no NaNs in Text\n",
    "df['Media'] = df['Media'].fillna('')  # Ensure no NaNs in Media\n",
    "\n",
    "# Now select and order the DataFrame according to the TimelineJS template requirements\n",
    "columns = \"Year\tMonth\tDay\tTime\tEnd Year\tEnd Month\tEnd Day\tEnd Time\tDisplay Date\tHeadline\tText\tMedia\tMedia Credit\tMedia Caption\tMedia Thumbnail\tType\tGroup\tBackground\tLink\".split(\"\\t\")\n",
    "for col in columns:\n",
    "    if col not in df:\n",
    "        df[col] = ''\n",
    "timeline_df = df[columns]\n",
    "\n",
    "timeline_df.to_excel(\"timeline_data.xlsx\", index=False)\n"
   ],
   "metadata": {
    "collapsed": false,
    "ExecuteTime": {
     "end_time": "2024-03-06T15:08:24.294712700Z",
     "start_time": "2024-03-06T15:08:24.250520100Z"
    }
   },
   "id": "b8058de7fa9212b"
  },
  {
   "cell_type": "code",
   "execution_count": null,
   "outputs": [],
   "source": [],
   "metadata": {
    "collapsed": false
   },
   "id": "f4b14ea7d4941e57"
  }
 ],
 "metadata": {
  "kernelspec": {
   "display_name": "Python 3",
   "language": "python",
   "name": "python3"
  },
  "language_info": {
   "codemirror_mode": {
    "name": "ipython",
    "version": 2
   },
   "file_extension": ".py",
   "mimetype": "text/x-python",
   "name": "python",
   "nbconvert_exporter": "python",
   "pygments_lexer": "ipython2",
   "version": "2.7.6"
  }
 },
 "nbformat": 4,
 "nbformat_minor": 5
}
