{
 "cells": [
  {
   "cell_type": "code",
   "execution_count": 78,
   "id": "initial_id",
   "metadata": {
    "collapsed": true,
    "ExecuteTime": {
     "end_time": "2024-03-14T08:55:46.227687600Z",
     "start_time": "2024-03-14T08:55:46.202503500Z"
    }
   },
   "outputs": [],
   "source": [
    "import os.path\n",
    "import requests\n",
    "import pandas as pd\n",
    "import textwrap\n",
    "\n",
    "def generate_sparql_query(fullName, property_labels_to_ids, language='en', qid=None):\n",
    "    \"\"\"\n",
    "    Query WikiData for the properties of the given person listed in the given property map,\n",
    "    either by fullName or QID. When a QID is provided, ?itemLabel is not included in the query.\n",
    "    :param fullName: Name of the person to query\n",
    "    :param property_labels_to_ids: Dictionary mapping property labels to WikiData property IDs\n",
    "    :param language: Language code for the query results\n",
    "    :param qid: WikiData entity ID (QID) for the person\n",
    "    :return: SPARQL query string\n",
    "    \"\"\"\n",
    "\n",
    "    if qid:\n",
    "        selectClause = \"SELECT DISTINCT ?item\"\n",
    "        itemConstraint = f\"BIND(wd:{qid} AS ?item).\"\n",
    "        groupByClause = \"GROUP BY ?item\"\n",
    "    else:\n",
    "        selectClause = \"SELECT DISTINCT ?item ?itemLabel\"\n",
    "        itemConstraint = f'?item wdt:P31 wd:Q5; rdfs:label \"{fullName}\"@{language} .'\n",
    "        groupByClause = \"GROUP BY ?item ?itemLabel\"\n",
    "\n",
    "    for label, pid in property_labels_to_ids.items():\n",
    "        # add to property selection\n",
    "        if label.endswith('Name'):\n",
    "            selectClause += f'''\n",
    "                (GROUP_CONCAT(DISTINCT ?{label}Value; separator=\" \") AS ?{label})'''\n",
    "        else:\n",
    "            selectClause += f'''\n",
    "                (SAMPLE(?{label}) AS ?{label})'''\n",
    "\n",
    "        # add to item constraint\n",
    "        if label.endswith(\"_id\") or label.startswith(\"image\") or label.startswith(\"date\"):\n",
    "            itemConstraint += f\"\"\"\n",
    "                OPTIONAL {{ ?item wdt:{pid} ?{label}. }}\"\"\"\n",
    "        elif label.endswith(\"Name\"):\n",
    "            itemConstraint += f\"\"\"\n",
    "                OPTIONAL {{\n",
    "                ?item p:{pid} ?{label}Statement.\n",
    "                    ?{label}Statement ps:{pid} ?{label}.\n",
    "                    OPTIONAL {{ ?{label}Statement pq:P1545 ?order. }}\n",
    "                    OPTIONAL {{\n",
    "                ?{label} rdfs:label ?{label}Label.\n",
    "                      FILTER(LANG(?{label}Label) = \"{language}\")\n",
    "                    }}\n",
    "                    BIND(COALESCE(?{label}Label, STR(?{label})) AS ?{label}Value)\n",
    "                  }}\"\"\"\n",
    "        else:\n",
    "            itemConstraint += f\"\"\"\n",
    "                OPTIONAL {{ ?item wdt:{pid} ?{label}Id . ?{label}Id rdfs:label ?{label} FILTER(LANG(?{label}) = \"{language}\") . }}\"\"\"\n",
    "    \n",
    "    query = textwrap.dedent(f\"\"\"\n",
    "    {selectClause} \n",
    "    WHERE {{\n",
    "        {itemConstraint}\n",
    "    }}\n",
    "    {groupByClause}\n",
    "    \"\"\")\n",
    "\n",
    "    return query\n",
    "\n",
    "\n",
    "def query_wikidata(fullName, property_map, language='en', qid=None, debug=False):\n",
    "    SPARQL_ENDPOINT = \"https://query.wikidata.org/sparql\"\n",
    "    query = generate_sparql_query(fullName, property_map, language, qid=qid)\n",
    "    if debug:\n",
    "        print(query)\n",
    "    headers = {'User-Agent': 'Mozilla/5.0', 'Accept': 'application/json'}\n",
    "    response = requests.get(SPARQL_ENDPOINT, headers=headers, params={'query': query, 'format': 'json'})\n",
    "\n",
    "    if response.status_code != 200:\n",
    "        print(query)\n",
    "        response.raise_for_status()\n",
    "        \n",
    "    results = response.json()['results']['bindings']\n",
    "    \n",
    "    if not results:\n",
    "        return []\n",
    "\n",
    "    for i, result in enumerate(results):\n",
    "        # Initialize with fullName to ensure it appears first\n",
    "        data = {\n",
    "            'fullName': fullName\n",
    "        }\n",
    "   \n",
    "        for label in property_map:\n",
    "            if label in result:\n",
    "                value = result[label]['value']\n",
    "                data[label] = value\n",
    "            else:\n",
    "                data[label] = None\n",
    "                \n",
    "        # add qid and item URI\n",
    "        data['qid'] = os.path.basename(result['item']['value'])\n",
    "        data['wikidata_url'] = result['item']['value']\n",
    "        results[i] = data\n",
    "            \n",
    "    return results\n",
    "\n",
    "def get_wikipedia_links(qid, languages):\n",
    "    \"\"\"\n",
    "    Fetch Wikipedia links for a given Wikidata QID and a list of languages.\n",
    "\n",
    "    Parameters:\n",
    "    - qid (str): The QID of the Wikidata item.\n",
    "    - languages (list): A list of language codes (e.g., ['en', 'de']). \n",
    "\n",
    "    Returns:\n",
    "    - dict: A dictionary with languages as keys and Wikipedia URLs as values.\n",
    "    \"\"\"\n",
    "    url = \"https://www.wikidata.org/w/api.php\"\n",
    "    params = {\n",
    "        \"action\": \"wbgetentities\",\n",
    "        \"ids\": qid,\n",
    "        \"props\": \"sitelinks/urls\",\n",
    "        \"format\": \"json\"\n",
    "    }\n",
    "\n",
    "    response = requests.get(url, params=params)\n",
    "    data = response.json()\n",
    "    links = {}\n",
    "    if \"entities\" in data and qid in data[\"entities\"]:\n",
    "        sitelinks = data[\"entities\"][qid].get(\"sitelinks\", {})\n",
    "        for lang in languages:\n",
    "            sitekey = f\"{lang}wiki\"\n",
    "            if sitekey in sitelinks:\n",
    "                siteLinkData = sitelinks.get(sitekey)\n",
    "                if 'url' in siteLinkData:\n",
    "                    links[lang] = siteLinkData.get('url')\n",
    "                else:\n",
    "                    # Use the 'title' key and construct the URL manually\n",
    "                    title = sitelinks[sitekey][\"title\"]\n",
    "                    links[lang] = f\"https://{lang}.wikipedia.org/wiki/{requests.utils.quote(title)}\"\n",
    "            else:\n",
    "                links[lang] = None  # Or use '' to represent absence of link\n",
    "\n",
    "    return links\n",
    "\n",
    "\n",
    "def get_person_info_from_wikidata(names, property_map, languages=None, debug=False):\n",
    "    if languages is None:\n",
    "        languages = ['en', 'de']\n",
    "    all_data = []\n",
    "    print('Retrieving scholar data...')\n",
    "    for item in names:\n",
    "        if type(item) is tuple:\n",
    "            results = query_wikidata(item[0], property_map, languages[0], qid=item[1], debug=debug)\n",
    "        else:\n",
    "            results = query_wikidata(item, property_map, languages[0], debug=debug)\n",
    "        \n",
    "        all_data += results\n",
    "\n",
    "    # Ensure fullName appears first by reordering columns based on property_labels_to_ids keys\n",
    "    columns = ['fullName', 'qid'] + list(property_map.keys()) + ['wikidata_url'] + [f'wikipedia_{l}' for l in languages]\n",
    "    \n",
    "    if len(all_data) > 0:\n",
    "        df = pd.DataFrame(all_data, columns=columns, dtype=str)\n",
    "        # Add wikipedia links\n",
    "        print(\"Retrieving wikipedia URLs...\")\n",
    "        # For each QID in the DataFrame, fetch Wikipedia links for all languages and update the DataFrame accordingly\n",
    "        for index, row in df.iterrows():\n",
    "            qid = row['qid']\n",
    "            links = get_wikipedia_links(qid, languages)\n",
    "        \n",
    "            # Update the DataFrame directly with the fetched links for each language\n",
    "            for language in languages:\n",
    "                df.at[index, f'wikipedia_{language}'] = links.get(language, None)\n",
    "    else:\n",
    "        df = pd.DataFrame(columns=columns, dtype=str)\n",
    "    return df"
   ]
  },
  {
   "cell_type": "markdown",
   "source": [
    "## Retrieve Data for a given list of scholars"
   ],
   "metadata": {
    "collapsed": false
   },
   "id": "397920a95584f406"
  },
  {
   "cell_type": "code",
   "execution_count": 79,
   "outputs": [
    {
     "name": "stdout",
     "output_type": "stream",
     "text": [
      "Retrieving scholar data...\n",
      "Retrieving wikipedia URLs...\n"
     ]
    },
    {
     "data": {
      "text/plain": "                 fullName         qid sexOrGender   familyName      givenName  \\\n0             Hans Kelsen      Q84165        male       Kelsen           Hans   \n1         Hugo Sinzheimer      Q86043        male   Sinzheimer        Hugo D.   \n2             Karl Renner      Q11726        male       Renner           Karl   \n3          Ernst Fraenkel      Q86812        male     Fraenkel          Ernst   \n4   Franz Leopold Neumann      Q63195        male      Neumann  Leopold Franz   \n5        Otto Kahn-Freund     Q121832        male  Kahn Freund           Otto   \n6        Otto Kirchheimer     Q214397        male  Kirchheimer           Otto   \n7           Ludwig Bendix   Q15449424        male       Bendix         Ludwig   \n8         Arthur Nussbaum     Q103088        male     Nussbaum         Arthur   \n9          Theodor Geiger      Q96410        male       Geiger        Theodor   \n10     Erhard Blankenburg   Q51595283        male  Blankenburg         Erhard   \n11        Wolfgang Kaupen   Q93221485        male                    Wolfgang   \n12       Rüdiger Lautmann      Q91074        male                     Rüdiger   \n13             Thilo Ramm   Q59533838        male         Ramm          Thilo   \n14      Rudolf Wiethölter    Q1512482        male                      Rudolf   \n15         Niklas Luhmann      Q57238        male      Luhmann         Niklas   \n16    Hubert Rottleuthner   Q55622018        male                      Hubert   \n17          Ralf Rogowski  Q112499743        male     Rogowski           Ralf   \n18          Ralf Rogowski   Q20128038        male     Rogowski           Ralf   \n19        Gunther Teubner      Q98304        male      Teubner        Gunther   \n20        Volkmar Gessner   Q15435946        male      Gessner        Volkmar   \n21        Konstanze Plett   Q95192683      female                               \n22         Ute Sacksofsky   Q48562036      female                         Ute   \n23           Susanne Baer     Q101872      female         Baer        Susanne   \n\n                 dateOfBirth               dateOfDeath      gnd_id  \\\n0  1881-10-11 00:00:00+00:00 1973-04-19 00:00:00+00:00   118561219   \n1  1875-01-01 00:00:00+00:00 1945-09-16 00:00:00+00:00   118614711   \n2  1870-12-14 00:00:00+00:00 1950-12-31 00:00:00+00:00   118599739   \n3  1898-12-26 00:00:00+00:00 1975-03-28 00:00:00+00:00   118534602   \n4  1900-05-23 00:00:00+00:00 1954-09-02 00:00:00+00:00   118587293   \n5  1900-11-17 00:00:00+00:00 1979-06-16 00:00:00+00:00   118559362   \n6  1905-11-11 00:00:00+00:00 1965-11-22 00:00:00+00:00   118562371   \n7  1877-06-28 00:00:00+00:00 1954-01-03 00:00:00+00:00   118702033   \n8  1877-01-01 00:00:00+00:00 1964-01-01 00:00:00+00:00   117071676   \n9  1891-11-09 00:00:00+00:00 1952-06-16 00:00:00+00:00   118538187   \n10 1938-10-30 00:00:00+00:00 2018-03-28 00:00:00+00:00   115459235   \n11 1936-01-01 00:00:00+00:00 1981-01-01 00:00:00+00:00   124045405   \n12 1935-12-22 00:00:00+00:00                       NaT   120502208   \n13 1925-04-04 00:00:00+00:00 2018-06-17 00:00:00+00:00   116327391   \n14 1929-07-17 00:00:00+00:00                       NaT  1034437860   \n15 1927-12-08 00:00:00+00:00 1998-11-06 00:00:00+00:00   118575147   \n16 1944-01-01 00:00:00+00:00                       NaT   135622751   \n17 1953-01-01 00:00:00+00:00                       NaT   17150982X   \n18                       NaT                       NaT        None   \n19 1944-04-30 00:00:00+00:00                       NaT   119443562   \n20 1937-10-09 00:00:00+00:00 2014-11-08 00:00:00+00:00   170469328   \n21 1947-01-01 00:00:00+00:00                       NaT   124957048   \n22 1960-01-01 00:00:00+00:00                       NaT   132505746   \n23 1964-02-16 00:00:00+00:00                       NaT   113854161   \n\n                                 wikidata_url  \\\n0       http://www.wikidata.org/entity/Q84165   \n1       http://www.wikidata.org/entity/Q86043   \n2       http://www.wikidata.org/entity/Q11726   \n3       http://www.wikidata.org/entity/Q86812   \n4       http://www.wikidata.org/entity/Q63195   \n5      http://www.wikidata.org/entity/Q121832   \n6      http://www.wikidata.org/entity/Q214397   \n7    http://www.wikidata.org/entity/Q15449424   \n8      http://www.wikidata.org/entity/Q103088   \n9       http://www.wikidata.org/entity/Q96410   \n10   http://www.wikidata.org/entity/Q51595283   \n11   http://www.wikidata.org/entity/Q93221485   \n12      http://www.wikidata.org/entity/Q91074   \n13   http://www.wikidata.org/entity/Q59533838   \n14    http://www.wikidata.org/entity/Q1512482   \n15      http://www.wikidata.org/entity/Q57238   \n16   http://www.wikidata.org/entity/Q55622018   \n17  http://www.wikidata.org/entity/Q112499743   \n18   http://www.wikidata.org/entity/Q20128038   \n19      http://www.wikidata.org/entity/Q98304   \n20   http://www.wikidata.org/entity/Q15435946   \n21   http://www.wikidata.org/entity/Q95192683   \n22   http://www.wikidata.org/entity/Q48562036   \n23     http://www.wikidata.org/entity/Q101872   \n\n                                         wikipedia_en  \\\n0           https://en.wikipedia.org/wiki/Hans_Kelsen   \n1       https://en.wikipedia.org/wiki/Hugo_Sinzheimer   \n2           https://en.wikipedia.org/wiki/Karl_Renner   \n3   https://en.wikipedia.org/wiki/Ernst_Fraenkel_(...   \n4   https://en.wikipedia.org/wiki/Franz_Neumann_(p...   \n5      https://en.wikipedia.org/wiki/Otto_Kahn-Freund   \n6      https://en.wikipedia.org/wiki/Otto_Kirchheimer   \n7                                                None   \n8       https://en.wikipedia.org/wiki/Arthur_Nussbaum   \n9        https://en.wikipedia.org/wiki/Theodor_Geiger   \n10   https://en.wikipedia.org/wiki/Erhard_Blankenburg   \n11                                               None   \n12  https://en.wikipedia.org/wiki/R%C3%BCdiger_Lau...   \n13                                               None   \n14                                               None   \n15       https://en.wikipedia.org/wiki/Niklas_Luhmann   \n16                                               None   \n17                                               None   \n18        https://en.wikipedia.org/wiki/Ralf_Rogowski   \n19      https://en.wikipedia.org/wiki/Gunther_Teubner   \n20      https://en.wikipedia.org/wiki/Volkmar_Gessner   \n21                                               None   \n22                                               None   \n23         https://en.wikipedia.org/wiki/Susanne_Baer   \n\n                                         wikipedia_de  \n0           https://de.wikipedia.org/wiki/Hans_Kelsen  \n1       https://de.wikipedia.org/wiki/Hugo_Sinzheimer  \n2           https://de.wikipedia.org/wiki/Karl_Renner  \n3   https://de.wikipedia.org/wiki/Ernst_Fraenkel_(...  \n4   https://de.wikipedia.org/wiki/Franz_Neumann_(P...  \n5      https://de.wikipedia.org/wiki/Otto_Kahn-Freund  \n6      https://de.wikipedia.org/wiki/Otto_Kirchheimer  \n7         https://de.wikipedia.org/wiki/Ludwig_Bendix  \n8       https://de.wikipedia.org/wiki/Arthur_Nussbaum  \n9        https://de.wikipedia.org/wiki/Theodor_Geiger  \n10   https://de.wikipedia.org/wiki/Erhard_Blankenburg  \n11                                               None  \n12  https://de.wikipedia.org/wiki/R%C3%BCdiger_Lau...  \n13           https://de.wikipedia.org/wiki/Thilo_Ramm  \n14  https://de.wikipedia.org/wiki/Rudolf_Wieth%C3%...  \n15       https://de.wikipedia.org/wiki/Niklas_Luhmann  \n16  https://de.wikipedia.org/wiki/Hubert_Rottleuthner  \n17                                               None  \n18                                               None  \n19      https://de.wikipedia.org/wiki/Gunther_Teubner  \n20      https://de.wikipedia.org/wiki/Volkmar_Gessner  \n21      https://de.wikipedia.org/wiki/Konstanze_Plett  \n22       https://de.wikipedia.org/wiki/Ute_Sacksofsky  \n23         https://de.wikipedia.org/wiki/Susanne_Baer  ",
      "text/html": "<div>\n<style scoped>\n    .dataframe tbody tr th:only-of-type {\n        vertical-align: middle;\n    }\n\n    .dataframe tbody tr th {\n        vertical-align: top;\n    }\n\n    .dataframe thead th {\n        text-align: right;\n    }\n</style>\n<table border=\"1\" class=\"dataframe\">\n  <thead>\n    <tr style=\"text-align: right;\">\n      <th></th>\n      <th>fullName</th>\n      <th>qid</th>\n      <th>sexOrGender</th>\n      <th>familyName</th>\n      <th>givenName</th>\n      <th>dateOfBirth</th>\n      <th>dateOfDeath</th>\n      <th>gnd_id</th>\n      <th>wikidata_url</th>\n      <th>wikipedia_en</th>\n      <th>wikipedia_de</th>\n    </tr>\n  </thead>\n  <tbody>\n    <tr>\n      <th>0</th>\n      <td>Hans Kelsen</td>\n      <td>Q84165</td>\n      <td>male</td>\n      <td>Kelsen</td>\n      <td>Hans</td>\n      <td>1881-10-11 00:00:00+00:00</td>\n      <td>1973-04-19 00:00:00+00:00</td>\n      <td>118561219</td>\n      <td>http://www.wikidata.org/entity/Q84165</td>\n      <td>https://en.wikipedia.org/wiki/Hans_Kelsen</td>\n      <td>https://de.wikipedia.org/wiki/Hans_Kelsen</td>\n    </tr>\n    <tr>\n      <th>1</th>\n      <td>Hugo Sinzheimer</td>\n      <td>Q86043</td>\n      <td>male</td>\n      <td>Sinzheimer</td>\n      <td>Hugo D.</td>\n      <td>1875-01-01 00:00:00+00:00</td>\n      <td>1945-09-16 00:00:00+00:00</td>\n      <td>118614711</td>\n      <td>http://www.wikidata.org/entity/Q86043</td>\n      <td>https://en.wikipedia.org/wiki/Hugo_Sinzheimer</td>\n      <td>https://de.wikipedia.org/wiki/Hugo_Sinzheimer</td>\n    </tr>\n    <tr>\n      <th>2</th>\n      <td>Karl Renner</td>\n      <td>Q11726</td>\n      <td>male</td>\n      <td>Renner</td>\n      <td>Karl</td>\n      <td>1870-12-14 00:00:00+00:00</td>\n      <td>1950-12-31 00:00:00+00:00</td>\n      <td>118599739</td>\n      <td>http://www.wikidata.org/entity/Q11726</td>\n      <td>https://en.wikipedia.org/wiki/Karl_Renner</td>\n      <td>https://de.wikipedia.org/wiki/Karl_Renner</td>\n    </tr>\n    <tr>\n      <th>3</th>\n      <td>Ernst Fraenkel</td>\n      <td>Q86812</td>\n      <td>male</td>\n      <td>Fraenkel</td>\n      <td>Ernst</td>\n      <td>1898-12-26 00:00:00+00:00</td>\n      <td>1975-03-28 00:00:00+00:00</td>\n      <td>118534602</td>\n      <td>http://www.wikidata.org/entity/Q86812</td>\n      <td>https://en.wikipedia.org/wiki/Ernst_Fraenkel_(...</td>\n      <td>https://de.wikipedia.org/wiki/Ernst_Fraenkel_(...</td>\n    </tr>\n    <tr>\n      <th>4</th>\n      <td>Franz Leopold Neumann</td>\n      <td>Q63195</td>\n      <td>male</td>\n      <td>Neumann</td>\n      <td>Leopold Franz</td>\n      <td>1900-05-23 00:00:00+00:00</td>\n      <td>1954-09-02 00:00:00+00:00</td>\n      <td>118587293</td>\n      <td>http://www.wikidata.org/entity/Q63195</td>\n      <td>https://en.wikipedia.org/wiki/Franz_Neumann_(p...</td>\n      <td>https://de.wikipedia.org/wiki/Franz_Neumann_(P...</td>\n    </tr>\n    <tr>\n      <th>5</th>\n      <td>Otto Kahn-Freund</td>\n      <td>Q121832</td>\n      <td>male</td>\n      <td>Kahn Freund</td>\n      <td>Otto</td>\n      <td>1900-11-17 00:00:00+00:00</td>\n      <td>1979-06-16 00:00:00+00:00</td>\n      <td>118559362</td>\n      <td>http://www.wikidata.org/entity/Q121832</td>\n      <td>https://en.wikipedia.org/wiki/Otto_Kahn-Freund</td>\n      <td>https://de.wikipedia.org/wiki/Otto_Kahn-Freund</td>\n    </tr>\n    <tr>\n      <th>6</th>\n      <td>Otto Kirchheimer</td>\n      <td>Q214397</td>\n      <td>male</td>\n      <td>Kirchheimer</td>\n      <td>Otto</td>\n      <td>1905-11-11 00:00:00+00:00</td>\n      <td>1965-11-22 00:00:00+00:00</td>\n      <td>118562371</td>\n      <td>http://www.wikidata.org/entity/Q214397</td>\n      <td>https://en.wikipedia.org/wiki/Otto_Kirchheimer</td>\n      <td>https://de.wikipedia.org/wiki/Otto_Kirchheimer</td>\n    </tr>\n    <tr>\n      <th>7</th>\n      <td>Ludwig Bendix</td>\n      <td>Q15449424</td>\n      <td>male</td>\n      <td>Bendix</td>\n      <td>Ludwig</td>\n      <td>1877-06-28 00:00:00+00:00</td>\n      <td>1954-01-03 00:00:00+00:00</td>\n      <td>118702033</td>\n      <td>http://www.wikidata.org/entity/Q15449424</td>\n      <td>None</td>\n      <td>https://de.wikipedia.org/wiki/Ludwig_Bendix</td>\n    </tr>\n    <tr>\n      <th>8</th>\n      <td>Arthur Nussbaum</td>\n      <td>Q103088</td>\n      <td>male</td>\n      <td>Nussbaum</td>\n      <td>Arthur</td>\n      <td>1877-01-01 00:00:00+00:00</td>\n      <td>1964-01-01 00:00:00+00:00</td>\n      <td>117071676</td>\n      <td>http://www.wikidata.org/entity/Q103088</td>\n      <td>https://en.wikipedia.org/wiki/Arthur_Nussbaum</td>\n      <td>https://de.wikipedia.org/wiki/Arthur_Nussbaum</td>\n    </tr>\n    <tr>\n      <th>9</th>\n      <td>Theodor Geiger</td>\n      <td>Q96410</td>\n      <td>male</td>\n      <td>Geiger</td>\n      <td>Theodor</td>\n      <td>1891-11-09 00:00:00+00:00</td>\n      <td>1952-06-16 00:00:00+00:00</td>\n      <td>118538187</td>\n      <td>http://www.wikidata.org/entity/Q96410</td>\n      <td>https://en.wikipedia.org/wiki/Theodor_Geiger</td>\n      <td>https://de.wikipedia.org/wiki/Theodor_Geiger</td>\n    </tr>\n    <tr>\n      <th>10</th>\n      <td>Erhard Blankenburg</td>\n      <td>Q51595283</td>\n      <td>male</td>\n      <td>Blankenburg</td>\n      <td>Erhard</td>\n      <td>1938-10-30 00:00:00+00:00</td>\n      <td>2018-03-28 00:00:00+00:00</td>\n      <td>115459235</td>\n      <td>http://www.wikidata.org/entity/Q51595283</td>\n      <td>https://en.wikipedia.org/wiki/Erhard_Blankenburg</td>\n      <td>https://de.wikipedia.org/wiki/Erhard_Blankenburg</td>\n    </tr>\n    <tr>\n      <th>11</th>\n      <td>Wolfgang Kaupen</td>\n      <td>Q93221485</td>\n      <td>male</td>\n      <td></td>\n      <td>Wolfgang</td>\n      <td>1936-01-01 00:00:00+00:00</td>\n      <td>1981-01-01 00:00:00+00:00</td>\n      <td>124045405</td>\n      <td>http://www.wikidata.org/entity/Q93221485</td>\n      <td>None</td>\n      <td>None</td>\n    </tr>\n    <tr>\n      <th>12</th>\n      <td>Rüdiger Lautmann</td>\n      <td>Q91074</td>\n      <td>male</td>\n      <td></td>\n      <td>Rüdiger</td>\n      <td>1935-12-22 00:00:00+00:00</td>\n      <td>NaT</td>\n      <td>120502208</td>\n      <td>http://www.wikidata.org/entity/Q91074</td>\n      <td>https://en.wikipedia.org/wiki/R%C3%BCdiger_Lau...</td>\n      <td>https://de.wikipedia.org/wiki/R%C3%BCdiger_Lau...</td>\n    </tr>\n    <tr>\n      <th>13</th>\n      <td>Thilo Ramm</td>\n      <td>Q59533838</td>\n      <td>male</td>\n      <td>Ramm</td>\n      <td>Thilo</td>\n      <td>1925-04-04 00:00:00+00:00</td>\n      <td>2018-06-17 00:00:00+00:00</td>\n      <td>116327391</td>\n      <td>http://www.wikidata.org/entity/Q59533838</td>\n      <td>None</td>\n      <td>https://de.wikipedia.org/wiki/Thilo_Ramm</td>\n    </tr>\n    <tr>\n      <th>14</th>\n      <td>Rudolf Wiethölter</td>\n      <td>Q1512482</td>\n      <td>male</td>\n      <td></td>\n      <td>Rudolf</td>\n      <td>1929-07-17 00:00:00+00:00</td>\n      <td>NaT</td>\n      <td>1034437860</td>\n      <td>http://www.wikidata.org/entity/Q1512482</td>\n      <td>None</td>\n      <td>https://de.wikipedia.org/wiki/Rudolf_Wieth%C3%...</td>\n    </tr>\n    <tr>\n      <th>15</th>\n      <td>Niklas Luhmann</td>\n      <td>Q57238</td>\n      <td>male</td>\n      <td>Luhmann</td>\n      <td>Niklas</td>\n      <td>1927-12-08 00:00:00+00:00</td>\n      <td>1998-11-06 00:00:00+00:00</td>\n      <td>118575147</td>\n      <td>http://www.wikidata.org/entity/Q57238</td>\n      <td>https://en.wikipedia.org/wiki/Niklas_Luhmann</td>\n      <td>https://de.wikipedia.org/wiki/Niklas_Luhmann</td>\n    </tr>\n    <tr>\n      <th>16</th>\n      <td>Hubert Rottleuthner</td>\n      <td>Q55622018</td>\n      <td>male</td>\n      <td></td>\n      <td>Hubert</td>\n      <td>1944-01-01 00:00:00+00:00</td>\n      <td>NaT</td>\n      <td>135622751</td>\n      <td>http://www.wikidata.org/entity/Q55622018</td>\n      <td>None</td>\n      <td>https://de.wikipedia.org/wiki/Hubert_Rottleuthner</td>\n    </tr>\n    <tr>\n      <th>17</th>\n      <td>Ralf Rogowski</td>\n      <td>Q112499743</td>\n      <td>male</td>\n      <td>Rogowski</td>\n      <td>Ralf</td>\n      <td>1953-01-01 00:00:00+00:00</td>\n      <td>NaT</td>\n      <td>17150982X</td>\n      <td>http://www.wikidata.org/entity/Q112499743</td>\n      <td>None</td>\n      <td>None</td>\n    </tr>\n    <tr>\n      <th>18</th>\n      <td>Ralf Rogowski</td>\n      <td>Q20128038</td>\n      <td>male</td>\n      <td>Rogowski</td>\n      <td>Ralf</td>\n      <td>NaT</td>\n      <td>NaT</td>\n      <td>None</td>\n      <td>http://www.wikidata.org/entity/Q20128038</td>\n      <td>https://en.wikipedia.org/wiki/Ralf_Rogowski</td>\n      <td>None</td>\n    </tr>\n    <tr>\n      <th>19</th>\n      <td>Gunther Teubner</td>\n      <td>Q98304</td>\n      <td>male</td>\n      <td>Teubner</td>\n      <td>Gunther</td>\n      <td>1944-04-30 00:00:00+00:00</td>\n      <td>NaT</td>\n      <td>119443562</td>\n      <td>http://www.wikidata.org/entity/Q98304</td>\n      <td>https://en.wikipedia.org/wiki/Gunther_Teubner</td>\n      <td>https://de.wikipedia.org/wiki/Gunther_Teubner</td>\n    </tr>\n    <tr>\n      <th>20</th>\n      <td>Volkmar Gessner</td>\n      <td>Q15435946</td>\n      <td>male</td>\n      <td>Gessner</td>\n      <td>Volkmar</td>\n      <td>1937-10-09 00:00:00+00:00</td>\n      <td>2014-11-08 00:00:00+00:00</td>\n      <td>170469328</td>\n      <td>http://www.wikidata.org/entity/Q15435946</td>\n      <td>https://en.wikipedia.org/wiki/Volkmar_Gessner</td>\n      <td>https://de.wikipedia.org/wiki/Volkmar_Gessner</td>\n    </tr>\n    <tr>\n      <th>21</th>\n      <td>Konstanze Plett</td>\n      <td>Q95192683</td>\n      <td>female</td>\n      <td></td>\n      <td></td>\n      <td>1947-01-01 00:00:00+00:00</td>\n      <td>NaT</td>\n      <td>124957048</td>\n      <td>http://www.wikidata.org/entity/Q95192683</td>\n      <td>None</td>\n      <td>https://de.wikipedia.org/wiki/Konstanze_Plett</td>\n    </tr>\n    <tr>\n      <th>22</th>\n      <td>Ute Sacksofsky</td>\n      <td>Q48562036</td>\n      <td>female</td>\n      <td></td>\n      <td>Ute</td>\n      <td>1960-01-01 00:00:00+00:00</td>\n      <td>NaT</td>\n      <td>132505746</td>\n      <td>http://www.wikidata.org/entity/Q48562036</td>\n      <td>None</td>\n      <td>https://de.wikipedia.org/wiki/Ute_Sacksofsky</td>\n    </tr>\n    <tr>\n      <th>23</th>\n      <td>Susanne Baer</td>\n      <td>Q101872</td>\n      <td>female</td>\n      <td>Baer</td>\n      <td>Susanne</td>\n      <td>1964-02-16 00:00:00+00:00</td>\n      <td>NaT</td>\n      <td>113854161</td>\n      <td>http://www.wikidata.org/entity/Q101872</td>\n      <td>https://en.wikipedia.org/wiki/Susanne_Baer</td>\n      <td>https://de.wikipedia.org/wiki/Susanne_Baer</td>\n    </tr>\n  </tbody>\n</table>\n</div>"
     },
     "execution_count": 79,
     "metadata": {},
     "output_type": "execute_result"
    }
   ],
   "source": [
    "# Now calling the updated function with the 'language' parameter\n",
    "property_labels_to_ids = {\n",
    "    'sexOrGender': 'P21',\n",
    "#    'image': 'P18',\n",
    "#    'countryOfCitizenship': 'P27',\n",
    "    'familyName': 'P734',\n",
    "    'givenName': 'P735',\n",
    "    'dateOfBirth': 'P569',\n",
    "    'dateOfDeath': 'P570',\n",
    "#    'occupation': 'P106',\n",
    "#    'fieldOfWork': 'P101',\n",
    "#    'viaf_id': 'P214',\n",
    "#    'isni_id': 'P213',\n",
    "    'gnd_id': 'P227'\n",
    "}\n",
    "\n",
    "scholars = [\n",
    "    \"Hans Kelsen\",\n",
    "    \"Hugo Sinzheimer\",\n",
    "    (\"Karl Renner\",\"Q11726\"),\n",
    "    (\"Ernst Fraenkel\", \"Q86812\"),\n",
    "    (\"Franz Leopold Neumann\", \"Q63195\"),\n",
    "    \"Otto Kahn-Freund\",\n",
    "    \"Otto Kirchheimer\",\n",
    "    \"Herrmann Kantorowicz\",\n",
    "    (\"Ludwig Bendix\", \"Q15449424\"),\n",
    "    (\"Arthur Nussbaum\", \"Q103088\"),\n",
    "    \"Theodor Geiger\",\n",
    "    \"Erhard Blankenburg\",\n",
    "    \"Wolfgang Kaupen\",\n",
    "    \"Rüdiger Lautmann\",\n",
    "    \"Thilo Ramm\",\n",
    "    \"Rudolf Wiethölter\",\n",
    "    (\"Niklas Luhmann\",\"Q57238\"),\n",
    "    'Hubert Rottleuthner',\n",
    "    'Ralf Rogowski',\n",
    "    \"Gunther Teubner\",\n",
    "    \"Volkmar Gessner\",\n",
    "    \"Konstanze Plett\",\n",
    "    \"Ute Sacksofsky\",\n",
    "    (\"Susanne Baer\",\"Q101872\")\n",
    "]\n",
    "df = get_person_info_from_wikidata(scholars, property_labels_to_ids, debug=False)\n",
    "# Convert date strings to datetime\n",
    "df['dateOfBirth'] = pd.to_datetime(df['dateOfBirth'])\n",
    "df['dateOfDeath'] = pd.to_datetime(df['dateOfDeath'])\n",
    "df.to_csv(\"scholars.csv\", index=False)\n",
    "df"
   ],
   "metadata": {
    "collapsed": false,
    "ExecuteTime": {
     "end_time": "2024-03-14T08:56:20.884808600Z",
     "start_time": "2024-03-14T08:55:49.510655700Z"
    }
   },
   "id": "19ddabbda261cc90"
  },
  {
   "cell_type": "markdown",
   "source": [
    "## Create a list of scholar's QIDs only"
   ],
   "metadata": {
    "collapsed": false
   },
   "id": "b81815a61da16209"
  },
  {
   "cell_type": "code",
   "execution_count": 83,
   "outputs": [],
   "source": [
    "df.copy()[['fullName', 'qid']].to_csv(\"scholars-qid.csv\", index=False)"
   ],
   "metadata": {
    "collapsed": false,
    "ExecuteTime": {
     "end_time": "2024-03-14T09:03:26.160288500Z",
     "start_time": "2024-03-14T09:03:26.141305200Z"
    }
   },
   "id": "4d6da32e2fbc1740"
  },
  {
   "cell_type": "markdown",
   "source": [
    "## Create a clickable list of Wikidata/Wikipedia URLs"
   ],
   "metadata": {
    "collapsed": false
   },
   "id": "d9d0790315730b82"
  },
  {
   "cell_type": "code",
   "execution_count": 76,
   "outputs": [
    {
     "data": {
      "text/plain": "<IPython.core.display.Markdown object>",
      "text/markdown": "|    | fullName              | qid       | familyName   | givenName     | wikidata_url                                                                    | wikipedia_en                                                                                                    | wikipedia_de                                                                                                       |\n|---:|:----------------------|:----------|:-------------|:--------------|:--------------------------------------------------------------------------------|:----------------------------------------------------------------------------------------------------------------|:-------------------------------------------------------------------------------------------------------------------|\n|  0 | Hans Kelsen           | Q84165    | Kelsen       | Hans          | <a target=\"_blank\" href=\"http://www.wikidata.org/entity/Q84165\">Wikidata</a>    | <a target=\"_blank\" href=\"https://en.wikipedia.org/wiki/Hans_Kelsen\">Wikipedia (EN)</a>                          | <a target=\"_blank\" href=\"https://de.wikipedia.org/wiki/Hans_Kelsen\">Wikipedia (DE)</a>                             |\n|  1 | Hugo Sinzheimer       | Q86043    | Sinzheimer   | Hugo D.       | <a target=\"_blank\" href=\"http://www.wikidata.org/entity/Q86043\">Wikidata</a>    | <a target=\"_blank\" href=\"https://en.wikipedia.org/wiki/Hugo_Sinzheimer\">Wikipedia (EN)</a>                      | <a target=\"_blank\" href=\"https://de.wikipedia.org/wiki/Hugo_Sinzheimer\">Wikipedia (DE)</a>                         |\n|  2 | Karl Renner           | Q11726    | Renner       | Karl          | <a target=\"_blank\" href=\"http://www.wikidata.org/entity/Q11726\">Wikidata</a>    | <a target=\"_blank\" href=\"https://en.wikipedia.org/wiki/Karl_Renner\">Wikipedia (EN)</a>                          | <a target=\"_blank\" href=\"https://de.wikipedia.org/wiki/Karl_Renner\">Wikipedia (DE)</a>                             |\n|  3 | Ernst Fraenkel        | Q86812    | Fraenkel     | Ernst         | <a target=\"_blank\" href=\"http://www.wikidata.org/entity/Q86812\">Wikidata</a>    | <a target=\"_blank\" href=\"https://en.wikipedia.org/wiki/Ernst_Fraenkel_(political_scientist)\">Wikipedia (EN)</a> | <a target=\"_blank\" href=\"https://de.wikipedia.org/wiki/Ernst_Fraenkel_(Politikwissenschaftler)\">Wikipedia (DE)</a> |\n|  4 | Franz Leopold Neumann | Q63195    | Neumann      | Leopold Franz | <a target=\"_blank\" href=\"http://www.wikidata.org/entity/Q63195\">Wikidata</a>    | <a target=\"_blank\" href=\"https://en.wikipedia.org/wiki/Franz_Neumann_(political_scientist)\">Wikipedia (EN)</a>  | <a target=\"_blank\" href=\"https://de.wikipedia.org/wiki/Franz_Neumann_(Politikwissenschaftler)\">Wikipedia (DE)</a>  |\n|  5 | Otto Kahn-Freund      | Q121832   | Kahn Freund  | Otto          | <a target=\"_blank\" href=\"http://www.wikidata.org/entity/Q121832\">Wikidata</a>   | <a target=\"_blank\" href=\"https://en.wikipedia.org/wiki/Otto_Kahn-Freund\">Wikipedia (EN)</a>                     | <a target=\"_blank\" href=\"https://de.wikipedia.org/wiki/Otto_Kahn-Freund\">Wikipedia (DE)</a>                        |\n|  6 | Otto Kirchheimer      | Q214397   | Kirchheimer  | Otto          | <a target=\"_blank\" href=\"http://www.wikidata.org/entity/Q214397\">Wikidata</a>   | <a target=\"_blank\" href=\"https://en.wikipedia.org/wiki/Otto_Kirchheimer\">Wikipedia (EN)</a>                     | <a target=\"_blank\" href=\"https://de.wikipedia.org/wiki/Otto_Kirchheimer\">Wikipedia (DE)</a>                        |\n|  7 | Ludwig Bendix         | Q15449424 | Bendix       | Ludwig        | <a target=\"_blank\" href=\"http://www.wikidata.org/entity/Q15449424\">Wikidata</a> | <a target=\"_blank\" href=\"None\">Wikipedia (EN)</a>                                                               | <a target=\"_blank\" href=\"https://de.wikipedia.org/wiki/Ludwig_Bendix\">Wikipedia (DE)</a>                           |\n|  8 | Arthur Nussbaum       | Q103088   | Nussbaum     | Arthur        | <a target=\"_blank\" href=\"http://www.wikidata.org/entity/Q103088\">Wikidata</a>   | <a target=\"_blank\" href=\"https://en.wikipedia.org/wiki/Arthur_Nussbaum\">Wikipedia (EN)</a>                      | <a target=\"_blank\" href=\"https://de.wikipedia.org/wiki/Arthur_Nussbaum\">Wikipedia (DE)</a>                         |\n|  9 | Theodor Geiger        | Q96410    | Geiger       | Theodor       | <a target=\"_blank\" href=\"http://www.wikidata.org/entity/Q96410\">Wikidata</a>    | <a target=\"_blank\" href=\"https://en.wikipedia.org/wiki/Theodor_Geiger\">Wikipedia (EN)</a>                       | <a target=\"_blank\" href=\"https://de.wikipedia.org/wiki/Theodor_Geiger\">Wikipedia (DE)</a>                          |\n| 10 | Erhard Blankenburg    | Q51595283 | Blankenburg  | Erhard        | <a target=\"_blank\" href=\"http://www.wikidata.org/entity/Q51595283\">Wikidata</a> | <a target=\"_blank\" href=\"https://en.wikipedia.org/wiki/Erhard_Blankenburg\">Wikipedia (EN)</a>                   | <a target=\"_blank\" href=\"https://de.wikipedia.org/wiki/Erhard_Blankenburg\">Wikipedia (DE)</a>                      |\n| 11 | Wolfgang Kaupen       | Q93221485 |              | Wolfgang      | <a target=\"_blank\" href=\"http://www.wikidata.org/entity/Q93221485\">Wikidata</a> | <a target=\"_blank\" href=\"None\">Wikipedia (EN)</a>                                                               | <a target=\"_blank\" href=\"None\">Wikipedia (DE)</a>                                                                  |\n| 12 | Rüdiger Lautmann      | Q91074    |              | Rüdiger       | <a target=\"_blank\" href=\"http://www.wikidata.org/entity/Q91074\">Wikidata</a>    | <a target=\"_blank\" href=\"https://en.wikipedia.org/wiki/R%C3%BCdiger_Lautmann\">Wikipedia (EN)</a>                | <a target=\"_blank\" href=\"https://de.wikipedia.org/wiki/R%C3%BCdiger_Lautmann\">Wikipedia (DE)</a>                   |\n| 13 | Thilo Ramm            | Q59533838 | Ramm         | Thilo         | <a target=\"_blank\" href=\"http://www.wikidata.org/entity/Q59533838\">Wikidata</a> | <a target=\"_blank\" href=\"None\">Wikipedia (EN)</a>                                                               | <a target=\"_blank\" href=\"https://de.wikipedia.org/wiki/Thilo_Ramm\">Wikipedia (DE)</a>                              |\n| 14 | Rudolf Wiethölter     | Q1512482  |              | Rudolf        | <a target=\"_blank\" href=\"http://www.wikidata.org/entity/Q1512482\">Wikidata</a>  | <a target=\"_blank\" href=\"None\">Wikipedia (EN)</a>                                                               | <a target=\"_blank\" href=\"https://de.wikipedia.org/wiki/Rudolf_Wieth%C3%B6lter\">Wikipedia (DE)</a>                  |\n| 15 | Niklas Luhmann        | Q57238    | Luhmann      | Niklas        | <a target=\"_blank\" href=\"http://www.wikidata.org/entity/Q57238\">Wikidata</a>    | <a target=\"_blank\" href=\"https://en.wikipedia.org/wiki/Niklas_Luhmann\">Wikipedia (EN)</a>                       | <a target=\"_blank\" href=\"https://de.wikipedia.org/wiki/Niklas_Luhmann\">Wikipedia (DE)</a>                          |\n| 16 | Hubert Rottleuthner   | Q55622018 |              | Hubert        | <a target=\"_blank\" href=\"http://www.wikidata.org/entity/Q55622018\">Wikidata</a> | <a target=\"_blank\" href=\"None\">Wikipedia (EN)</a>                                                               | <a target=\"_blank\" href=\"https://de.wikipedia.org/wiki/Hubert_Rottleuthner\">Wikipedia (DE)</a>                     |\n| 17 | Gunther Teubner       | Q98304    | Teubner      | Gunther       | <a target=\"_blank\" href=\"http://www.wikidata.org/entity/Q98304\">Wikidata</a>    | <a target=\"_blank\" href=\"https://en.wikipedia.org/wiki/Gunther_Teubner\">Wikipedia (EN)</a>                      | <a target=\"_blank\" href=\"https://de.wikipedia.org/wiki/Gunther_Teubner\">Wikipedia (DE)</a>                         |\n| 18 | Volkmar Gessner       | Q15435946 | Gessner      | Volkmar       | <a target=\"_blank\" href=\"http://www.wikidata.org/entity/Q15435946\">Wikidata</a> | <a target=\"_blank\" href=\"https://en.wikipedia.org/wiki/Volkmar_Gessner\">Wikipedia (EN)</a>                      | <a target=\"_blank\" href=\"https://de.wikipedia.org/wiki/Volkmar_Gessner\">Wikipedia (DE)</a>                         |\n| 19 | Konstanze Plett       | Q95192683 |              |               | <a target=\"_blank\" href=\"http://www.wikidata.org/entity/Q95192683\">Wikidata</a> | <a target=\"_blank\" href=\"None\">Wikipedia (EN)</a>                                                               | <a target=\"_blank\" href=\"https://de.wikipedia.org/wiki/Konstanze_Plett\">Wikipedia (DE)</a>                         |\n| 20 | Ute Sacksofsky        | Q48562036 |              | Ute           | <a target=\"_blank\" href=\"http://www.wikidata.org/entity/Q48562036\">Wikidata</a> | <a target=\"_blank\" href=\"None\">Wikipedia (EN)</a>                                                               | <a target=\"_blank\" href=\"https://de.wikipedia.org/wiki/Ute_Sacksofsky\">Wikipedia (DE)</a>                          |\n| 21 | Susanne Baer          | Q101872   | Baer         | Susanne       | <a target=\"_blank\" href=\"http://www.wikidata.org/entity/Q101872\">Wikidata</a>   | <a target=\"_blank\" href=\"https://en.wikipedia.org/wiki/Susanne_Baer\">Wikipedia (EN)</a>                         | <a target=\"_blank\" href=\"https://de.wikipedia.org/wiki/Susanne_Baer\">Wikipedia (DE)</a>                            |"
     },
     "metadata": {},
     "output_type": "display_data"
    }
   ],
   "source": [
    "import pandas as pd\n",
    "from IPython.display import display, Markdown\n",
    "\n",
    "# Function to convert URLs to HTML links\n",
    "def make_clickable(val, name):\n",
    "    return f'<a target=\"_blank\" href=\"{val}\">{name}</a>'\n",
    "\n",
    "# Apply the function to each URL column\n",
    "df_styled = df.copy()[['fullName', 'qid', 'familyName', 'givenName', 'wikidata_url', 'wikipedia_en', 'wikipedia_de' ]]\n",
    "df_styled['wikidata_url'] = df['wikidata_url'].apply(make_clickable, name='Wikidata')\n",
    "df_styled['wikipedia_en'] = df['wikipedia_en'].apply(make_clickable, name='Wikipedia (EN)')\n",
    "df_styled['wikipedia_de'] = df['wikipedia_de'].apply(make_clickable, name='Wikipedia (DE)')\n",
    "\n",
    "# Display the DataFrame as HTML\n",
    "display(Markdown(df_styled.to_markdown()))\n"
   ],
   "metadata": {
    "collapsed": false,
    "ExecuteTime": {
     "end_time": "2024-03-14T08:53:06.819629Z",
     "start_time": "2024-03-14T08:53:06.787707300Z"
    }
   },
   "id": "2d7bdaeed0f38415"
  },
  {
   "cell_type": "code",
   "execution_count": 13,
   "outputs": [
    {
     "ename": "TypeError",
     "evalue": "'>' not supported between instances of 'float' and 'str'",
     "output_type": "error",
     "traceback": [
      "\u001B[1;31m---------------------------------------------------------------------------\u001B[0m",
      "\u001B[1;31mTypeError\u001B[0m                                 Traceback (most recent call last)",
      "Cell \u001B[1;32mIn[13], line 20\u001B[0m\n\u001B[0;32m     18\u001B[0m df[\u001B[38;5;124m'\u001B[39m\u001B[38;5;124mrow\u001B[39m\u001B[38;5;124m'\u001B[39m] \u001B[38;5;241m=\u001B[39m \u001B[38;5;241m0\u001B[39m\n\u001B[0;32m     19\u001B[0m \u001B[38;5;28;01mfor\u001B[39;00m index, scholar \u001B[38;5;129;01min\u001B[39;00m df\u001B[38;5;241m.\u001B[39miterrows():\n\u001B[1;32m---> 20\u001B[0m     row \u001B[38;5;241m=\u001B[39m \u001B[43mfind_row\u001B[49m\u001B[43m(\u001B[49m\u001B[43mlast_dates\u001B[49m\u001B[43m,\u001B[49m\u001B[43m \u001B[49m\u001B[43mscholar\u001B[49m\u001B[43m[\u001B[49m\u001B[38;5;124;43m'\u001B[39;49m\u001B[38;5;124;43mdateOfBirth\u001B[39;49m\u001B[38;5;124;43m'\u001B[39;49m\u001B[43m]\u001B[49m\u001B[43m)\u001B[49m\n\u001B[0;32m     21\u001B[0m     \u001B[38;5;28;01mif\u001B[39;00m row \u001B[38;5;241m<\u001B[39m \u001B[38;5;28mlen\u001B[39m(last_dates):\n\u001B[0;32m     22\u001B[0m         last_dates[row] \u001B[38;5;241m=\u001B[39m scholar[\u001B[38;5;124m'\u001B[39m\u001B[38;5;124mdateOfDeath\u001B[39m\u001B[38;5;124m'\u001B[39m]\n",
      "Cell \u001B[1;32mIn[13], line 13\u001B[0m, in \u001B[0;36mfind_row\u001B[1;34m(last_dates, start_date)\u001B[0m\n\u001B[0;32m     11\u001B[0m \u001B[38;5;28;01mdef\u001B[39;00m \u001B[38;5;21mfind_row\u001B[39m(last_dates, start_date):\n\u001B[0;32m     12\u001B[0m     \u001B[38;5;28;01mfor\u001B[39;00m i, last_date \u001B[38;5;129;01min\u001B[39;00m \u001B[38;5;28menumerate\u001B[39m(last_dates):\n\u001B[1;32m---> 13\u001B[0m         \u001B[38;5;28;01mif\u001B[39;00m \u001B[43mstart_date\u001B[49m\u001B[43m \u001B[49m\u001B[38;5;241;43m>\u001B[39;49m\u001B[43m \u001B[49m\u001B[43mlast_date\u001B[49m:\n\u001B[0;32m     14\u001B[0m             \u001B[38;5;28;01mreturn\u001B[39;00m i\n\u001B[0;32m     15\u001B[0m     \u001B[38;5;28;01mreturn\u001B[39;00m \u001B[38;5;28mlen\u001B[39m(last_dates)\n",
      "\u001B[1;31mTypeError\u001B[0m: '>' not supported between instances of 'float' and 'str'"
     ]
    }
   ],
   "source": [
    "import pandas as pd\n",
    "import plotly.express as px\n",
    "\n",
    "# Load the data\n",
    "df = pd.read_csv(\"scholars.csv\", encoding='utf-8')\n",
    "\n",
    "# Initialize a list to track the last dateOfDeath in each row to manage overlaps\n",
    "last_dates = []\n",
    "\n",
    "# Function to find the appropriate row for each scholar\n",
    "def find_row(last_dates, start_date):\n",
    "    for i, last_date in enumerate(last_dates):\n",
    "        if start_date > last_date:\n",
    "            return i\n",
    "    return len(last_dates)\n",
    "\n",
    "# Assign rows without overlaps and sort by the earliest dateOfBirth\n",
    "df['row'] = 0\n",
    "for index, scholar in df.iterrows():\n",
    "    row = find_row(last_dates, scholar['dateOfBirth'])\n",
    "    if row < len(last_dates):\n",
    "        last_dates[row] = scholar['dateOfDeath']\n",
    "    else:\n",
    "        last_dates.append(scholar['dateOfDeath'])\n",
    "    df.at[index, 'row'] = row\n",
    "\n",
    "# Now plotting without row labels\n",
    "fig = px.timeline(df, x_start=\"dateOfBirth\", x_end=\"dateOfDeath\", y=\"row\", text=\"fullName\", title=\"Scholars' Life Spans Timeline\")\n",
    "\n",
    "# Update layout\n",
    "fig.update_layout(yaxis=dict(tickmode='array', tickvals=[], ticktext=[]))\n",
    "fig.update_yaxes(autorange=\"reversed\")  # This reverses the y-axis to match your requirement\n",
    "\n",
    "fig.show()\n",
    "\n"
   ],
   "metadata": {
    "collapsed": false,
    "ExecuteTime": {
     "end_time": "2024-03-11T22:37:55.002823500Z",
     "start_time": "2024-03-11T22:37:53.483582400Z"
    }
   },
   "id": "9bdf188991f29962"
  },
  {
   "cell_type": "code",
   "execution_count": 44,
   "outputs": [],
   "source": [
    "import pandas as pd\n",
    "from datetime import datetime\n",
    "\n",
    "# Assuming df is your existing DataFrame\n",
    "\n",
    "# Convert dateOfBirth and dateOfDeath to just the year, handle NaT/NaN appropriately\n",
    "df['Year'] = pd.to_datetime(df['dateOfBirth'], errors='coerce').dt.year.astype('Int64')\n",
    "df['End Year'] = pd.to_datetime(df['dateOfDeath'], errors='coerce').dt.year.astype('Int64')\n",
    "\n",
    "# Create 'Display Date' as \"dateOfBirth - dateOfDeath\"\n",
    "df['Display Date'] = df['Year'].astype(str).replace('<NA>','')  + ' - ' + df['End Year'].astype(str).replace('<NA>','')\n",
    "\n",
    "# Create 'Headline' as \"fullName (dateOfBirth - dateOfDeath)\"\n",
    "df['Headline'] = df['fullName'] + ' (' + df['Display Date'] + ')'\n",
    "\n",
    "# Create 'Text' column by combining occupation, fieldOfWork, employer\n",
    "df['Text'] = df[['occupation', 'fieldOfWork']].apply(lambda x: '<br>'.join(x.dropna()), axis=1)\n",
    "\n",
    "# Use the image directly; assuming the URLs are already correctly formed in the 'image' column\n",
    "df['Media'] = df['image']\n",
    "\n",
    "# Add a \"Group\" column with the value \"actors\" for all rows\n",
    "df['Group'] = 'actors'\n",
    "\n",
    "# fix date columns\n",
    "df['Display Date'] = df['Display Date'].fillna('')  # Ensure no NaNs in Display Date\n",
    "df['Headline'] = df['Headline'].fillna('')  # Ensure no NaNs in Headline\n",
    "df['Text'] = df['Text'].fillna('')  # Ensure no NaNs in Text\n",
    "df['Media'] = df['Media'].fillna('')  # Ensure no NaNs in Media\n",
    "\n",
    "# Now select and order the DataFrame according to the TimelineJS template requirements\n",
    "columns = \"Year\tMonth\tDay\tTime\tEnd Year\tEnd Month\tEnd Day\tEnd Time\tDisplay Date\tHeadline\tText\tMedia\tMedia Credit\tMedia Caption\tMedia Thumbnail\tType\tGroup\tBackground\tLink\".split(\"\\t\")\n",
    "for col in columns:\n",
    "    if col not in df:\n",
    "        df[col] = ''\n",
    "timeline_df = df[columns]\n",
    "\n",
    "timeline_df.to_excel(\"timeline_data.xlsx\", index=False)\n"
   ],
   "metadata": {
    "collapsed": false,
    "ExecuteTime": {
     "end_time": "2024-03-06T15:08:24.294712700Z",
     "start_time": "2024-03-06T15:08:24.250520100Z"
    }
   },
   "id": "b8058de7fa9212b"
  },
  {
   "cell_type": "code",
   "execution_count": null,
   "outputs": [],
   "source": [],
   "metadata": {
    "collapsed": false
   },
   "id": "f4b14ea7d4941e57"
  }
 ],
 "metadata": {
  "kernelspec": {
   "display_name": "Python 3",
   "language": "python",
   "name": "python3"
  },
  "language_info": {
   "codemirror_mode": {
    "name": "ipython",
    "version": 2
   },
   "file_extension": ".py",
   "mimetype": "text/x-python",
   "name": "python",
   "nbconvert_exporter": "python",
   "pygments_lexer": "ipython2",
   "version": "2.7.6"
  }
 },
 "nbformat": 4,
 "nbformat_minor": 5
}
