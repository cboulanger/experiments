{
 "cells": [
  {
   "cell_type": "code",
   "execution_count": 1,
   "id": "e46d0648c1c6c96a",
   "metadata": {
    "collapsed": true,
    "ExecuteTime": {
     "end_time": "2024-01-16T18:51:39.319347300Z",
     "start_time": "2024-01-16T18:51:32.944085Z"
    }
   },
   "outputs": [],
   "source": [
    "import io\n",
    "from langchain_core.prompts import ChatPromptTemplate\n",
    "from langchain_openai import ChatOpenAI\n",
    "from langchain_core.output_parsers import StrOutputParser\n",
    "import pandas as pd\n",
    "from dotenv import load_dotenv\n",
    "\n",
    "load_dotenv()\n",
    "\n",
    "def response_to_df(response):\n",
    "    data = io.StringIO(response)\n",
    "    try:\n",
    "        return pd.read_csv(data)\n",
    "    except:\n",
    "        raise RuntimeError(f\"Error while parsing response:\\n{response}\")\n",
    "\n",
    "def use_model(model, template, **params):\n",
    "    prompt = ChatPromptTemplate.from_template(template)\n",
    "    chain = (\n",
    "            prompt\n",
    "            | model\n",
    "            | StrOutputParser()\n",
    "    )\n",
    "    return response_to_df(chain.invoke(params))\n",
    "\n",
    "template = \"\"\"\n",
    "Finde im folgenden Webseiten-Text die Herausgeber, Redaktion/Schriftleitung und Beirat der Zeitschrift '{journal_name}' und gebe sie im CSV-Format zurück mit den Spalten 'lastname', 'firstname', 'title', 'position', 'affiliation','role'. Die Spalte 'role' enthält entweder 'Herausgeber', 'Redaktion', 'Beirat', 'Schriftleitung' oder ist leer wenn nicht bestimmbar.Wenn die Zeitschrift von einer juristischen Person (Verein, Universität, Institut etc.) herausgegeben wird, gebe den Namen der Institution in der Spalte 'lastname' an. Wenn keine passenden Informationen verfügbar sind, gebe nur den CSV-Header zurück. Setze alle Werte in den CSV-Spalten in Anführungszeichen. Antworte ohne zusätzlichen Kommentar, sondern nur mit den CSV-Daten.\n",
    "\n",
    "{website_text}\n",
    "\"\"\"\n",
    "\n",
    "with open('data/input/journal-website.txt', encoding='utf-8') as f:\n",
    "    website_text = f.read()\n",
    "journal_name = \"AUR - Agrar- und Umweltrecht\""
   ]
  },
  {
   "cell_type": "markdown",
   "source": [
    "## ChatGPT-4 \n",
    "\n",
    "see [result](data/output/editors-openai-gpt-4.csv)"
   ],
   "metadata": {
    "collapsed": false
   },
   "id": "8f994c771cc9b4ef"
  },
  {
   "cell_type": "code",
   "execution_count": 14,
   "outputs": [
    {
     "data": {
      "text/plain": "                                lastname      firstname      title  \\\n0   Deutsche Gesellschaft für Agrarrecht            NaN        NaN   \n1                                  Busse      Christian        Dr.   \n2                                 Endres          Ewald  Prof. Dr.   \n3                               Francois       Matthias        Dr.   \n4                          von Garmissen          Bernd        Dr.   \n5                                   Glas           Ingo        Dr.   \n6                                   Graß     Christiane        NaN   \n7                             Haarstrich           Jens        NaN   \n8                                   Koch          Erich        Dr.   \n9                                   Köpl      Christian        Dr.   \n10                              Martinez           Jose  Prof. Dr.   \n11                                  Nies        Volkmar        NaN   \n12                              Stephany           Ralf        NaN   \n13                             Wedemeyer         Harald        NaN   \n14     Institut für Landwirtschaftsrecht            NaN        NaN   \n15                              Martinez           José  Prof. Dr.   \n16                                  Nies        Volkmar        LLD   \n17                                Schell  Irina Valeska        NaN   \n\n                        position  \\\n0                            NaN   \n1             Regierungsdirektor   \n2                            NaN   \n3                   Rechtsanwalt   \n4                   Rechtsanwalt   \n5                   Rechtsanwalt   \n6                 Rechtsanwältin   \n7                   Rechtsanwalt   \n8       Ltd. Verwaltungsdirektor   \n9                 Ministerialrat   \n10                           NaN   \n11  Ltd. Landwirtschaftsdirektor   \n12    Rechtsanwalt/Steuerberater   \n13                  Rechtsanwalt   \n14                           NaN   \n15          Erster Schriftleiter   \n16         Zweiter Schriftleiter   \n17  Assistenz der Schriftleitung   \n\n                                          affiliation            role  \n0                                                 NaN     Herausgeber  \n1   Bundesministerium für Ernährung und Landwirtsc...       Redaktion  \n2        Hochschule Weihenstephan-Triesdorf, Freising       Redaktion  \n3                                                 NaN       Redaktion  \n4                                                 NaN       Redaktion  \n5                                                 NaN       Redaktion  \n6                                                 NaN       Redaktion  \n7                                                 NaN       Redaktion  \n8   Sozialversicherung für Landwirtschaft, Forsten...       Redaktion  \n9   Bayerisches Staatsministerium für Ernährung, L...       Redaktion  \n10  Institut für Landwirtschaftsrecht, Georg-Augus...       Redaktion  \n11                    Landwirtschaftskammer NRW, Bonn       Redaktion  \n12                                                NaN       Redaktion  \n13                   Landvolk Niedersachsen, Hannover       Redaktion  \n14                                                NaN  Schriftleitung  \n15                  Institut für Landwirtschaftsrecht  Schriftleitung  \n16                                                NaN  Schriftleitung  \n17                                                NaN  Schriftleitung  ",
      "text/html": "<div>\n<style scoped>\n    .dataframe tbody tr th:only-of-type {\n        vertical-align: middle;\n    }\n\n    .dataframe tbody tr th {\n        vertical-align: top;\n    }\n\n    .dataframe thead th {\n        text-align: right;\n    }\n</style>\n<table border=\"1\" class=\"dataframe\">\n  <thead>\n    <tr style=\"text-align: right;\">\n      <th></th>\n      <th>lastname</th>\n      <th>firstname</th>\n      <th>title</th>\n      <th>position</th>\n      <th>affiliation</th>\n      <th>role</th>\n    </tr>\n  </thead>\n  <tbody>\n    <tr>\n      <th>0</th>\n      <td>Deutsche Gesellschaft für Agrarrecht</td>\n      <td>NaN</td>\n      <td>NaN</td>\n      <td>NaN</td>\n      <td>NaN</td>\n      <td>Herausgeber</td>\n    </tr>\n    <tr>\n      <th>1</th>\n      <td>Busse</td>\n      <td>Christian</td>\n      <td>Dr.</td>\n      <td>Regierungsdirektor</td>\n      <td>Bundesministerium für Ernährung und Landwirtsc...</td>\n      <td>Redaktion</td>\n    </tr>\n    <tr>\n      <th>2</th>\n      <td>Endres</td>\n      <td>Ewald</td>\n      <td>Prof. Dr.</td>\n      <td>NaN</td>\n      <td>Hochschule Weihenstephan-Triesdorf, Freising</td>\n      <td>Redaktion</td>\n    </tr>\n    <tr>\n      <th>3</th>\n      <td>Francois</td>\n      <td>Matthias</td>\n      <td>Dr.</td>\n      <td>Rechtsanwalt</td>\n      <td>NaN</td>\n      <td>Redaktion</td>\n    </tr>\n    <tr>\n      <th>4</th>\n      <td>von Garmissen</td>\n      <td>Bernd</td>\n      <td>Dr.</td>\n      <td>Rechtsanwalt</td>\n      <td>NaN</td>\n      <td>Redaktion</td>\n    </tr>\n    <tr>\n      <th>5</th>\n      <td>Glas</td>\n      <td>Ingo</td>\n      <td>Dr.</td>\n      <td>Rechtsanwalt</td>\n      <td>NaN</td>\n      <td>Redaktion</td>\n    </tr>\n    <tr>\n      <th>6</th>\n      <td>Graß</td>\n      <td>Christiane</td>\n      <td>NaN</td>\n      <td>Rechtsanwältin</td>\n      <td>NaN</td>\n      <td>Redaktion</td>\n    </tr>\n    <tr>\n      <th>7</th>\n      <td>Haarstrich</td>\n      <td>Jens</td>\n      <td>NaN</td>\n      <td>Rechtsanwalt</td>\n      <td>NaN</td>\n      <td>Redaktion</td>\n    </tr>\n    <tr>\n      <th>8</th>\n      <td>Koch</td>\n      <td>Erich</td>\n      <td>Dr.</td>\n      <td>Ltd. Verwaltungsdirektor</td>\n      <td>Sozialversicherung für Landwirtschaft, Forsten...</td>\n      <td>Redaktion</td>\n    </tr>\n    <tr>\n      <th>9</th>\n      <td>Köpl</td>\n      <td>Christian</td>\n      <td>Dr.</td>\n      <td>Ministerialrat</td>\n      <td>Bayerisches Staatsministerium für Ernährung, L...</td>\n      <td>Redaktion</td>\n    </tr>\n    <tr>\n      <th>10</th>\n      <td>Martinez</td>\n      <td>Jose</td>\n      <td>Prof. Dr.</td>\n      <td>NaN</td>\n      <td>Institut für Landwirtschaftsrecht, Georg-Augus...</td>\n      <td>Redaktion</td>\n    </tr>\n    <tr>\n      <th>11</th>\n      <td>Nies</td>\n      <td>Volkmar</td>\n      <td>NaN</td>\n      <td>Ltd. Landwirtschaftsdirektor</td>\n      <td>Landwirtschaftskammer NRW, Bonn</td>\n      <td>Redaktion</td>\n    </tr>\n    <tr>\n      <th>12</th>\n      <td>Stephany</td>\n      <td>Ralf</td>\n      <td>NaN</td>\n      <td>Rechtsanwalt/Steuerberater</td>\n      <td>NaN</td>\n      <td>Redaktion</td>\n    </tr>\n    <tr>\n      <th>13</th>\n      <td>Wedemeyer</td>\n      <td>Harald</td>\n      <td>NaN</td>\n      <td>Rechtsanwalt</td>\n      <td>Landvolk Niedersachsen, Hannover</td>\n      <td>Redaktion</td>\n    </tr>\n    <tr>\n      <th>14</th>\n      <td>Institut für Landwirtschaftsrecht</td>\n      <td>NaN</td>\n      <td>NaN</td>\n      <td>NaN</td>\n      <td>NaN</td>\n      <td>Schriftleitung</td>\n    </tr>\n    <tr>\n      <th>15</th>\n      <td>Martinez</td>\n      <td>José</td>\n      <td>Prof. Dr.</td>\n      <td>Erster Schriftleiter</td>\n      <td>Institut für Landwirtschaftsrecht</td>\n      <td>Schriftleitung</td>\n    </tr>\n    <tr>\n      <th>16</th>\n      <td>Nies</td>\n      <td>Volkmar</td>\n      <td>LLD</td>\n      <td>Zweiter Schriftleiter</td>\n      <td>NaN</td>\n      <td>Schriftleitung</td>\n    </tr>\n    <tr>\n      <th>17</th>\n      <td>Schell</td>\n      <td>Irina Valeska</td>\n      <td>NaN</td>\n      <td>Assistenz der Schriftleitung</td>\n      <td>NaN</td>\n      <td>Schriftleitung</td>\n    </tr>\n  </tbody>\n</table>\n</div>"
     },
     "execution_count": 14,
     "metadata": {},
     "output_type": "execute_result"
    }
   ],
   "source": [
    "model = ChatOpenAI(model_name=\"gpt-4\")\n",
    "df = use_model(model, template, journal_name=journal_name, website_text=website_text)\n",
    "df.to_csv('data/output/editors-openai-gpt-4.csv')\n",
    "df"
   ],
   "metadata": {
    "collapsed": false,
    "ExecuteTime": {
     "start_time": "2024-01-16T17:24:51.851287400Z"
    }
   },
   "id": "initial_id"
  },
  {
   "cell_type": "markdown",
   "source": [
    "## ChatGPT 3.5-turbo\n",
    "\n",
    "see [result](data/output/editors-openai-gpt-3.5-turbo.csv)\n"
   ],
   "metadata": {
    "collapsed": false
   },
   "id": "9cef77bb17d57b53"
  },
  {
   "cell_type": "code",
   "execution_count": 15,
   "outputs": [
    {
     "data": {
      "text/plain": "                                lastname      firstname          title  \\\n0   Deutsche Gesellschaft für Agrarrecht                                 \n1                     Regierungsdirektor  Dr. Christian                  \n2                              Prof. Dr.          Ewald                  \n3                           Rechtsanwalt   Dr. Matthias                  \n4                           Rechtsanwalt      Dr. Bernd  von Garmissen   \n5                           Rechtsanwalt           Ingo                  \n6                         Rechtsanwältin     Christiane                  \n7                           Rechtsanwalt           Jens                  \n8               Ltd. Verwaltungsdirektor      Dr. Erich                  \n9                         Ministerialrat  Dr. Christian                  \n10                             Prof. Dr.           Jose                  \n11          Ltd. Landwirtschaftsdirektor        Volkmar                  \n12            Rechtsanwalt/Steuerberater           Ralf                  \n13                          Rechtsanwalt         Harald                  \n14                             Prof. Dr.           José                  \n15                                   LLD        Volkmar                  \n16                         Irina Valeska         Schell                  \n\n                        position  \\\n0                    Herausgeber   \n1                      Redaktion   \n2                      Redaktion   \n3                      Redaktion   \n4                      Redaktion   \n5                      Redaktion   \n6                      Redaktion   \n7                      Redaktion   \n8                      Redaktion   \n9                      Redaktion   \n10                     Redaktion   \n11                     Redaktion   \n12                     Redaktion   \n13                     Redaktion   \n14                Schriftleitung   \n15                Schriftleitung   \n16  Assistenz der Schriftleitung   \n\n                                          affiliation role  \n0                                                           \n1   Bundesministerium für Ernährung und Landwirtsc...       \n2        Hochschule Weihenstephan-Triesdorf, Freising       \n3                                             Bitburg       \n4                                           Göttingen       \n5                                             Rostock       \n6                                                Bonn       \n7                                               Peine       \n8   Sozialversicherung für Landwirtschaft, Forsten...       \n9   Bayerisches Staatsministerium für Ernährung, L...       \n10  Institut für Landwirtschaftsrecht, Georg-Augus...       \n11                    Landwirtschaftskammer NRW, Bonn       \n12                                               Bonn       \n13                   Landvolk Niedersachsen, Hannover       \n14                  Institut für Landwirtschaftsrecht       \n15                                                          \n16                                                          ",
      "text/html": "<div>\n<style scoped>\n    .dataframe tbody tr th:only-of-type {\n        vertical-align: middle;\n    }\n\n    .dataframe tbody tr th {\n        vertical-align: top;\n    }\n\n    .dataframe thead th {\n        text-align: right;\n    }\n</style>\n<table border=\"1\" class=\"dataframe\">\n  <thead>\n    <tr style=\"text-align: right;\">\n      <th></th>\n      <th>lastname</th>\n      <th>firstname</th>\n      <th>title</th>\n      <th>position</th>\n      <th>affiliation</th>\n      <th>role</th>\n    </tr>\n  </thead>\n  <tbody>\n    <tr>\n      <th>0</th>\n      <td>Deutsche Gesellschaft für Agrarrecht</td>\n      <td></td>\n      <td></td>\n      <td>Herausgeber</td>\n      <td></td>\n      <td></td>\n    </tr>\n    <tr>\n      <th>1</th>\n      <td>Regierungsdirektor</td>\n      <td>Dr. Christian</td>\n      <td></td>\n      <td>Redaktion</td>\n      <td>Bundesministerium für Ernährung und Landwirtsc...</td>\n      <td></td>\n    </tr>\n    <tr>\n      <th>2</th>\n      <td>Prof. Dr.</td>\n      <td>Ewald</td>\n      <td></td>\n      <td>Redaktion</td>\n      <td>Hochschule Weihenstephan-Triesdorf, Freising</td>\n      <td></td>\n    </tr>\n    <tr>\n      <th>3</th>\n      <td>Rechtsanwalt</td>\n      <td>Dr. Matthias</td>\n      <td></td>\n      <td>Redaktion</td>\n      <td>Bitburg</td>\n      <td></td>\n    </tr>\n    <tr>\n      <th>4</th>\n      <td>Rechtsanwalt</td>\n      <td>Dr. Bernd</td>\n      <td>von Garmissen</td>\n      <td>Redaktion</td>\n      <td>Göttingen</td>\n      <td></td>\n    </tr>\n    <tr>\n      <th>5</th>\n      <td>Rechtsanwalt</td>\n      <td>Ingo</td>\n      <td></td>\n      <td>Redaktion</td>\n      <td>Rostock</td>\n      <td></td>\n    </tr>\n    <tr>\n      <th>6</th>\n      <td>Rechtsanwältin</td>\n      <td>Christiane</td>\n      <td></td>\n      <td>Redaktion</td>\n      <td>Bonn</td>\n      <td></td>\n    </tr>\n    <tr>\n      <th>7</th>\n      <td>Rechtsanwalt</td>\n      <td>Jens</td>\n      <td></td>\n      <td>Redaktion</td>\n      <td>Peine</td>\n      <td></td>\n    </tr>\n    <tr>\n      <th>8</th>\n      <td>Ltd. Verwaltungsdirektor</td>\n      <td>Dr. Erich</td>\n      <td></td>\n      <td>Redaktion</td>\n      <td>Sozialversicherung für Landwirtschaft, Forsten...</td>\n      <td></td>\n    </tr>\n    <tr>\n      <th>9</th>\n      <td>Ministerialrat</td>\n      <td>Dr. Christian</td>\n      <td></td>\n      <td>Redaktion</td>\n      <td>Bayerisches Staatsministerium für Ernährung, L...</td>\n      <td></td>\n    </tr>\n    <tr>\n      <th>10</th>\n      <td>Prof. Dr.</td>\n      <td>Jose</td>\n      <td></td>\n      <td>Redaktion</td>\n      <td>Institut für Landwirtschaftsrecht, Georg-Augus...</td>\n      <td></td>\n    </tr>\n    <tr>\n      <th>11</th>\n      <td>Ltd. Landwirtschaftsdirektor</td>\n      <td>Volkmar</td>\n      <td></td>\n      <td>Redaktion</td>\n      <td>Landwirtschaftskammer NRW, Bonn</td>\n      <td></td>\n    </tr>\n    <tr>\n      <th>12</th>\n      <td>Rechtsanwalt/Steuerberater</td>\n      <td>Ralf</td>\n      <td></td>\n      <td>Redaktion</td>\n      <td>Bonn</td>\n      <td></td>\n    </tr>\n    <tr>\n      <th>13</th>\n      <td>Rechtsanwalt</td>\n      <td>Harald</td>\n      <td></td>\n      <td>Redaktion</td>\n      <td>Landvolk Niedersachsen, Hannover</td>\n      <td></td>\n    </tr>\n    <tr>\n      <th>14</th>\n      <td>Prof. Dr.</td>\n      <td>José</td>\n      <td></td>\n      <td>Schriftleitung</td>\n      <td>Institut für Landwirtschaftsrecht</td>\n      <td></td>\n    </tr>\n    <tr>\n      <th>15</th>\n      <td>LLD</td>\n      <td>Volkmar</td>\n      <td></td>\n      <td>Schriftleitung</td>\n      <td></td>\n      <td></td>\n    </tr>\n    <tr>\n      <th>16</th>\n      <td>Irina Valeska</td>\n      <td>Schell</td>\n      <td></td>\n      <td>Assistenz der Schriftleitung</td>\n      <td></td>\n      <td></td>\n    </tr>\n  </tbody>\n</table>\n</div>"
     },
     "execution_count": 15,
     "metadata": {},
     "output_type": "execute_result"
    }
   ],
   "source": [
    "model = ChatOpenAI(model_name=\"gpt-3.5-turbo\")\n",
    "df = use_model(model, template, journal_name=journal_name, website_text=website_text)\n",
    "df.to_csv('data/output/editors-openai-gpt-3.5-turbo.csv')\n",
    "df"
   ],
   "metadata": {
    "collapsed": false,
    "ExecuteTime": {
     "end_time": "2024-01-16T17:26:16.567722400Z",
     "start_time": "2024-01-16T17:25:56.403589200Z"
    }
   },
   "id": "e1aedc5ef3cab564"
  },
  {
   "cell_type": "markdown",
   "source": [
    "## TheBloke/Llama-2-13B-chat-GPTQ via Huggingface Inference Endpoint\n",
    "\n",
    "https://huggingface.co/TheBloke/Llama-2-13B-chat-GPTQ"
   ],
   "metadata": {
    "collapsed": false
   },
   "id": "90ce37abf037e19f"
  },
  {
   "cell_type": "code",
   "execution_count": 2,
   "outputs": [
    {
     "data": {
      "text/plain": "['',\n 'Martinez,José,Professor',\n 'Busse,Regierungsdirektor',\n 'Ewald,Endres,Forst,Jurist',\n 'Glas,VolkmarNies,Koch',\n '',\n '',\n 'Note: Some positions have been omitted as they are not explicitly mentioned in the text.']"
     },
     "execution_count": 2,
     "metadata": {},
     "output_type": "execute_result"
    }
   ],
   "source": [
    "from lib.hf_llama2_13b_chat import query\n",
    "\n",
    "lines = query(template, journal_name=journal_name, website_text=website_text).split(\"\\n\")[4:]\n",
    "lines"
   ],
   "metadata": {
    "collapsed": false,
    "ExecuteTime": {
     "end_time": "2024-01-16T18:51:42.730907700Z",
     "start_time": "2024-01-16T18:51:39.319347300Z"
    }
   },
   "id": "f05098a4cf2aa3dc"
  },
  {
   "cell_type": "code",
   "execution_count": null,
   "outputs": [],
   "source": [],
   "metadata": {
    "collapsed": false
   },
   "id": "b94cf62b996bf3a2"
  }
 ],
 "metadata": {
  "kernelspec": {
   "display_name": "Python 3",
   "language": "python",
   "name": "python3"
  },
  "language_info": {
   "codemirror_mode": {
    "name": "ipython",
    "version": 2
   },
   "file_extension": ".py",
   "mimetype": "text/x-python",
   "name": "python",
   "nbconvert_exporter": "python",
   "pygments_lexer": "ipython2",
   "version": "2.7.6"
  }
 },
 "nbformat": 4,
 "nbformat_minor": 5
}
