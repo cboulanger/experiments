{
 "cells": [
  {
   "cell_type": "markdown",
   "source": [
    "# Test Rocket.Chat API\n",
    "\n",
    "\n",
    "Die Room-ID sollten Sie über die API zur Auflistung aller Channel finden können (https://developer.rocket.chat/reference/api/rest-api/endpoints/rooms/channels-endpoints/get-channel-list), was aber eine riesige Liste produzieren kann, wenn dort auch die öffentlichen Channel dabei sind.\n",
    "\n",
    "Alternativ geht wahrscheinlich auch folgende API, wo Sie den Channel über den Namen finden können:\n",
    "https://developer.rocket.chat/reference/api/rest-api/endpoints/rooms/channels-endpoints/get-channel-information."
   ],
   "metadata": {
    "collapsed": false
   },
   "id": "8dbec4364449c97"
  },
  {
   "cell_type": "code",
   "execution_count": null,
   "outputs": [],
   "source": [],
   "metadata": {
    "collapsed": false
   },
   "id": "5582dd8b2d35827"
  },
  {
   "cell_type": "markdown",
   "source": [],
   "metadata": {
    "collapsed": false
   },
   "id": "ffb79729d8b046cd"
  }
 ],
 "metadata": {
  "kernelspec": {
   "display_name": "Python 3",
   "language": "python",
   "name": "python3"
  },
  "language_info": {
   "codemirror_mode": {
    "name": "ipython",
    "version": 2
   },
   "file_extension": ".py",
   "mimetype": "text/x-python",
   "name": "python",
   "nbconvert_exporter": "python",
   "pygments_lexer": "ipython2",
   "version": "2.7.6"
  }
 },
 "nbformat": 4,
 "nbformat_minor": 5
}
